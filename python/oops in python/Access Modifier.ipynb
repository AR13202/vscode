{
 "cells": [
  {
   "cell_type": "code",
   "execution_count": 6,
   "id": "77eb3887",
   "metadata": {},
   "outputs": [],
   "source": [
    "class Student:\n",
    "    def __init__(self,name,age):\n",
    "        self.__name = name\n",
    "        self.age =age\n",
    "        \n",
    "    def getname(self):\n",
    "        return self.__name\n",
    "\n",
    "    def setname(self,name):\n",
    "        self.__name = name\n",
    "    \n",
    "s1 = Student('Mohit',20)"
   ]
  },
  {
   "cell_type": "code",
   "execution_count": 7,
   "id": "34a5447e",
   "metadata": {},
   "outputs": [
    {
     "ename": "AttributeError",
     "evalue": "'Student' object has no attribute 'name'",
     "output_type": "error",
     "traceback": [
      "\u001b[1;31m---------------------------------------------------------------------------\u001b[0m",
      "\u001b[1;31mAttributeError\u001b[0m                            Traceback (most recent call last)",
      "\u001b[1;32m<ipython-input-7-2a833ac0bd1f>\u001b[0m in \u001b[0;36m<module>\u001b[1;34m\u001b[0m\n\u001b[1;32m----> 1\u001b[1;33m \u001b[0mprint\u001b[0m\u001b[1;33m(\u001b[0m\u001b[0ms1\u001b[0m\u001b[1;33m.\u001b[0m\u001b[0mname\u001b[0m\u001b[1;33m,\u001b[0m\u001b[0ms1\u001b[0m\u001b[1;33m.\u001b[0m\u001b[0mage\u001b[0m\u001b[1;33m)\u001b[0m\u001b[1;33m\u001b[0m\u001b[1;33m\u001b[0m\u001b[0m\n\u001b[0m",
      "\u001b[1;31mAttributeError\u001b[0m: 'Student' object has no attribute 'name'"
     ]
    }
   ],
   "source": [
    "print(s1.name,s1.age)"
   ]
  },
  {
   "cell_type": "code",
   "execution_count": 8,
   "id": "b83db795",
   "metadata": {},
   "outputs": [
    {
     "name": "stdout",
     "output_type": "stream",
     "text": [
      "Mohit 20\n"
     ]
    }
   ],
   "source": [
    "print(s1.getname(),s1.age)"
   ]
  },
  {
   "cell_type": "code",
   "execution_count": 9,
   "id": "38be37a7",
   "metadata": {},
   "outputs": [
    {
     "name": "stdout",
     "output_type": "stream",
     "text": [
      "asdf 20\n"
     ]
    }
   ],
   "source": [
    "s1.setname('asdf')\n",
    "print(s1.getname(),s1.age)"
   ]
  },
  {
   "cell_type": "code",
   "execution_count": null,
   "id": "c2dac442",
   "metadata": {},
   "outputs": [],
   "source": []
  }
 ],
 "metadata": {
  "kernelspec": {
   "display_name": "Python 3",
   "language": "python",
   "name": "python3"
  },
  "language_info": {
   "codemirror_mode": {
    "name": "ipython",
    "version": 3
   },
   "file_extension": ".py",
   "mimetype": "text/x-python",
   "name": "python",
   "nbconvert_exporter": "python",
   "pygments_lexer": "ipython3",
   "version": "3.8.8"
  }
 },
 "nbformat": 4,
 "nbformat_minor": 5
}
