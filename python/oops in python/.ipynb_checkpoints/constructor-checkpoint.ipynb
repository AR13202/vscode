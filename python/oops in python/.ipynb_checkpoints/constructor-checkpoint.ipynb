{
 "cells": [
  {
   "cell_type": "markdown",
   "id": "6591dbc4",
   "metadata": {},
   "source": [
    "## CONSTRUCTOR\n",
    "##### constructor is a method ->instance method\n",
    "##### with the help of constructor we use attributes of class\n",
    "##### defined as __init__(self): default constructor"
   ]
  },
  {
   "cell_type": "code",
   "execution_count": 4,
   "id": "bdde6a2f",
   "metadata": {},
   "outputs": [],
   "source": [
    "class Student:\n",
    "    totalStudent = 20\n",
    "    classteacher = 'qwe'\n",
    "    \n",
    "    #default constructor\n",
    "    def __init__(self):\n",
    "        self.name = 'Mohit'\n",
    "        self.age = 20\n",
    "        self.rollnumber = 123405\n",
    "    \n",
    "    def printHello(self):\n",
    "        print('hello')\n",
    "        \n",
    "    def print(self,Str):\n",
    "        print(Str)\n",
    "    \n",
    "    def printname(self):\n",
    "        print(self.name)\n",
    "    \n",
    "    def addname(self,name):\n",
    "        self.name = name\n",
    "    # not a good way to use instance method in below fxn.\n",
    "    # the problem is that we have to go in the order otherwise\n",
    "    # it will give an error\n",
    "    def test(self):\n",
    "        print(Student.totalStudent)\n",
    "\n",
    "s1 = Student()\n",
    "s2 = Student()\n",
    "#here we have called class without constructor but it has print because\n",
    "#__init__(self) is the default constructor which it calls itself\n",
    "# on calling the class therefore we see he printline on calling the class"
   ]
  },
  {
   "cell_type": "code",
   "execution_count": 5,
   "id": "6ec56914",
   "metadata": {},
   "outputs": [
    {
     "name": "stdout",
     "output_type": "stream",
     "text": [
      "{'name': 'Mohit', 'age': 20, 'rollnumber': 123405}\n",
      "{'name': 'Mohit', 'age': 20, 'rollnumber': 123405}\n"
     ]
    }
   ],
   "source": [
    "print(s1.__dict__)\n",
    "print(s2.__dict__)"
   ]
  },
  {
   "cell_type": "markdown",
   "id": "73aabcd0",
   "metadata": {},
   "source": [
    "##### now what if we want to have different values for s1 and s2"
   ]
  },
  {
   "cell_type": "code",
   "execution_count": 10,
   "id": "0622c7c9",
   "metadata": {},
   "outputs": [],
   "source": [
    "class Student:\n",
    "    totalStudent = 20\n",
    "    classteacher = 'qwe'\n",
    "    #rn = 10101 is default argument incase of no argument\n",
    "    def __init__(self,name,age,rn = 10101):\n",
    "        self.name = name\n",
    "        self.age = age\n",
    "        self.rollnumber = rn\n",
    "    \n",
    "    def printHello(self):\n",
    "        print('hello')\n",
    "        \n",
    "    def print(self,Str):\n",
    "        print(Str)\n",
    "    \n",
    "    def printname(self):\n",
    "        print(self.name)\n",
    "    \n",
    "    def addname(self,name):\n",
    "        self.name = name\n",
    "    # not a good way to use instance method in below fxn.\n",
    "    # the problem is that we have to go in the order otherwise\n",
    "    # it will give an error\n",
    "    def test(self):\n",
    "        print(Student.totalStudent)\n",
    "\n",
    "s1 = Student('Mohit',20,12034)\n",
    "s2 = Student('Rohit',24,20345)\n",
    "s3 = Student('Rohan',26)"
   ]
  },
  {
   "cell_type": "code",
   "execution_count": 11,
   "id": "8c6d4173",
   "metadata": {
    "scrolled": true
   },
   "outputs": [
    {
     "name": "stdout",
     "output_type": "stream",
     "text": [
      "{'name': 'Mohit', 'age': 20, 'rollnumber': 12034}\n",
      "{'name': 'Rohit', 'age': 24, 'rollnumber': 20345}\n",
      "{'name': 'Rohan', 'age': 26, 'rollnumber': 10101}\n"
     ]
    }
   ],
   "source": [
    "print(s1.__dict__)\n",
    "print(s2.__dict__)\n",
    "print(s3.__dict__)"
   ]
  },
  {
   "cell_type": "markdown",
   "id": "e47d1fcb",
   "metadata": {},
   "source": [
    "### disadvantage of constructor"
   ]
  },
  {
   "cell_type": "code",
   "execution_count": 13,
   "id": "4c312e80",
   "metadata": {},
   "outputs": [],
   "source": [
    "#1 we can only use one constructor \n",
    "  # i.e constructor oerloading is not allowed"
   ]
  },
  {
   "cell_type": "markdown",
   "id": "8755cc5a",
   "metadata": {},
   "source": [
    "#### but we can use __init__(self, *argu):\n",
    "#### here *argu define we can use n number of arguments in our constructor "
   ]
  }
 ],
 "metadata": {
  "kernelspec": {
   "display_name": "Python 3",
   "language": "python",
   "name": "python3"
  },
  "language_info": {
   "codemirror_mode": {
    "name": "ipython",
    "version": 3
   },
   "file_extension": ".py",
   "mimetype": "text/x-python",
   "name": "python",
   "nbconvert_exporter": "python",
   "pygments_lexer": "ipython3",
   "version": "3.8.8"
  }
 },
 "nbformat": 4,
 "nbformat_minor": 5
}
