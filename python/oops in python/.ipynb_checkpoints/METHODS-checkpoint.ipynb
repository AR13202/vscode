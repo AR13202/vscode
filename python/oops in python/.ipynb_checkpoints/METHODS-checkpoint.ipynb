{
 "cells": [
  {
   "cell_type": "code",
   "execution_count": 1,
   "id": "f713971d",
   "metadata": {},
   "outputs": [],
   "source": [
    "#INSTANCE METHODS ->OBJECT\n",
    "# CLASS METHODS ->CLASS\n",
    "# STATIC METHODS ->"
   ]
  },
  {
   "cell_type": "code",
   "execution_count": 32,
   "id": "e38b66f7",
   "metadata": {},
   "outputs": [],
   "source": [
    "#instance method\n",
    "class Student:\n",
    "    totalStudent = 20\n",
    "    classteacher = 'qwe'\n",
    "    \n",
    "    def printHello(self):\n",
    "        print('hello')\n",
    "        \n",
    "    def print(self,Str):\n",
    "        print(Str)\n",
    "    \n",
    "    def printname(self):\n",
    "        print(self.name)\n",
    "    \n",
    "    def addname(self,name):\n",
    "        self.name = name\n",
    "    \n",
    "    # not a good way to use instance method in below fxn.\n",
    "    # the problem is that we have to go in the order otherwise\n",
    "    # it will give an error\n",
    "    def test(self):\n",
    "        print(Student.totalStudent)\n",
    "\n",
    "s1 = Student()\n",
    "s2 = Student()"
   ]
  },
  {
   "cell_type": "code",
   "execution_count": 33,
   "id": "291cd38c",
   "metadata": {},
   "outputs": [
    {
     "name": "stdout",
     "output_type": "stream",
     "text": [
      "hello\n"
     ]
    }
   ],
   "source": [
    "s1.printHello()"
   ]
  },
  {
   "cell_type": "code",
   "execution_count": 34,
   "id": "c1561f1a",
   "metadata": {},
   "outputs": [
    {
     "name": "stdout",
     "output_type": "stream",
     "text": [
      "hi\n"
     ]
    }
   ],
   "source": [
    "s1.print(\"hi\")"
   ]
  },
  {
   "cell_type": "code",
   "execution_count": 35,
   "id": "a3982b4f",
   "metadata": {},
   "outputs": [
    {
     "name": "stdout",
     "output_type": "stream",
     "text": [
      "hello\n"
     ]
    }
   ],
   "source": [
    "Student.printHello(s1)"
   ]
  },
  {
   "cell_type": "code",
   "execution_count": 36,
   "id": "d031bbf1",
   "metadata": {},
   "outputs": [
    {
     "name": "stdout",
     "output_type": "stream",
     "text": [
      "Mohit\n"
     ]
    }
   ],
   "source": [
    "s1.name = 'Mohit'\n",
    "s1.printname()"
   ]
  },
  {
   "cell_type": "code",
   "execution_count": 37,
   "id": "0311ff6d",
   "metadata": {},
   "outputs": [
    {
     "name": "stdout",
     "output_type": "stream",
     "text": [
      "{'name': 'Mohit'}\n",
      "{}\n"
     ]
    }
   ],
   "source": [
    "s1.addname('Mohit')\n",
    "print(s1.__dict__)\n",
    "print(s2.__dict__)"
   ]
  },
  {
   "cell_type": "code",
   "execution_count": 38,
   "id": "9d815784",
   "metadata": {},
   "outputs": [
    {
     "name": "stdout",
     "output_type": "stream",
     "text": [
      "{'name': 'Aman'}\n",
      "{}\n"
     ]
    }
   ],
   "source": [
    "s1.addname('Aman')#new instance value created and replaced previous\n",
    "print(s1.__dict__)\n",
    "print(s2.__dict__)"
   ]
  },
  {
   "cell_type": "code",
   "execution_count": 39,
   "id": "63a8af57",
   "metadata": {},
   "outputs": [
    {
     "name": "stdout",
     "output_type": "stream",
     "text": [
      "20\n"
     ]
    }
   ],
   "source": [
    "s1.test()"
   ]
  },
  {
   "cell_type": "code",
   "execution_count": 40,
   "id": "c2760945",
   "metadata": {},
   "outputs": [
    {
     "name": "stdout",
     "output_type": "stream",
     "text": [
      "{'__module__': '__main__', 'totalStudent': 20, 'classteacher': 'qwe', 'printHello': <function Student.printHello at 0x00000227AB9E7430>, 'print': <function Student.print at 0x00000227AB9E7310>, 'printname': <function Student.printname at 0x00000227AB9E73A0>, 'addname': <function Student.addname at 0x00000227AB9E7280>, 'test': <function Student.test at 0x00000227AB9E71F0>, '__dict__': <attribute '__dict__' of 'Student' objects>, '__weakref__': <attribute '__weakref__' of 'Student' objects>, '__doc__': None}\n"
     ]
    }
   ],
   "source": [
    "print(Student.__dict__)"
   ]
  },
  {
   "cell_type": "code",
   "execution_count": 41,
   "id": "8ff2eee9",
   "metadata": {},
   "outputs": [
    {
     "name": "stdout",
     "output_type": "stream",
     "text": [
      "{'name': 'Aman'}\n",
      "{}\n"
     ]
    }
   ],
   "source": [
    "print(s1.__dict__)\n",
    "print(s2.__dict__)"
   ]
  },
  {
   "cell_type": "code",
   "execution_count": null,
   "id": "3e5b5f1d",
   "metadata": {},
   "outputs": [],
   "source": []
  }
 ],
 "metadata": {
  "kernelspec": {
   "display_name": "Python 3",
   "language": "python",
   "name": "python3"
  },
  "language_info": {
   "codemirror_mode": {
    "name": "ipython",
    "version": 3
   },
   "file_extension": ".py",
   "mimetype": "text/x-python",
   "name": "python",
   "nbconvert_exporter": "python",
   "pygments_lexer": "ipython3",
   "version": "3.8.8"
  }
 },
 "nbformat": 4,
 "nbformat_minor": 5
}
