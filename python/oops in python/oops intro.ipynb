{
 "cells": [
  {
   "cell_type": "code",
   "execution_count": 1,
   "id": "a003b150",
   "metadata": {},
   "outputs": [
    {
     "name": "stdout",
     "output_type": "stream",
     "text": [
      "<class 'int'>\n"
     ]
    }
   ],
   "source": [
    "a = 10\n",
    "print(type(a))"
   ]
  },
  {
   "cell_type": "code",
   "execution_count": 2,
   "id": "5a0d875a",
   "metadata": {},
   "outputs": [
    {
     "name": "stdout",
     "output_type": "stream",
     "text": [
      "<class 'list'>\n"
     ]
    }
   ],
   "source": [
    "a = [1,23,4]\n",
    "print(type(a))"
   ]
  },
  {
   "cell_type": "raw",
   "id": "da3fc337",
   "metadata": {},
   "source": [
    "#class syntax\n",
    "#right now class is empty so it is showing error\n",
    "class Student:"
   ]
  },
  {
   "cell_type": "raw",
   "id": "6d53009f",
   "metadata": {},
   "source": [
    "#object declaration\n",
    "s1 = Student()\n",
    "s2 = Student()\n",
    "#here s1,s2 are objects and student is the class and we calling the class with these objects;"
   ]
  },
  {
   "cell_type": "raw",
   "id": "36100237",
   "metadata": {},
   "source": [
    "s2.name = \"asdkd\"\n",
    "s2.age = \"45\""
   ]
  },
  {
   "cell_type": "code",
   "execution_count": 6,
   "id": "7709343b",
   "metadata": {},
   "outputs": [
    {
     "name": "stdout",
     "output_type": "stream",
     "text": [
      "{'name': 'asdf', 'age': 20}\n",
      "{'rollnumber': 123932}\n",
      "{'age': 21}\n"
     ]
    }
   ],
   "source": [
    "class Student:\n",
    "    pass\n",
    "\n",
    "\n",
    "s1 = Student()\n",
    "s2 = Student()\n",
    "s3 = Student()\n",
    "# INSTANCE ATTRIBUTE\n",
    "s1.name = \"asdf\"\n",
    "s1.age = 20\n",
    "\n",
    "s2.rollnumber = 123932\n",
    "\n",
    "s3.age = 21\n",
    "\n",
    "print(s1.__dict__)\n",
    "print(s2.__dict__)\n",
    "print(s3.__dict__)"
   ]
  },
  {
   "cell_type": "code",
   "execution_count": 9,
   "id": "592dd8c3",
   "metadata": {},
   "outputs": [
    {
     "name": "stdout",
     "output_type": "stream",
     "text": [
      "True\n",
      "False\n"
     ]
    }
   ],
   "source": [
    "# [hasattr] used to check if given object has that attribute in it\n",
    "print(hasattr(s1,'name'))\n",
    "print(hasattr(s2,'name'))"
   ]
  },
  {
   "cell_type": "code",
   "execution_count": 12,
   "id": "9c073b66",
   "metadata": {},
   "outputs": [
    {
     "name": "stdout",
     "output_type": "stream",
     "text": [
      "asdf\n",
      "test\n"
     ]
    }
   ],
   "source": [
    "# [setattr] set objects attribute value\n",
    "# [delattr] delete attr. from object\n",
    "# [getattr] set default value for an attribute for an object\n",
    "\n",
    "print(getattr(s1,'name'))\n",
    "print(getattr(s2,'name','test'))"
   ]
  },
  {
   "cell_type": "code",
   "execution_count": 13,
   "id": "64458d38",
   "metadata": {},
   "outputs": [
    {
     "name": "stdout",
     "output_type": "stream",
     "text": [
      "{'age': 20}\n"
     ]
    }
   ],
   "source": [
    "delattr(s1,'name')\n",
    "print(s1.__dict__)"
   ]
  },
  {
   "cell_type": "code",
   "execution_count": 15,
   "id": "1b0d0157",
   "metadata": {},
   "outputs": [
    {
     "name": "stdout",
     "output_type": "stream",
     "text": [
      "{'__module__': '__main__', '__dict__': <attribute '__dict__' of 'Student' objects>, '__weakref__': <attribute '__weakref__' of 'Student' objects>, '__doc__': None, 'totalStudents': 20}\n"
     ]
    }
   ],
   "source": [
    "# CLASS ATTRIBUTE\n",
    "\n",
    "Student.totalStudents = 20\n",
    "print(Student.__dict__)"
   ]
  },
  {
   "cell_type": "code",
   "execution_count": 17,
   "id": "1bbf8f73",
   "metadata": {},
   "outputs": [
    {
     "name": "stdout",
     "output_type": "stream",
     "text": [
      "{'__module__': '__main__', 'totalStudent': 20, 'classTeacher': 'abd', '__dict__': <attribute '__dict__' of 'Student' objects>, '__weakref__': <attribute '__weakref__' of 'Student' objects>, '__doc__': None}\n",
      "{}\n",
      "{}\n"
     ]
    }
   ],
   "source": [
    "class Student:\n",
    "    \n",
    "    # class attribute\n",
    "    totalStudent  =20\n",
    "    classTeacher = \"abd\"\n",
    "\n",
    "s1 = Student()\n",
    "s2 = Student()\n",
    "print(Student.__dict__)\n",
    "print(s1.__dict__)\n",
    "print(s2.__dict__)"
   ]
  },
  {
   "cell_type": "code",
   "execution_count": 20,
   "id": "629201d8",
   "metadata": {},
   "outputs": [
    {
     "name": "stdout",
     "output_type": "stream",
     "text": [
      "20\n",
      "20\n",
      "20\n"
     ]
    }
   ],
   "source": [
    "print(Student.totalStudent)\n",
    "print(s1.totalStudent)\n",
    "print(s2.totalStudent)"
   ]
  },
  {
   "cell_type": "code",
   "execution_count": 21,
   "id": "3e45994b",
   "metadata": {},
   "outputs": [
    {
     "name": "stdout",
     "output_type": "stream",
     "text": [
      "30\n",
      "30\n",
      "30\n"
     ]
    }
   ],
   "source": [
    "Student.totalStudent = 30\n",
    "print(Student.totalStudent)\n",
    "print(s1.totalStudent)\n",
    "print(s2.totalStudent)"
   ]
  },
  {
   "cell_type": "code",
   "execution_count": null,
   "id": "bc859bca",
   "metadata": {},
   "outputs": [],
   "source": [
    " "
   ]
  }
 ],
 "metadata": {
  "kernelspec": {
   "display_name": "Python 3",
   "language": "python",
   "name": "python3"
  },
  "language_info": {
   "codemirror_mode": {
    "name": "ipython",
    "version": 3
   },
   "file_extension": ".py",
   "mimetype": "text/x-python",
   "name": "python",
   "nbconvert_exporter": "python",
   "pygments_lexer": "ipython3",
   "version": "3.8.8"
  }
 },
 "nbformat": 4,
 "nbformat_minor": 5
}
