{
 "cells": [
  {
   "cell_type": "markdown",
   "metadata": {
    "id": "8A52zMPjGtio"
   },
   "source": [
    "*Python | Using 2D arrays/lists: Python provides many ways to create 2-dimensional lists/arrays. However one must know the differences between these ways because they can create complications in code that can be very difficult to trace out.*"
   ]
  },
  {
   "cell_type": "code",
   "execution_count": 19,
   "metadata": {
    "colab": {
     "base_uri": "https://localhost:8080/"
    },
    "id": "exCAMXDZGxAY",
    "outputId": "78246226-cc3f-48a4-9232-7511ce22ce58"
   },
   "outputs": [
    {
     "name": "stdout",
     "output_type": "stream",
     "text": [
      "4\n",
      "[1, 1, 1, 1]\n"
     ]
    }
   ],
   "source": [
    "# First method to create a 1 D array \n",
    "N = int(input())\n",
    "arr = [1]*N \n",
    "print(arr) "
   ]
  },
  {
   "cell_type": "code",
   "execution_count": 20,
   "metadata": {
    "colab": {
     "base_uri": "https://localhost:8080/"
    },
    "id": "5HkokfsVG_xW",
    "outputId": "0bae5c61-6310-4d34-fd36-425645cf0a18"
   },
   "outputs": [
    {
     "name": "stdout",
     "output_type": "stream",
     "text": [
      "[0, 1, 2, 3, 4, 5, 6, 7, 8, 9]\n"
     ]
    }
   ],
   "source": [
    "# Second method to create a 1 D array \n",
    "N = 10\n",
    "arr = [i for i in range(N)] \n",
    "print(arr)"
   ]
  },
  {
   "cell_type": "code",
   "execution_count": 3,
   "metadata": {
    "colab": {
     "base_uri": "https://localhost:8080/"
    },
    "id": "Tty7vqICHEbx",
    "outputId": "ca202fff-3aa7-4b42-d562-fb079ed19073"
   },
   "outputs": [
    {
     "name": "stdout",
     "output_type": "stream",
     "text": [
      "[[3, 3, 3], [3, 3, 3], [3, 3, 3], [3, 3, 3], [3, 3, 3], [3, 3, 3]]\n"
     ]
    }
   ],
   "source": [
    "# Using above first method to create a  \n",
    "# 2D array \n",
    "rows, cols = (2, 3) \n",
    "\n",
    "#arr=([cols]*3)*(3)\n",
    "arr = [[cols]*cols]*(cols*rows) \n",
    "print(arr)"
   ]
  },
  {
   "cell_type": "code",
   "execution_count": 23,
   "metadata": {
    "colab": {
     "base_uri": "https://localhost:8080/"
    },
    "id": "5ID5j0PDHOa0",
    "outputId": "6e62eeb2-5091-40d2-e017-3ef96db03a1e"
   },
   "outputs": [
    {
     "name": "stdout",
     "output_type": "stream",
     "text": [
      "[[0, 0, 0, 0, 0], [0, 0, 0, 0, 0]]\n"
     ]
    }
   ],
   "source": [
    "\n",
    "# Using above second method to create a  \n",
    "# 2D array \n",
    "rows, cols = (2, 5) \n",
    "arr=[] \n",
    "for i in range(rows): \n",
    "    col = [] \n",
    "    for j in range(cols): \n",
    "        col.append(0) \n",
    "    arr.append(col) \n",
    "print(arr) "
   ]
  },
  {
   "cell_type": "markdown",
   "metadata": {
    "id": "3ep6p2aZJJuI"
   },
   "source": [
    "Multidimensional list:*There* can be more than one additional dimension to lists in Python. Keeping in mind that a list can hold other lists, that basic principle can be applied over and over. Multi-dimensional lists are the lists within lists."
   ]
  },
  {
   "cell_type": "code",
   "execution_count": 24,
   "metadata": {
    "colab": {
     "base_uri": "https://localhost:8080/"
    },
    "id": "XXJRDVRkHxS0",
    "outputId": "00f9d3da-e70d-4c5a-f7ea-c88ffc023f32"
   },
   "outputs": [
    {
     "name": "stdout",
     "output_type": "stream",
     "text": [
      "[2, 4, 6, 8, 10]\n"
     ]
    }
   ],
   "source": [
    "# Python program to demonstrate printing \n",
    "# of complete multidimensional list \n",
    "a = [[2, 4, 6, 8, 10], [3, 6, 9, 12, 15], [4, 8, 12, 16, 20]] \n",
    "print(a[0])"
   ]
  },
  {
   "cell_type": "code",
   "execution_count": 26,
   "metadata": {
    "colab": {
     "base_uri": "https://localhost:8080/"
    },
    "id": "ybE4yYN8JWwg",
    "outputId": "3f792f31-c55a-4b87-c803-50e856a3982d"
   },
   "outputs": [
    {
     "name": "stdout",
     "output_type": "stream",
     "text": [
      "2 4 6 8 \n",
      "1 3 5 7 \n",
      "8 6 4 2 \n",
      "7 5 3 1 \n"
     ]
    }
   ],
   "source": [
    "# Python program to demonstrate that we \n",
    "# can access multidimensional list using \n",
    "# square brackets \n",
    "a = [ [2, 4, 6, 8 ],  \n",
    "    [ 1, 3, 5, 7 ],  \n",
    "    [ 8, 6, 4, 2 ],  \n",
    "    [ 7, 5, 3, 1 ] ]  \n",
    "          \n",
    "for i in range(len(a)) :  \n",
    "    for j in range(len(a[i])) :  \n",
    "        print(a[i][j], end=\" \") \n",
    "    print()  "
   ]
  },
  {
   "cell_type": "code",
   "execution_count": 27,
   "metadata": {
    "colab": {
     "base_uri": "https://localhost:8080/"
    },
    "id": "nbyA9q3qKVjr",
    "outputId": "9437e28e-398b-43ef-fd38-5dc679c65dff"
   },
   "outputs": [
    {
     "name": "stdout",
     "output_type": "stream",
     "text": [
      "[[0, 0, 0, 0, 0], [0, 0, 0, 0, 0], [0, 0, 0, 0, 0], [0, 0, 0, 0, 0]]\n"
     ]
    }
   ],
   "source": [
    "# Python program to create a m x n matrix \n",
    "# with all 0s \n",
    "m = 4\n",
    "n = 5\n",
    "  \n",
    "a = [[0 for x in range(n)] for x in range(m)] \n",
    "print(a) "
   ]
  },
  {
   "cell_type": "markdown",
   "metadata": {
    "id": "LCDDQAdEKrG4"
   },
   "source": [
    "1. append(): Adds an element at the end of the list."
   ]
  },
  {
   "cell_type": "code",
   "execution_count": 1,
   "metadata": {
    "colab": {
     "base_uri": "https://localhost:8080/"
    },
    "id": "ECCvKdXnKwgo",
    "outputId": "f51f6099-649a-4c9a-a1c5-c98d55f36f91"
   },
   "outputs": [
    {
     "name": "stdout",
     "output_type": "stream",
     "text": [
      "[[2, 4, 6, 8, 10], [3, 6, 9, 12, 15], [4, 8, 12, 16, 20], [5, 10, 15, 10, 20]]\n"
     ]
    }
   ],
   "source": [
    "# Adding a sublist \n",
    "  \n",
    "a = [[2, 4, 6, 8, 10], [3, 6, 9, 12, 15], [4, 8, 12, 16, 20]] \n",
    "a.append([5, 10, 15,10,20]) \n",
    "print(a) "
   ]
  },
  {
   "cell_type": "markdown",
   "metadata": {
    "id": "tN6k6hIAKzmf"
   },
   "source": [
    "2. extend(): Add the elements of a list (or any iterable), to the end of the current list."
   ]
  },
  {
   "cell_type": "code",
   "execution_count": 3,
   "metadata": {
    "colab": {
     "base_uri": "https://localhost:8080/"
    },
    "id": "ed0LHZdpKxGR",
    "outputId": "c6e8728c-6a7c-4d20-e8d3-cb90be7d38af"
   },
   "outputs": [
    {
     "name": "stdout",
     "output_type": "stream",
     "text": [
      "[[2, 4, 6, 8, 10], [3, 6, 9, 12, 15, 12, 14, 16, 18], [4, 8, 12, 16, 20]]\n"
     ]
    }
   ],
   "source": [
    "# Extending a sublist  \n",
    "  \n",
    "a = [[2, 4, 6, 8, 10], [3, 6, 9, 12, 15], [4, 8, 12, 16, 20]] \n",
    "a[1].extend([12, 14, 16, 18]) \n",
    "print(a) "
   ]
  },
  {
   "cell_type": "markdown",
   "metadata": {
    "id": "kAKlhd0PK5xY"
   },
   "source": [
    "3. reverse(): Reverses the order of the list."
   ]
  },
  {
   "cell_type": "code",
   "execution_count": 4,
   "metadata": {
    "colab": {
     "base_uri": "https://localhost:8080/"
    },
    "id": "TP5O5KDBK2MA",
    "outputId": "948c7d89-f194-41ca-c268-24dd95b78e14"
   },
   "outputs": [
    {
     "name": "stdout",
     "output_type": "stream",
     "text": [
      "[[4, 8, 12, 16, 20], [3, 6, 9, 12, 15], [2, 4, 6, 8, 10]]\n"
     ]
    }
   ],
   "source": [
    "# Reversing a sublist  \n",
    "  \n",
    "a = [[2, 4, 6, 8, 10], [3, 6, 9, 12, 15], [4, 8, 12, 16, 20]] \n",
    "b=a[::-1]\n",
    "\n",
    "print(b)"
   ]
  },
  {
   "cell_type": "code",
   "execution_count": null,
   "metadata": {
    "colab": {
     "base_uri": "https://localhost:8080/"
    },
    "id": "KOZVIqtbK8tb",
    "outputId": "61c7ce9c-e56a-42b0-afee-3f3397b5dc12"
   },
   "outputs": [
    {
     "name": "stdout",
     "output_type": "stream",
     "text": [
      "15 24 24 24 24 "
     ]
    }
   ],
   "source": [
    "#Row wise sum\n",
    "nRows=5\n",
    "mCols=5\n",
    "mat=[[1,2,3,4,5],[3,4,5,7,5],[3,4,5,7,5],[3,4,5,7,5],[3,4,5,7,5]]\n",
    "for i in range (0,nRows):\n",
    "  sum=0\n",
    "  for j in  range(0,mCols):\n",
    "    sum=sum+mat[i][j]\n",
    "  print(sum,end=\" \")\n"
   ]
  },
  {
   "cell_type": "code",
   "execution_count": null,
   "metadata": {
    "colab": {
     "base_uri": "https://localhost:8080/"
    },
    "id": "6HSE2HTvTeus",
    "outputId": "6d9e79ad-8f61-4677-bcf5-94fe8c9556e4"
   },
   "outputs": [
    {
     "name": "stdout",
     "output_type": "stream",
     "text": [
      "Original list 1 : [1, 3, 4, 6, 8]\n",
      "Original list 2 : [4, 5, 6, 2, 10]\n",
      "Resultant list is : [5, 8, 10, 8, 18]\n"
     ]
    }
   ],
   "source": [
    "from operator import add \n",
    "  \n",
    "# initializing lists \n",
    "test_list1 = [1, 3, 4, 6, 8] \n",
    "test_list2 = [4, 5, 6, 2, 10] \n",
    "  \n",
    "# printing original lists \n",
    "print (\"Original list 1 : \" + str(test_list1)) \n",
    "print (\"Original list 2 : \" + str(test_list2)) \n",
    "  \n",
    "# using map() + add() to  \n",
    "# add two list  \n",
    "res_list = list(map(add, test_list1, test_list2)) \n",
    "  \n",
    "# printing resultant list  \n",
    "print (\"Resultant list is : \" + str(res_list))"
   ]
  },
  {
   "cell_type": "code",
   "execution_count": null,
   "metadata": {
    "colab": {
     "base_uri": "https://localhost:8080/"
    },
    "id": "emSR6cE_Cqzs",
    "outputId": "e2560169-7e53-4e36-f380-6b96f315cfc9"
   },
   "outputs": [
    {
     "name": "stdout",
     "output_type": "stream",
     "text": [
      "Original list 1 : [1, 3, 4, 6, 8]\n",
      "Original list 2 : [4, 5, 6, 2, 10]\n",
      "Resultant list is : [5, 8, 10, 8, 18]\n"
     ]
    }
   ],
   "source": [
    "test_list1 = [1, 3, 4, 6, 8] \n",
    "test_list2 = [4, 5, 6, 2, 10] \n",
    "  \n",
    "# printing original lists \n",
    "print (\"Original list 1 : \" + str(test_list1)) \n",
    "print (\"Original list 2 : \" + str(test_list2)) \n",
    "  \n",
    "# using naive method to  \n",
    "# add two list  \n",
    "res_list = [] \n",
    "for i in range(0, len(test_list1)): \n",
    "   '' res_list.append(test_list1[i] + test_list2[i]) \n",
    "  \n",
    "# printing resultant list  \n",
    "print (\"Resultant list is : \" + str(res_list)) "
   ]
  },
  {
   "cell_type": "code",
   "execution_count": 29,
   "metadata": {
    "colab": {
     "base_uri": "https://localhost:8080/"
    },
    "id": "J5IYn1Gp5Ygq",
    "outputId": "d4e2629d-0a69-4ea7-b896-362d94b153ed"
   },
   "outputs": [
    {
     "name": "stdout",
     "output_type": "stream",
     "text": [
      "3\n",
      "3\n",
      "[17, 15, 4]\n",
      "[10, 12, 9]\n",
      "[11, 13, 18]\n"
     ]
    }
   ],
   "source": [
    "# Program to add two matrices using nested loop\n",
    "\n",
    "X = [[12,7,3],\n",
    "    [4 ,5,6],\n",
    "    [7 ,8,9]]\n",
    "\n",
    "Y = [[5,8,1],\n",
    "    [6,7,3],\n",
    "    [4,5,9]]\n",
    "\n",
    "result = [[0,0,0],\n",
    "         [0,0,0],\n",
    "         [0,0,0]]\n",
    "print(len(X))\n",
    "print(len(X[0]))\n",
    "\n",
    "# iterate through rows\n",
    "for i in range(len(X)):\n",
    "   # iterate through columns\n",
    "   for j in range(len(Y)):\n",
    "        result[i][j] = X[i][j] + Y[i][j]\n",
    "\n",
    "for r in result:\n",
    "    print(r)"
   ]
  },
  {
   "cell_type": "code",
   "execution_count": 41,
   "metadata": {
    "colab": {
     "base_uri": "https://localhost:8080/"
    },
    "id": "ny93iNBg5gG4",
    "outputId": "2f74b69e-f4fe-4863-fad8-d82dd1c37980"
   },
   "outputs": [
    {
     "name": "stdout",
     "output_type": "stream",
     "text": [
      "[17, 15, 4]\n",
      "[10, 12, 9]\n",
      "[11, 13, 18]\n"
     ]
    }
   ],
   "source": [
    "# Program to add two matrices using list comprehension\n",
    "\n",
    "X = [[12,7,3],\n",
    "    [4 ,5,6],\n",
    "    [7 ,8,9]]\n",
    "\n",
    "Y = [[5,8,1],\n",
    "    [6,7,3],\n",
    "    [4,5,9]]\n",
    "\n",
    "result = [[X[i][j] + Y[i][j]  for j in range(len(X[0]))] for i in range(len(X))]\n",
    "\n",
    "for r in result:\n",
    "    print(r)"
   ]
  },
  {
   "cell_type": "code",
   "execution_count": 4,
   "metadata": {
    "id": "kWCjAQhG34YE"
   },
   "outputs": [
    {
     "name": "stdout",
     "output_type": "stream",
     "text": [
      "Enter the number of rows:2\n",
      "Enter the number of columns:2\n",
      "Enter the entries rowwise:\n",
      "5\n",
      "4\n",
      "8\n",
      "7\n",
      "5 4 \n",
      "8 7 \n"
     ]
    }
   ],
   "source": [
    "\n",
    "# A basic code for matrix input from user \n",
    "  \n",
    "R = int(input(\"Enter the number of rows:\")) \n",
    "C = int(input(\"Enter the number of columns:\")) \n",
    "  \n",
    "# Initialize matrix \n",
    "matrix = [] \n",
    "print(\"Enter the entries rowwise:\") \n",
    "  \n",
    "# For user input \n",
    "for i in range(R):          # A for loop for row entries \n",
    "    a =[] \n",
    "    for j in range(C):      # A for loop for column entries \n",
    "         a.append(int(input())) \n",
    "    matrix.append(a) \n",
    "  \n",
    "# For printing the matrix \n",
    "for i in range(R): \n",
    "    for j in range(C): \n",
    "        print(matrix[i][j], end = \" \") \n",
    "    print() "
   ]
  },
  {
   "cell_type": "code",
   "execution_count": 6,
   "metadata": {
    "colab": {
     "base_uri": "https://localhost:8080/"
    },
    "id": "Y3Ngp2Ir39ju",
    "outputId": "3a544f9e-58ad-4675-9c1f-e46b7126d174"
   },
   "outputs": [
    {
     "name": "stdout",
     "output_type": "stream",
     "text": [
      "[114, 160, 60, 27]\n",
      "[74, 97, 73, 14]\n",
      "[119, 157, 112, 23]\n"
     ]
    }
   ],
   "source": [
    "# Program to multiply two matrices using nested loops\n",
    "\n",
    "# 3x3 matrix\n",
    "X = [[12,7,3],\n",
    "    [4 ,5,6],\n",
    "    [7 ,8,9]]\n",
    "# 3x4 matrix\n",
    "Y = [[5,8,1,2],\n",
    "    [6,7,3,0],\n",
    "    [4,5,9,1]]\n",
    "# result is 3x4\n",
    "result = [[0,0,0,0],\n",
    "         [0,0,0,0],\n",
    "         [0,0,0,0]]\n",
    "\n",
    "# iterate through rows of X\n",
    "for i in range(len(X)):\n",
    "   # iterate through columns of Y\n",
    "   for j in range(len(Y[0])):\n",
    "       # iterate through rows of Y\n",
    "       for k in range(len(Y)):\n",
    "            result[i][j] += X[i][k] * Y[k][j]\n",
    "\n",
    "for r in result:\n",
    "    print(r)"
   ]
  },
  {
   "cell_type": "code",
   "execution_count": 43,
   "metadata": {
    "colab": {
     "base_uri": "https://localhost:8080/"
    },
    "id": "YJ5fxszB4qas",
    "outputId": "f0af0a13-96c3-4536-e146-6428faa09f12"
   },
   "outputs": [
    {
     "name": "stdout",
     "output_type": "stream",
     "text": [
      "[[114, 160, 60], [74, 97, 73], [119, 157, 112]]\n"
     ]
    }
   ],
   "source": [
    "\n",
    "# input two matrices of size n x m \n",
    "matrix1 = [[12,7,3], \n",
    "        [4 ,5,6], \n",
    "        [7 ,8,9]] \n",
    "matrix2 = [[5,8,1], \n",
    "        [6,7,3], \n",
    "        [4,5,9]] \n",
    "  \n",
    "res = [[0 for x in range(3)] for y in range(3)]  \n",
    "  \n",
    "# explicit for loops \n",
    "for i in range(len(matrix1)): \n",
    "    for j in range(len(matrix2[0])): \n",
    "        for k in range(len(matrix2)): \n",
    "  \n",
    "            # resulted matrix \n",
    "            res[i][j] += matrix1[i][k] * matrix2[k][j] \n",
    "print (res) "
   ]
  },
  {
   "cell_type": "code",
   "execution_count": 1,
   "metadata": {
    "colab": {
     "base_uri": "https://localhost:8080/"
    },
    "id": "WOk64fxH41p1",
    "outputId": "1b6ea9ca-9532-421f-be69-99365dc51476"
   },
   "outputs": [
    {
     "name": "stdout",
     "output_type": "stream",
     "text": [
      "array of a[0] [1, 2, 3]\n",
      "Sum of  1  row:  6\n",
      "Sum of  2  row:  15\n",
      "Sum of  3  row:  24\n",
      "Sum of 1 column: 12\n",
      "Sum of 2 column: 15\n",
      "Sum of 3 column: 18\n"
     ]
    }
   ],
   "source": [
    "#Initialize matrix a  \n",
    "a = [[1, 2, 3],[4, 5, 6],[7, 8, 9] ];  \n",
    "#Calculates number of rows and columns present in given matrix  \n",
    "rows = len(a);  \n",
    "cols = len(a[0]); \n",
    "print(\"array of a[0]\",a[0]) \n",
    "#Calculates sum of each row of given matrix  \n",
    "for i in range(0, rows):  \n",
    "    sumRow = 0;  \n",
    "    for j in range(0, cols):  \n",
    "        sumRow = sumRow + a[i][j];  \n",
    "    print(\"Sum of \", (i+1),\" row: \", (sumRow));  \n",
    "   \n",
    "#Calculates sum of each column of given matrix  \n",
    "for i in range(0, rows):  \n",
    "    sumCol = 0;  \n",
    "    for j in range(0, cols):  \n",
    "        sumCol = sumCol + a[j][i];  \n",
    "    print(\"Sum of \" + str(i+1) +\" column: \" + str(sumCol));  "
   ]
  },
  {
   "cell_type": "code",
   "execution_count": null,
   "metadata": {
    "colab": {
     "base_uri": "https://localhost:8080/"
    },
    "id": "c253BzwgSJP4",
    "outputId": "2a064938-9145-4c97-f1da-2b933ac48eb2"
   },
   "outputs": [
    {
     "name": "stdout",
     "output_type": "stream",
     "text": [
      "Column 5 has max Sum 31\n"
     ]
    }
   ],
   "source": [
    "N = 5\n",
    "  \n",
    "# Function to find the column with max Sum \n",
    "def colMaxSum(mat): \n",
    "      \n",
    "    # Variable to store index of column \n",
    "    # with maximum \n",
    "    idx = -1\n",
    "  \n",
    "    # Variable to store max Sum \n",
    "    maxSum = -10**9\n",
    "  \n",
    "    # Traverse matrix column wise \n",
    "    for i in range(N): \n",
    "  \n",
    "        Sum = 0\n",
    "  \n",
    "        # calculate Sum of column \n",
    "        for j in range(N): \n",
    "            Sum += mat[j][i] \n",
    "  \n",
    "        # Update maxSum if it is less  \n",
    "        # than current Sum \n",
    "        if (Sum > maxSum): \n",
    "            maxSum = Sum\n",
    "  \n",
    "            # store index \n",
    "            idx = i \n",
    "          \n",
    "    # return result \n",
    "    return idx, maxSum \n",
    "  \n",
    "# Driver Code \n",
    "  \n",
    "mat = [[ 1, 2, 3, 4, 5 ], \n",
    "       [ 5, 3, 1, 4, 2 ], \n",
    "       [ 5, 6, 7, 8, 9 ], \n",
    "       [ 0, 6, 3, 4, 12 ], \n",
    "       [ 9, 7, 12, 4, 3 ]] \n",
    "  \n",
    "ans, ans0 = colMaxSum(mat) \n",
    "  \n",
    "print(\"Column\", ans + 1,     \n",
    "      \"has max Sum\", ans0)"
   ]
  },
  {
   "cell_type": "code",
   "execution_count": null,
   "metadata": {
    "colab": {
     "base_uri": "https://localhost:8080/"
    },
    "id": "_bje1aFnTB7P",
    "outputId": "9ad6d361-ade2-4f2f-d7bc-1f2b6bc87ecd"
   },
   "outputs": [
    {
     "name": "stdout",
     "output_type": "stream",
     "text": [
      "4 8 12 16 15 11 7 3 2 6 10 14 13 9 5 1 "
     ]
    }
   ],
   "source": [
    "R = 4\n",
    "C = 4\n",
    "  \n",
    "# function to print reverse wave  \n",
    "# form for a given matrix \n",
    "def wavePrint(m, n, arr): \n",
    "    j = n - 1\n",
    "    wave = 1\n",
    "      \n",
    "    # m     - Ending row index \n",
    "    # n     - Ending column index \n",
    "    # i, j     - Iterator \n",
    "    # wave     - for Direction \n",
    "    # wave = 1 - Wave direction down \n",
    "    # wave = 0 - Wave direction up  \n",
    "    while j >= 0: \n",
    "          \n",
    "        # Check whether to go in \n",
    "        # upward or downward \n",
    "        if wave == 1: \n",
    "      \n",
    "            # Print the element of the  \n",
    "            # matrix downward since the \n",
    "                        # value of wave = 1 \n",
    "            for i in range(m): \n",
    "                print(arr[i][j], end = \" \"), \n",
    "            wave = 0\n",
    "            j -= 1\n",
    "              \n",
    "              \n",
    "        else: \n",
    "            # Print the elements of the  \n",
    "            # matrix upward since the  \n",
    "            # value of wave = 0 \n",
    "            for i in range(m - 1, -1, -1): \n",
    "                print(arr[i][j], end = \" \"), \n",
    "                  \n",
    "            wave = 1\n",
    "            j -= 1\n",
    "  \n",
    "# Driver code \n",
    "arr = [ [ 1, 2, 3, 4 ], \n",
    "        [ 5, 6, 7, 8 ], \n",
    "        [ 9, 10, 11, 12 ], \n",
    "        [ 13, 14, 15, 16 ] ] \n",
    "          \n",
    "wavePrint(R, C, arr) "
   ]
  },
  {
   "cell_type": "code",
   "execution_count": null,
   "metadata": {
    "colab": {
     "base_uri": "https://localhost:8080/",
     "height": 34
    },
    "id": "WvRLpxTEUii3",
    "outputId": "51fa6940-9bd8-4e52-ba39-61bb01ee12a9"
   },
   "outputs": [
    {
     "name": "stdout",
     "output_type": "stream",
     "text": [
      "1 2 3 4 5 6 12 18 17 16 15 14 13 7 8 9 10 11 "
     ]
    }
   ],
   "source": [
    "def spiralPrint(m, n, a):\n",
    "    k = 0\n",
    "    l = 0\n",
    " \n",
    "    ''' k - starting row index\n",
    "        m - ending row index\n",
    "        l - starting column index\n",
    "        n - ending column index\n",
    "        i - iterator '''\n",
    " \n",
    "    while (k < m and l < n):\n",
    " \n",
    "        # Print the first row from\n",
    "        # the remaining rows\n",
    "        for i in range(l, n):\n",
    "            print(a[k][i], end=\" \")\n",
    " \n",
    "        k += 1\n",
    " \n",
    "        # Print the last column from\n",
    "        # the remaining columns\n",
    "        for i in range(k, m):\n",
    "            print(a[i][n - 1], end=\" \")\n",
    " \n",
    "        n -= 1\n",
    " \n",
    "        # Print the last row from\n",
    "        # the remaining rows\n",
    "        if (k < m):\n",
    " \n",
    "            for i in range(n - 1, (l - 1), -1):\n",
    "                print(a[m - 1][i], end=\" \")\n",
    " \n",
    "            m -= 1\n",
    " \n",
    "        # Print the first column from\n",
    "        # the remaining columns\n",
    "        if (l < n):\n",
    "            for i in range(m - 1, k - 1, -1):\n",
    "                print(a[i][l], end=\" \")\n",
    " \n",
    "            l += 1\n",
    " \n",
    " \n",
    "# Driver Code\n",
    "a = [[1, 2, 3, 4, 5, 6],\n",
    "     [7, 8, 9, 10, 11, 12],\n",
    "     [13, 14, 15, 16, 17, 18]]\n",
    " \n",
    "R = 3\n",
    "C = 6\n",
    " \n",
    "# Function Call\n",
    "spiralPrint(R, C, a)\n",
    " \n"
   ]
  },
  {
   "cell_type": "code",
   "execution_count": null,
   "metadata": {
    "colab": {
     "base_uri": "https://localhost:8080/"
    },
    "id": "VmiXsoeCVc4z",
    "outputId": "d006e1f8-7706-4705-d90d-0c3bfc91ca56"
   },
   "outputs": [
    {
     "name": "stdout",
     "output_type": "stream",
     "text": [
      "Row 3 has max sum 35\n"
     ]
    }
   ],
   "source": [
    "import sys \n",
    "  \n",
    "N = 5 # No of rows and column  \n",
    "  \n",
    "# Function to find the row with max sum  \n",
    "def colMaxSum(mat): \n",
    "  \n",
    "    # Variable to store index of row  \n",
    "    # with maximum  \n",
    "    idx = -1\n",
    "  \n",
    "    # Variable to store max sum  \n",
    "    maxSum = -sys.maxsize \n",
    "  \n",
    "    # Traverse matrix row wise  \n",
    "    for i in range(0, N):  \n",
    "        sum = 0\n",
    "  \n",
    "        # calculate sum of row  \n",
    "        for j in range(0, N):  \n",
    "            sum += mat[i][j]  \n",
    "  \n",
    "        # Update maxSum if it is less than  \n",
    "        # current sum  \n",
    "        if (sum > maxSum): \n",
    "            maxSum = sum\n",
    "  \n",
    "            # store index  \n",
    "            idx = i  \n",
    "  \n",
    "    res = [idx, maxSum] \n",
    "  \n",
    "    # return result  \n",
    "    return res \n",
    "  \n",
    "# Driver code  \n",
    "mat = [[ 1, 2, 3, 4, 5],  \n",
    "       [ 5, 3, 1, 4, 2],  \n",
    "       [ 5, 6, 7, 8, 9],  \n",
    "       [ 0, 6, 3, 4, 12],  \n",
    "       [ 9, 7, 12, 4, 3]]  \n",
    "  \n",
    "ans = colMaxSum(mat) \n",
    "print(\"Row\", ans[0] + 1, \"has max sum\", ans[1]) "
   ]
  },
  {
   "cell_type": "code",
   "execution_count": null,
   "metadata": {
    "colab": {
     "base_uri": "https://localhost:8080/",
     "height": 34
    },
    "id": "kcSW9mPfVeOy",
    "outputId": "4a2c1c07-47c7-43c5-ca76-514308d2f753"
   },
   "outputs": [
    {
     "name": "stdout",
     "output_type": "stream",
     "text": [
      "Column 5 has max Sum 31\n"
     ]
    }
   ],
   "source": [
    "N = 5\n",
    "  \n",
    "# Function to find the column with max Sum \n",
    "def colMaxSum(mat): \n",
    "      \n",
    "    # Variable to store index of column \n",
    "    # with maximum \n",
    "    idx = -1\n",
    "  \n",
    "    # Variable to store max Sum \n",
    "    maxSum = -10**9\n",
    "  \n",
    "    # Traverse matrix column wise \n",
    "    for i in range(N): \n",
    "  \n",
    "        Sum = 0\n",
    "  \n",
    "        # calculate Sum of column \n",
    "        for j in range(N): \n",
    "            Sum += mat[j][i] \n",
    "  \n",
    "        # Update maxSum if it is less  \n",
    "        # than current Sum \n",
    "        if (Sum > maxSum): \n",
    "            maxSum = Sum\n",
    "  \n",
    "            # store index \n",
    "            idx = i \n",
    "          \n",
    "    # return result \n",
    "    return idx, maxSum \n",
    "  \n",
    "# Driver Code \n",
    "  \n",
    "mat = [[ 1, 2, 3, 4, 5 ], \n",
    "       [ 5, 3, 1, 4, 2 ], \n",
    "       [ 5, 6, 7, 8, 9 ], \n",
    "       [ 0, 6, 3, 4, 12 ], \n",
    "       [ 9, 7, 12, 4, 3 ]] \n",
    "  \n",
    "ans, ans0 = colMaxSum(mat) \n",
    "  \n",
    "print(\"Column\", ans + 1,     \n",
    "      \"has max Sum\", ans0)"
   ]
  },
  {
   "cell_type": "code",
   "execution_count": 5,
   "metadata": {
    "id": "iojqwRfwlpq1"
   },
   "outputs": [
    {
     "name": "stdout",
     "output_type": "stream",
     "text": [
      "1 \n",
      "2 \n",
      "3 \n",
      "4 \n",
      "5 \n",
      "6 \n",
      "7 \n",
      "8 \n",
      "9 \n",
      "1 4 7 8 5 2 3 6 9 "
     ]
    }
   ],
   "source": [
    "\n",
    "#Wave print\n",
    "nRows=3\n",
    "mCols=3\n",
    "mat=[[1,2,3],[4,5,6],[7,8,9]]\n",
    "\n",
    "for i in range(0,mCols):\n",
    "    for j in range(0,nRows):\n",
    "        print(mat[i][j],end=\" \")\n",
    "        print()\n",
    "for i in range(0,mCols):\n",
    "    if(i%2==0):\n",
    "        for j in range(0,nRows):\n",
    "            print(mat[j][i],end=\" \")\n",
    "    else:\n",
    "        for j in range(nRows-1,-1,-1):\n",
    "            print(mat[j][i],end=\" \")\n"
   ]
  },
  {
   "cell_type": "code",
   "execution_count": null,
   "metadata": {
    "id": "yTRTko1KlsQM"
   },
   "outputs": [],
   "source": [
    "nRows,mCols=(3,3)\n",
    "arr=[\n",
    "     [2,2],[1,1],[1,1]\n",
    "    ]\n",
    "isrow=True\n",
    "largestsum=0\n",
    "num=0\n",
    "for i in range(nRows):\n",
    "  rowsum=0\n",
    "  for j in range(mCols):\n",
    "    rowsum=rowsum+arr[i][j]\n",
    "      if(rowsum>largestsum):\n",
    "      largestsum=rowsum\n",
    "num=0\n",
    "for j in range(mCols):\n",
    "  rowsum=0\n",
    "  for i in range(nrows):\n",
    "    colsum+=arr[i][j]\n",
    "    if colsum>largestsum:\n",
    "      largestsum=colsum\n",
    "      num=j\n",
    "      isrow=False\n",
    "      if isrow:\n",
    "        print(\"row\"+str(num)+\" \"+str(largestsum))\n",
    "      else:\n",
    "        print(\"column\"+str(num)+\" \"+str(largestsum))\n",
    "   \n"
   ]
  },
  {
   "cell_type": "code",
   "execution_count": 1,
   "metadata": {
    "id": "sUG47loku_3i"
   },
   "outputs": [],
   "source": [
    "def spiralPrint(mat, nRows, mCols):\n",
    "    k=0\n",
    "    l=0\n",
    "    \n",
    "    while(k<nRows and l<mCols):\n",
    "        for i in range(l,mCols):\n",
    "            print(mat[k][i],end=\" \")\n",
    "        k=k+1\n",
    "        for i in range(k,nRows):\n",
    "            print(mat[i][mCols-1],end=\" \")\n",
    "        mCols=mCols-1\n",
    "        if(k<nRows):\n",
    "            for i in range(mCols-1,l-1,-1):\n",
    "                print(mat[nRows-1][i],end=\" \")\n",
    "            nRows=nRows-1\n",
    "        if(l<mCols):\n",
    "            for i in range(nRows-1,k-1,-1):\n",
    "                print(mat[i][l],end=\" \")\n",
    "            l=l+1\n",
    "\n"
   ]
  },
  {
   "cell_type": "code",
   "execution_count": 2,
   "metadata": {},
   "outputs": [
    {
     "ename": "IndentationError",
     "evalue": "unexpected indent (<ipython-input-2-fb3da5762d91>, line 2)",
     "output_type": "error",
     "traceback": [
      "\u001b[1;36m  File \u001b[1;32m\"<ipython-input-2-fb3da5762d91>\"\u001b[1;36m, line \u001b[1;32m2\u001b[0m\n\u001b[1;33m    numElements = nRows * mCols  # 20\u001b[0m\n\u001b[1;37m    ^\u001b[0m\n\u001b[1;31mIndentationError\u001b[0m\u001b[1;31m:\u001b[0m unexpected indent\n"
     ]
    }
   ],
   "source": [
    "rowStart, colStart = 0, 0\n",
    "    numElements = nRows * mCols  # 20\n",
    "    count = 0\n",
    "    while count < numElements :\n",
    "        \n",
    "        i = colStart\n",
    "        while i < mCols   :\n",
    "            print(mat[rowStart][i], end = \" \")\n",
    "            count += 1 # 4\n",
    "            i += 1\n",
    "            \n",
    "        rowStart += 1\n",
    "        \n",
    "        \n",
    "        i = rowStart #1\n",
    "        while i < nRows   :\n",
    "            print(mat[i][mCols - 1], end = \" \")\n",
    "            count += 1 #8\n",
    "            i += 1\n",
    "            \n",
    "            \n",
    "        mCols -= 1 # 3\n",
    "        \n",
    "        \n",
    "        i = mCols - 1 #2\n",
    "        while i >= colStart  :\n",
    "            print(mat[nRows - 1][i], end = \" \")\n",
    "            count += 1 #11\n",
    "            i -= 1\n",
    "            \n",
    "        nRows -= 1\n",
    "        \n",
    "        \n",
    "        \n",
    "        i = nRows - 1\n",
    "        while i >= rowStart :\n",
    "            print(mat[i][colStart], end = \" \")\n",
    "            count += 1 # 14\n",
    "            i -= 1\n",
    "            \n",
    "        colStart += 1\n",
    "\n",
    "\n"
   ]
  },
  {
   "cell_type": "code",
   "execution_count": 3,
   "metadata": {},
   "outputs": [],
   "source": [
    "cinema = []\n",
    "\n",
    "for j in range(5):\n",
    "    column = []\n",
    "    for i in range(5):\n",
    "        column.append(0)\n",
    "    cinema.append(column)"
   ]
  },
  {
   "cell_type": "code",
   "execution_count": 4,
   "metadata": {},
   "outputs": [
    {
     "name": "stdout",
     "output_type": "stream",
     "text": [
      "00000\n",
      "00000\n",
      "00000\n",
      "00000\n",
      "00000\n"
     ]
    }
   ],
   "source": [
    "cols = len(cinema)\n",
    "rows = 0\n",
    "if cols:\n",
    "    rows = len(cinema[0])\n",
    "for j in range(rows):\n",
    "    for i in range(cols):\n",
    "        print(cinema[i][j], end = \"\")\n",
    "    print()\n"
   ]
  },
  {
   "cell_type": "code",
   "execution_count": 7,
   "metadata": {},
   "outputs": [
    {
     "name": "stdout",
     "output_type": "stream",
     "text": [
      "[[0, 1, 2, 3, 4], [0, 1, 2, 3, 4], [0, 1, 2, 3, 4], [0, 1, 2, 3, 4], [0, 1, 2, 3, 4]]\n"
     ]
    }
   ],
   "source": [
    " matrix = [] \n",
    "  \n",
    "for i in range(5): \n",
    "      \n",
    "    # Append an empty sublist inside the list \n",
    "    matrix.append([]) \n",
    "      \n",
    "    for j in range(5): \n",
    "        matrix[i].append(j) \n",
    "          \n",
    "print(matrix) "
   ]
  },
  {
   "cell_type": "code",
   "execution_count": 8,
   "metadata": {},
   "outputs": [
    {
     "name": "stdout",
     "output_type": "stream",
     "text": [
      "[[0, 1, 2, 3, 4], [0, 1, 2, 3, 4], [0, 1, 2, 3, 4], [0, 1, 2, 3, 4], [0, 1, 2, 3, 4]]\n"
     ]
    }
   ],
   "source": [
    "matrix = [[j for j in range(5)] for i in range(5)] \n",
    "  \n",
    "print(matrix)"
   ]
  },
  {
   "cell_type": "code",
   "execution_count": 44,
   "metadata": {},
   "outputs": [],
   "source": [
    "li = [1,2,3,4,],[2,4],[8,9,3]"
   ]
  },
  {
   "cell_type": "code",
   "execution_count": 45,
   "metadata": {},
   "outputs": [
    {
     "data": {
      "text/plain": [
       "[1, 2, 3, 4]"
      ]
     },
     "execution_count": 45,
     "metadata": {},
     "output_type": "execute_result"
    }
   ],
   "source": [
    "li[0]"
   ]
  },
  {
   "cell_type": "code",
   "execution_count": 46,
   "metadata": {},
   "outputs": [
    {
     "ename": "IndexError",
     "evalue": "list index out of range",
     "output_type": "error",
     "traceback": [
      "\u001b[1;31m---------------------------------------------------------------------------\u001b[0m",
      "\u001b[1;31mIndexError\u001b[0m                                Traceback (most recent call last)",
      "\u001b[1;32m<ipython-input-46-ca4fa50daf0e>\u001b[0m in \u001b[0;36m<module>\u001b[1;34m\u001b[0m\n\u001b[1;32m----> 1\u001b[1;33m \u001b[0mli\u001b[0m\u001b[1;33m[\u001b[0m\u001b[1;36m2\u001b[0m\u001b[1;33m]\u001b[0m\u001b[1;33m[\u001b[0m\u001b[1;36m4\u001b[0m\u001b[1;33m]\u001b[0m\u001b[1;33m\u001b[0m\u001b[1;33m\u001b[0m\u001b[0m\n\u001b[0m",
      "\u001b[1;31mIndexError\u001b[0m: list index out of range"
     ]
    }
   ],
   "source": [
    "li[2][4]"
   ]
  },
  {
   "cell_type": "code",
   "execution_count": 47,
   "metadata": {},
   "outputs": [
    {
     "name": "stdout",
     "output_type": "stream",
     "text": [
      "[[0, 1, 2, 3, 4, 0, 1, 2, 3, 4], [0, 1, 2, 3, 4, 0, 1, 2, 3, 4], [0, 1, 2, 3, 4, 0, 1, 2, 3, 4], [0, 1, 2, 3, 4, 0, 1, 2, 3, 4], [0, 1, 2, 3, 4, 0, 1, 2, 3, 4], [], [], [], [], []]\n"
     ]
    }
   ],
   "source": [
    "for i in range(5): \n",
    "      \n",
    "    # Append an empty sublist inside the list \n",
    "    matrix.append([]) \n",
    "      \n",
    "    for j in range(5): \n",
    "        matrix[i].append(j) \n",
    "          \n",
    "print(matrix) \n"
   ]
  },
  {
   "cell_type": "code",
   "execution_count": 48,
   "metadata": {},
   "outputs": [
    {
     "name": "stdout",
     "output_type": "stream",
     "text": [
      "[[0, 1, 2, 3, 4], [0, 1, 2, 3, 4], [0, 1, 2, 3, 4], [0, 1, 2, 3, 4], [0, 1, 2, 3, 4]]\n"
     ]
    }
   ],
   "source": [
    "matrix = [[j for j in range(5)] for i in range(5)] \n",
    "  \n",
    "print(matrix) \n"
   ]
  },
  {
   "cell_type": "code",
   "execution_count": 6,
   "metadata": {},
   "outputs": [
    {
     "name": "stdout",
     "output_type": "stream",
     "text": [
      "3\n"
     ]
    }
   ],
   "source": [
    "#Python3 program to Count number of lists in a list of lists \n",
    "  \n",
    "def countList(lst): \n",
    "    return len(lst) \n",
    "      \n",
    "# Driver code \n",
    "lst = [[1, 2, 3], [4, 5], [6, 7, 8, 9]] \n",
    "print(countList(lst))"
   ]
  },
  {
   "cell_type": "code",
   "execution_count": 7,
   "metadata": {},
   "outputs": [
    {
     "name": "stdout",
     "output_type": "stream",
     "text": [
      "3\n"
     ]
    }
   ],
   "source": [
    "def countList(lst): \n",
    "    return sum(isinstance(i, list) for i in lst) \n",
    "      \n",
    "# Driver code \n",
    "lst = [[1, 2, 3], [4, 5], [6, 7, 8, 9]] \n",
    "print(countList(lst)) "
   ]
  },
  {
   "cell_type": "markdown",
   "metadata": {},
   "source": [
    "# Creating a two dimensional List by using random numbers"
   ]
  },
  {
   "cell_type": "code",
   "execution_count": 9,
   "metadata": {},
   "outputs": [
    {
     "name": "stdout",
     "output_type": "stream",
     "text": [
      "[[4, 3, 1, 1, 1], [3, 5, 1, 0, 7], [3, 9, 7, 8, 7], [3, 2, 3, 4, 3], [9, 3, 4, 7, 2]]\n"
     ]
    }
   ],
   "source": [
    "from random import randrange\n",
    "n=5 # dimension of the matrix \n",
    "my_list=[] # declare a list \n",
    "\n",
    "for i in range(0,n):\n",
    "    l1=[]  \n",
    "    for j in range(0,n):\n",
    "        x=randrange(10)\n",
    "        l1.append(x) # adding element to the list \n",
    "        \n",
    "    my_list.append(l1)\n",
    "print(my_list)"
   ]
  },
  {
   "cell_type": "code",
   "execution_count": 10,
   "metadata": {},
   "outputs": [
    {
     "name": "stdout",
     "output_type": "stream",
     "text": [
      "Random integer from 0 to 9\n",
      "Random integer:  2\n",
      "Random integer from 10 to 100\n",
      "Random integer:  20\n"
     ]
    }
   ],
   "source": [
    "##random.randint() examples of generating random integers\n",
    "import random\n",
    "\n",
    "print(\"Random integer from 0 to 9\")\n",
    "num1 = random.randint(0, 9)\n",
    "print(\"Random integer: \", num1)\n",
    "\n",
    "print(\"Random integer from 10 to 100\")\n",
    "num2 = random.randint(10, 100)\n",
    "print(\"Random integer: \", num2)"
   ]
  },
  {
   "cell_type": "code",
   "execution_count": 11,
   "metadata": {},
   "outputs": [
    {
     "name": "stdout",
     "output_type": "stream",
     "text": [
      "Generate random number within a given range in Python \n",
      "Random integer:  31\n",
      "Random integer:  38\n",
      "Random integer:  55\n"
     ]
    }
   ],
   "source": [
    "import random\n",
    "\n",
    "print(\"Generate random number within a given range in Python \")\n",
    "# Random number between 0 and 39\n",
    "num1 = random.randrange(40)\n",
    "print(\"Random integer: \", num1)\n",
    "\n",
    "# Random number between 20 and 39\n",
    "num2 = random.randrange(20, 40)\n",
    "print(\"Random integer: \", num2)\n",
    "\n",
    "# Random number between 25 and 249 divisible by 5\n",
    "num3 = random.randrange(25, 250, 5)\n",
    "print(\"Random integer: \", num3)\n"
   ]
  },
  {
   "cell_type": "code",
   "execution_count": 12,
   "metadata": {},
   "outputs": [
    {
     "name": "stdout",
     "output_type": "stream",
     "text": [
      "-1\n"
     ]
    }
   ],
   "source": [
    "import random\n",
    "\n",
    "num = random.randint(-10, 10)\n",
    "print(num)\n"
   ]
  },
  {
   "cell_type": "code",
   "execution_count": 13,
   "metadata": {},
   "outputs": [
    {
     "name": "stdout",
     "output_type": "stream",
     "text": [
      "1\n"
     ]
    }
   ],
   "source": [
    "import random\n",
    "\n",
    "num = random.choice([-1, 1])\n",
    "print(num)\n"
   ]
  },
  {
   "cell_type": "code",
   "execution_count": 14,
   "metadata": {},
   "outputs": [
    {
     "name": "stdout",
     "output_type": "stream",
     "text": [
      "Printing list of 10 random numbers\n",
      "[549, 165, 985, 826, 700, 687, 927, 828, 741, 843]\n"
     ]
    }
   ],
   "source": [
    "import random\n",
    "\n",
    "randomList = []\n",
    "# Set a length of the list to 10\n",
    "for i in range(0, 10):\n",
    "    # any random numbers from 0 to 1000\n",
    "    randomList.append(random.randint(0, 1000))\n",
    "\n",
    "print(\"Printing list of 10 random numbers\")\n",
    "print(randomList)\n"
   ]
  },
  {
   "cell_type": "code",
   "execution_count": 15,
   "metadata": {},
   "outputs": [
    {
     "name": "stdout",
     "output_type": "stream",
     "text": [
      "[337, 224, 907, 536, 705, 572, 913, 825, 983, 625]\n"
     ]
    }
   ],
   "source": [
    "import random\n",
    "\n",
    "# Generate 'n' unique random numbers within a range\n",
    "randomList = random.sample(range(0, 1000), 10)\n",
    "print(randomList)\n"
   ]
  },
  {
   "cell_type": "code",
   "execution_count": 16,
   "metadata": {},
   "outputs": [
    {
     "name": "stdout",
     "output_type": "stream",
     "text": [
      "Before sorting random integers list\n",
      "[270, 310, 70, 405, 165]\n",
      "After sorting random integers list\n",
      "[70, 165, 270, 310, 405]\n"
     ]
    }
   ],
   "source": [
    "import random\n",
    "\n",
    "randomList = random.sample(range(50, 500, 5), 5)\n",
    "print(\"Before sorting random integers list\")\n",
    "print(randomList)\n",
    "\n",
    "randomList.sort()\n",
    "print(\"After sorting random integers list\")\n",
    "print(randomList)\n"
   ]
  },
  {
   "cell_type": "code",
   "execution_count": 18,
   "metadata": {},
   "outputs": [
    {
     "name": "stdout",
     "output_type": "stream",
     "text": [
      "Random integer generated using secrets module is \n",
      "8\n"
     ]
    }
   ],
   "source": [
    "import secrets\n",
    "\n",
    "print(\"Random integer generated using secrets module is \")\n",
    "# from 0 to 10\n",
    "secureNum1 = secrets.randbelow(10)\n",
    "print(secureNum1)\n"
   ]
  },
  {
   "cell_type": "code",
   "execution_count": null,
   "metadata": {},
   "outputs": [],
   "source": []
  }
 ],
 "metadata": {
  "colab": {
   "name": "Two dimensional lists.ipynb",
   "provenance": []
  },
  "kernelspec": {
   "display_name": "Python 3",
   "language": "python",
   "name": "python3"
  },
  "language_info": {
   "codemirror_mode": {
    "name": "ipython",
    "version": 3
   },
   "file_extension": ".py",
   "mimetype": "text/x-python",
   "name": "python",
   "nbconvert_exporter": "python",
   "pygments_lexer": "ipython3",
   "version": "3.8.3"
  }
 },
 "nbformat": 4,
 "nbformat_minor": 1
}
