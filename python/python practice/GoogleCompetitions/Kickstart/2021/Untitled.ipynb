{
 "cells": [
  {
   "cell_type": "code",
   "execution_count": 5,
   "metadata": {},
   "outputs": [
    {
     "name": "stdout",
     "output_type": "stream",
     "text": [
      "1\n",
      "6 2\n",
      "CABABC\n",
      "Case #1: 0\n"
     ]
    }
   ],
   "source": [
    "def goodness(n,k,a):\n",
    "    operation = 0\n",
    "    for i in range(1,n//2+1):\n",
    "        if (n-i+1>=n):\n",
    "            continue\n",
    "        elif (k==0):\n",
    "            break\n",
    "        elif (a[i]==a[n-i+1]):\n",
    "            operation += 1\n",
    "        elif (a[i]!=a[n-i+1]):\n",
    "            k = k - 1\n",
    "    return operation\n",
    "\n",
    "\n",
    "T = int(input())\n",
    "for i in range(1,T+1):\n",
    "    s = input().split()\n",
    "    N,K = int(s[0]),int(s[1])\n",
    "    A = input()\n",
    "    X = goodness(N,K,A)\n",
    "    print(\"Case #{}: {}\".format(i,X))"
   ]
  },
  {
   "cell_type": "code",
   "execution_count": 10,
   "metadata": {},
   "outputs": [
    {
     "name": "stdout",
     "output_type": "stream",
     "text": [
      "1\n",
      "6\n",
      "ABACDA\n",
      "Case #1: 1 2 1 2 3 1\n"
     ]
    }
   ],
   "source": [
    "def substring(a):\n",
    "    x = []\n",
    "    for i in a:\n",
    "        c = ord(i)\n",
    "        x.append(c)\n",
    "    v = len(x)\n",
    "    w = [1]\n",
    "    for i in range(v-1):\n",
    "            if (x[i]<x[i+1]):\n",
    "                q = w[-1]+1\n",
    "                w.append(q)               \n",
    "                    \n",
    "            else:\n",
    "                q = 1\n",
    "                w.append(q)\n",
    "    return w\n",
    "\n",
    "T = int(input())\n",
    "for i in range(T):\n",
    "    n = int(input())\n",
    "    a = input()\n",
    "    b = substring(a)\n",
    "    s = str(b)[1:-1]\n",
    "    r = s.replace(\",\",\"\")\n",
    "    print(\"Case #{}: {}\".format(i+1,r))"
   ]
  },
  {
   "cell_type": "code",
   "execution_count": 28,
   "metadata": {},
   "outputs": [
    {
     "name": "stdout",
     "output_type": "stream",
     "text": [
      "2\n",
      "2021\n",
      "Case #1: 2021\n",
      "2020\n",
      "Case #2: 1763\n",
      "--- 8.172550678253174 seconds ---\n"
     ]
    }
   ],
   "source": [
    "import time\n",
    "start_time = time.time()\n",
    "def primenum(a):\n",
    "    x = []\n",
    "    for num in range(0, a + 1):\n",
    "        if num > 1: \n",
    "            for i in range(2, num):   \n",
    "                if (num % i) == 0:\n",
    "                    break\n",
    "            else:\n",
    "                x.append(num)\n",
    "    return x    \n",
    "\n",
    "def findprime(n,z):\n",
    "    x = len(z)\n",
    "    c = 0\n",
    "    q = []\n",
    "    for i in range(x-1):\n",
    "        if (z[i]*z[i+1]<=n):\n",
    "            w = []\n",
    "            w.append(z[i])\n",
    "            w.append(z[i+1])\n",
    "            q.append(w)\n",
    "    d = max(q)\n",
    "    c = d[0]*d[1]\n",
    "    return c\n",
    "    \n",
    "\n",
    "T = int(input())\n",
    "for i in range(T):\n",
    "    n = int(input())\n",
    "    a = n//2\n",
    "    z = primenum(a)\n",
    "    y = findprime(n,z)\n",
    "    print(\"Case #{}: {}\".format(i+1,y))\n",
    "print(\"--- %s seconds ---\" % (time.time() - start_time))"
   ]
  },
  {
   "cell_type": "code",
   "execution_count": 34,
   "metadata": {},
   "outputs": [
    {
     "name": "stdout",
     "output_type": "stream",
     "text": [
      "10\n",
      "9\n"
     ]
    }
   ],
   "source": [
    "G = int(input())\n",
    "K = 1\n",
    "i = 0\n",
    "g = 1\n",
    "for i in range(1,G):\n",
    "    K = K + i - 1\n",
    "    if (K==G):\n",
    "        i = i + 1\n",
    "        print(i)\n",
    "        break\n",
    "print(i)"
   ]
  },
  {
   "cell_type": "code",
   "execution_count": 39,
   "metadata": {},
   "outputs": [
    {
     "name": "stdout",
     "output_type": "stream",
     "text": [
      "10\n"
     ]
    }
   ],
   "source": [
    "b = 0\n",
    "for i in range(1,10):\n",
    "    b = b + i\n",
    "    if (b==10):\n",
    "        break\n",
    "print(b)"
   ]
  },
  {
   "cell_type": "code",
   "execution_count": 52,
   "metadata": {},
   "outputs": [
    {
     "name": "stdout",
     "output_type": "stream",
     "text": [
      "2\n",
      "10\n",
      "Case #1: 4\n",
      "125\n",
      "Case #2: 16\n"
     ]
    }
   ],
   "source": [
    "T = int(input())\n",
    "for b in range(1,T+1):\n",
    "    G = int(input())\n",
    "    g = 0\n",
    "    for i in range(1,G+1):\n",
    "        K = i\n",
    "        for j in range(1,G+1):\n",
    "            K = K+j-1\n",
    "            if (K ==G):\n",
    "                g = g + 1\n",
    "                break\n",
    "            elif (K>G):\n",
    "                break\n",
    "    print(\"Case #{}: {}\".format(b,g))"
   ]
  },
  {
   "cell_type": "code",
   "execution_count": 62,
   "metadata": {},
   "outputs": [
    {
     "name": "stdout",
     "output_type": "stream",
     "text": [
      "10\n",
      "K 13260277\n",
      "K 13260278\n",
      "K 13260279\n",
      "K 13260280\n",
      "K 13260281\n",
      "K 13260282\n",
      "K 13260283\n",
      "K 13260284\n",
      "K 13260285\n",
      "0\n"
     ]
    }
   ],
   "source": [
    "G = int(input())\n",
    "g = 0\n",
    "for i in range(1,G+1):\n",
    "    K = i\n",
    "    for j in range(K+1,G+1):\n",
    "        if (K ==G):\n",
    "            g = g + 1\n",
    "            print(\"K\",K)\n",
    "            break\n",
    "        K = k+j\n",
    "        print(\"K\",K)\n",
    "        if (K ==G):\n",
    "            g = g + 1\n",
    "            print(\"K\",K)\n",
    "            break\n",
    "        elif (K>G):\n",
    "            break\n",
    "print(g)                "
   ]
  },
  {
   "cell_type": "code",
   "execution_count": 3,
   "metadata": {},
   "outputs": [
    {
     "name": "stdout",
     "output_type": "stream",
     "text": [
      "3\n",
      "3 4 11\n",
      "10 9\n",
      "-1 6 7\n",
      "Case #1: 4\n",
      "4 1 6\n",
      "3 5\n",
      "2 5 6\n",
      "Case #2: 3\n",
      "9 9 9\n",
      "9 9\n",
      "9 9 9\n",
      "Case #3: 8\n"
     ]
    }
   ],
   "source": [
    "def ap(a,b,c,d,f,g,h,i):\n",
    "    qw = []\n",
    "    for e in range(0,10):\n",
    "        count = 0\n",
    "        if (a-b == b-c):\n",
    "            count += 1\n",
    "        if (d-e == e-f):\n",
    "            count += 1\n",
    "        if (g-h == h-i):\n",
    "            count += 1\n",
    "        if (a-d == d-g):\n",
    "            count += 1\n",
    "        if (e-h == b-e):\n",
    "            count += 1\n",
    "        if (c-f == f-i):\n",
    "            count += 1\n",
    "        if (a-e == e-i):\n",
    "            count += 1\n",
    "        if (g-e == e-c):\n",
    "            count += 1\n",
    "        qw.append(count)\n",
    "    return max(qw)\n",
    "        \n",
    "\n",
    "s = int(input())\n",
    "for w in range(s):\n",
    "    m = input().split()\n",
    "    a = int(m[0])\n",
    "    b = int(m[1])\n",
    "    c = int(m[2])\n",
    "    k = input().split()\n",
    "    d = int(k[0])\n",
    "    f = int(k[1])\n",
    "    l = input().split()\n",
    "    g = int(l[0])\n",
    "    h = int(l[1])\n",
    "    i = int(l[2])\n",
    "    z = ap(a,b,c,d,f,g,h,i)\n",
    "    print(\"Case #{}: {}\".format(w+1,z))"
   ]
  },
  {
   "cell_type": "code",
   "execution_count": 6,
   "metadata": {},
   "outputs": [
    {
     "name": "stdout",
     "output_type": "stream",
     "text": [
      "2\n",
      "kick\n",
      "Case #1: ckki\n",
      "sfkewres\n",
      "Case #2: kewressf\n"
     ]
    }
   ],
   "source": [
    "def check(s,a):\n",
    "    x = list(a)\n",
    "    y = list(s)\n",
    "    for i in range(len(x)):\n",
    "        if (x[i]==y[i]):\n",
    "            return False\n",
    "    return True\n",
    "    \n",
    "def anagram(a):\n",
    "    n = len(a)\n",
    "    i = len(a)-2\n",
    "    for i in range(n):\n",
    "        s = a[i:]+a[0:i]\n",
    "        i -= 1\n",
    "        if(check(s,a)==True):\n",
    "            return s\n",
    "            \n",
    "    return \"IMPOSSIBLE\"\n",
    "\n",
    "t = int(input())\n",
    "for i in range(t):\n",
    "    a = input()\n",
    "    b = anagram(a)\n",
    "    print(\"Case #{}: {}\".format(i+1,b))"
   ]
  },
  {
   "cell_type": "code",
   "execution_count": 14,
   "metadata": {},
   "outputs": [
    {
     "name": "stdout",
     "output_type": "stream",
     "text": [
      "2\n",
      "start\n",
      "Case #1: tsrta\n",
      "kick\n",
      "Case #2: ikkc\n"
     ]
    }
   ],
   "source": [
    "import itertools\n",
    "def check(s,a):\n",
    "    x = list(a)\n",
    "    y = list(s)\n",
    "    for k in range(len(x)):\n",
    "        if (x[k]==y[k]):\n",
    "            return False\n",
    "    return True\n",
    "    \n",
    "def anagram(a):\n",
    "    n = len(a)\n",
    "    i = len(a)-2\n",
    "    d = [\"\".join(perm) for perm in itertools.permutations(a)]\n",
    "    for i in range(len(d)):\n",
    "        s = d[i]\n",
    "        if(check(s,a)==True):\n",
    "            return s\n",
    "            \n",
    "    return \"IMPOSSIBLE\"\n",
    "\n",
    "t = int(input())\n",
    "for i in range(t):\n",
    "    a = input()\n",
    "    b = anagram(a)\n",
    "    print(\"Case #{}: {}\".format(i+1,b))"
   ]
  },
  {
   "cell_type": "code",
   "execution_count": 1,
   "metadata": {},
   "outputs": [
    {
     "name": "stdout",
     "output_type": "stream",
     "text": [
      "1\n",
      "3\n",
      "1 2 3\n"
     ]
    },
    {
     "ename": "TypeError",
     "evalue": "sequence item 0: expected str instance, int found",
     "output_type": "error",
     "traceback": [
      "\u001b[1;31m---------------------------------------------------------------------------\u001b[0m",
      "\u001b[1;31mTypeError\u001b[0m                                 Traceback (most recent call last)",
      "\u001b[1;32m<ipython-input-1-f49a94645499>\u001b[0m in \u001b[0;36m<module>\u001b[1;34m\u001b[0m\n\u001b[0;32m      5\u001b[0m     \u001b[0mn\u001b[0m \u001b[1;33m=\u001b[0m \u001b[0mint\u001b[0m\u001b[1;33m(\u001b[0m\u001b[0minput\u001b[0m\u001b[1;33m(\u001b[0m\u001b[1;33m)\u001b[0m\u001b[1;33m)\u001b[0m\u001b[1;33m\u001b[0m\u001b[1;33m\u001b[0m\u001b[0m\n\u001b[0;32m      6\u001b[0m     \u001b[0marr\u001b[0m \u001b[1;33m=\u001b[0m \u001b[0mlist\u001b[0m\u001b[1;33m(\u001b[0m\u001b[0mmap\u001b[0m\u001b[1;33m(\u001b[0m\u001b[0mint\u001b[0m\u001b[1;33m,\u001b[0m\u001b[0minput\u001b[0m\u001b[1;33m(\u001b[0m\u001b[1;33m)\u001b[0m\u001b[1;33m.\u001b[0m\u001b[0msplit\u001b[0m\u001b[1;33m(\u001b[0m\u001b[1;33m)\u001b[0m\u001b[1;33m)\u001b[0m\u001b[1;33m)\u001b[0m\u001b[1;33m\u001b[0m\u001b[1;33m\u001b[0m\u001b[0m\n\u001b[1;32m----> 7\u001b[1;33m     \u001b[0md\u001b[0m \u001b[1;33m=\u001b[0m \u001b[1;33m[\u001b[0m\u001b[1;34m\"\"\u001b[0m\u001b[1;33m.\u001b[0m\u001b[0mjoin\u001b[0m\u001b[1;33m(\u001b[0m\u001b[0mperm\u001b[0m\u001b[1;33m)\u001b[0m \u001b[1;32mfor\u001b[0m \u001b[0mperm\u001b[0m \u001b[1;32min\u001b[0m \u001b[0mitertools\u001b[0m\u001b[1;33m.\u001b[0m\u001b[0mpermutations\u001b[0m\u001b[1;33m(\u001b[0m\u001b[0marr\u001b[0m\u001b[1;33m)\u001b[0m\u001b[1;33m]\u001b[0m\u001b[1;33m\u001b[0m\u001b[1;33m\u001b[0m\u001b[0m\n\u001b[0m\u001b[0;32m      8\u001b[0m     \u001b[0mprint\u001b[0m\u001b[1;33m(\u001b[0m\u001b[0md\u001b[0m\u001b[1;33m)\u001b[0m\u001b[1;33m\u001b[0m\u001b[1;33m\u001b[0m\u001b[0m\n",
      "\u001b[1;32m<ipython-input-1-f49a94645499>\u001b[0m in \u001b[0;36m<listcomp>\u001b[1;34m(.0)\u001b[0m\n\u001b[0;32m      5\u001b[0m     \u001b[0mn\u001b[0m \u001b[1;33m=\u001b[0m \u001b[0mint\u001b[0m\u001b[1;33m(\u001b[0m\u001b[0minput\u001b[0m\u001b[1;33m(\u001b[0m\u001b[1;33m)\u001b[0m\u001b[1;33m)\u001b[0m\u001b[1;33m\u001b[0m\u001b[1;33m\u001b[0m\u001b[0m\n\u001b[0;32m      6\u001b[0m     \u001b[0marr\u001b[0m \u001b[1;33m=\u001b[0m \u001b[0mlist\u001b[0m\u001b[1;33m(\u001b[0m\u001b[0mmap\u001b[0m\u001b[1;33m(\u001b[0m\u001b[0mint\u001b[0m\u001b[1;33m,\u001b[0m\u001b[0minput\u001b[0m\u001b[1;33m(\u001b[0m\u001b[1;33m)\u001b[0m\u001b[1;33m.\u001b[0m\u001b[0msplit\u001b[0m\u001b[1;33m(\u001b[0m\u001b[1;33m)\u001b[0m\u001b[1;33m)\u001b[0m\u001b[1;33m)\u001b[0m\u001b[1;33m\u001b[0m\u001b[1;33m\u001b[0m\u001b[0m\n\u001b[1;32m----> 7\u001b[1;33m     \u001b[0md\u001b[0m \u001b[1;33m=\u001b[0m \u001b[1;33m[\u001b[0m\u001b[1;34m\"\"\u001b[0m\u001b[1;33m.\u001b[0m\u001b[0mjoin\u001b[0m\u001b[1;33m(\u001b[0m\u001b[0mperm\u001b[0m\u001b[1;33m)\u001b[0m \u001b[1;32mfor\u001b[0m \u001b[0mperm\u001b[0m \u001b[1;32min\u001b[0m \u001b[0mitertools\u001b[0m\u001b[1;33m.\u001b[0m\u001b[0mpermutations\u001b[0m\u001b[1;33m(\u001b[0m\u001b[0marr\u001b[0m\u001b[1;33m)\u001b[0m\u001b[1;33m]\u001b[0m\u001b[1;33m\u001b[0m\u001b[1;33m\u001b[0m\u001b[0m\n\u001b[0m\u001b[0;32m      8\u001b[0m     \u001b[0mprint\u001b[0m\u001b[1;33m(\u001b[0m\u001b[0md\u001b[0m\u001b[1;33m)\u001b[0m\u001b[1;33m\u001b[0m\u001b[1;33m\u001b[0m\u001b[0m\n",
      "\u001b[1;31mTypeError\u001b[0m: sequence item 0: expected str instance, int found"
     ]
    }
   ],
   "source": [
    "import itertools\n",
    "\n",
    "t = int(input())\n",
    "for i in range(t):\n",
    "    n = int(input())\n",
    "    arr = list(map(int,input().split()))\n",
    "    d = [\"\".join(perm) for perm in itertools.permutations(arr)]\n",
    "    print(d)"
   ]
  },
  {
   "cell_type": "code",
   "execution_count": 21,
   "metadata": {},
   "outputs": [
    {
     "name": "stdout",
     "output_type": "stream",
     "text": [
      "1\n",
      "19\n",
      "1000101001011000001\n",
      "Case #1: 17\n"
     ]
    }
   ],
   "source": [
    "def trash(a,n):\n",
    "    x = []\n",
    "    for i in range(n):\n",
    "        if (a[i] == '1'):\n",
    "            x.append(i+1)\n",
    "    s = n - x[-1]\n",
    "    count = 0\n",
    "    if (s > 0):\n",
    "        count += (s*(s+1))//2 \n",
    "    if (x[0] > 1):\n",
    "        r = x[0]-1\n",
    "        count += (r*(r+1))//2\n",
    "    z = []\n",
    "    c = len(x)\n",
    "    for i in range(c-1):\n",
    "        d = x[i+1]-x[i]-1\n",
    "        if (d == 1):\n",
    "            count += 1\n",
    "        elif (d%2==0 and d != 0):\n",
    "            q = d//2\n",
    "            a = d-q\n",
    "            z.append(q)\n",
    "            z.append(a)\n",
    "        elif (d%2 !=0):\n",
    "            q = (d+1)//2\n",
    "            a = d-q\n",
    "            z.append(q)\n",
    "            z.append(a)\n",
    "    e = len(z)\n",
    "    for i in range(e):\n",
    "        count += (z[i]*(z[i]+1))//2\n",
    "    return count\n",
    "\n",
    "t = int(input())\n",
    "for i in range(t):\n",
    "    n = int(input())\n",
    "    a = input()\n",
    "    print(\"Case #{}: {}\".format(i+1,trash(a,n)))"
   ]
  },
  {
   "cell_type": "code",
   "execution_count": 29,
   "metadata": {},
   "outputs": [
    {
     "name": "stdout",
     "output_type": "stream",
     "text": [
      "2\n",
      "10 4 2\n",
      "800 2 8\n",
      "1500 6 9\n",
      "200 4 7\n",
      "400 3 5\n",
      "2300\n",
      "5 3 3\n",
      "400 1 3\n",
      "500 5 5\n",
      "300 2 3\n",
      "800\n"
     ]
    }
   ],
   "source": [
    "def festival(d,n,k,arr,arr2):\n",
    "    flag = 0\n",
    "    while (flag != 1):\n",
    "        a = max(arr2)\n",
    "        b = a[1]\n",
    "        c = a[2]\n",
    "        if (arr[b][2] >arr[c][1]):\n",
    "            flag = 1\n",
    "        else:\n",
    "            arr2.remove(a)\n",
    "    q = max(arr2)\n",
    "    return q[0]\n",
    "\n",
    "def fes(d,n,k,arr):\n",
    "    arr2 = []\n",
    "    for i in range(n):\n",
    "        for j in range(i+1,n):\n",
    "            c = arr[i][0] + arr[j][0]\n",
    "            q = []\n",
    "            q.append(c)\n",
    "            q.append(i)\n",
    "            q.append(j)\n",
    "            arr2.append(q)\n",
    "    return arr2\n",
    "\n",
    "\n",
    "t = int(input())\n",
    "for i in range(t):\n",
    "    d,n,k = map(int,input().split())\n",
    "    arr = []\n",
    "    for j in range(n):\n",
    "        a = list(map(int,input().split()))\n",
    "        arr.append(a)\n",
    "    arr2 = fes(d,n,k,arr)\n",
    "    print(festival(d,n,k,arr,arr2))"
   ]
  },
  {
   "cell_type": "code",
   "execution_count": 35,
   "metadata": {},
   "outputs": [
    {
     "name": "stdout",
     "output_type": "stream",
     "text": [
      "1 \n",
      "10 4 2\n",
      "1 2 3\n",
      "4 5 6\n",
      "7 8 9\n",
      "10 11 12\n",
      "[([1, 2, 3], [4, 5, 6]), ([1, 2, 3], [7, 8, 9]), ([1, 2, 3], [10, 11, 12]), ([4, 5, 6], [1, 2, 3]), ([4, 5, 6], [7, 8, 9]), ([4, 5, 6], [10, 11, 12]), ([7, 8, 9], [1, 2, 3]), ([7, 8, 9], [4, 5, 6]), ([7, 8, 9], [10, 11, 12]), ([10, 11, 12], [1, 2, 3]), ([10, 11, 12], [4, 5, 6]), ([10, 11, 12], [7, 8, 9])]\n"
     ]
    }
   ],
   "source": [
    "from itertools import permutations\n",
    "t = int(input())\n",
    "for i in range(t):\n",
    "    d,n,k = map(int,input().split())\n",
    "    arr = []\n",
    "    for j in range(n):\n",
    "        a = list(map(int,input().split()))\n",
    "        arr.append(a)\n",
    "    a = list(permutations((arr),2))\n",
    "    b = len(a)\n",
    "    c = 0\n",
    "    for i in range(b):\n",
    "        if (a[i][1][1] < a[i][2][1] < a[i][1][2])"
   ]
  },
  {
   "cell_type": "code",
   "execution_count": 1,
   "metadata": {},
   "outputs": [
    {
     "name": "stdout",
     "output_type": "stream",
     "text": [
      "3\n",
      "6 10 4 0\n",
      "CCDCDD\n",
      "Case #1: YES\n",
      "4 1 2 0\n",
      "CCCC\n",
      "Case #2: YES\n",
      "4 2 1 0\n",
      "DCCD\n",
      "Case #3: NO\n"
     ]
    }
   ],
   "source": [
    "t = int(input())\n",
    "for i in range(t):\n",
    "    n,d,c,m = map(int,input().split())\n",
    "    a = 0\n",
    "    b = 0\n",
    "    s = input()\n",
    "    for j in range(n):\n",
    "        if(d == 0 and s[j] == 'D'):\n",
    "            d = -1\n",
    "            break\n",
    "        elif(c == 0 and s[j] == 'C' and 'D' in s[j:]):\n",
    "            d = -1\n",
    "            break\n",
    "        elif(c == 0 and s[j] == 'C' and 'D' not in s[j:]):\n",
    "            break\n",
    "        elif(s[j] == 'D' and d != 0):\n",
    "            d-=1\n",
    "            c+=m\n",
    "        elif(s[j] == 'C' and c != 0):\n",
    "            c-=1\n",
    "    if ( d >= 0):\n",
    "        print(\"Case #{}: YES\".format(i+1))\n",
    "    else:\n",
    "        print(\"Case #{}: NO\".format(i+1))"
   ]
  },
  {
   "cell_type": "code",
   "execution_count": 11,
   "metadata": {},
   "outputs": [
    {
     "name": "stdout",
     "output_type": "stream",
     "text": [
      "[[3, 2], [4, 2], [5, 2]]\n",
      "[[1, 1], [5, 2], [3, 2], [3, 1]]\n",
      "[4, 4, 2, 4, 3]\n"
     ]
    }
   ],
   "source": [
    "a = [1,2,3,1,2,3]\n",
    "k = 8\n",
    "n = 6\n",
    "arr = []\n",
    "b = [[a[0],1]]\n",
    "z = []\n",
    "for i in range(0,n,2):\n",
    "    q = []\n",
    "    if (i < n-1):\n",
    "        c = a[i] + a[i+1]\n",
    "        q.append(c)\n",
    "        q.append(2)\n",
    "    elif (i ==n-1):\n",
    "        c = a[i]\n",
    "        q.append(c)\n",
    "        q.append(1)\n",
    "    arr.append(q)\n",
    "for i in range(1,n,2):\n",
    "    q = []\n",
    "    if (i < n-1):\n",
    "        c = a[i] + a[i+1]\n",
    "        q.append(c)\n",
    "        q.append(2)\n",
    "    elif (i ==n-1):\n",
    "        c = a[i]\n",
    "        q.append(c)\n",
    "        q.append(1)\n",
    "    b.append(q)\n",
    "for i in range(len(arr)-1):\n",
    "    if (arr[i][0]==k):\n",
    "        z.append(arr[i])\n",
    "    elif (arr[i][0]+arr[i+1][0] == k):\n",
    "        c = [arr[i],arr[i+1]]\n",
    "        z.append(c)\n",
    "    elif (arr[i][0]+arr[-1][0]):\n",
    "        c = [arr[i], arr[-1]]\n",
    "        z.append(c)\n",
    "c = b[0][1] + b[-1][1]\n",
    "z.append(c)\n",
    "for i in range(len(b)-1):\n",
    "    if (b[i][0]==k):\n",
    "        print(b[i])\n",
    "        z.append(b[i][1])\n",
    "    elif (b[i][0]+b[i+1][0] == k):\n",
    "        c = b[i][1] + b[i+1][1]\n",
    "        print(b[i],b[i+1])\n",
    "        z.append(c)\n",
    "print(arr)\n",
    "print(b)\n",
    "print(z)"
   ]
  },
  {
   "cell_type": "code",
   "execution_count": null,
   "metadata": {},
   "outputs": [],
   "source": [
    "def fun(arr,n,k):\n",
    "    if (k in arr):\n",
    "        return 1\n",
    "    a = []\n",
    "    b = []\n",
    "    c = []\n",
    "    for i in range(0,n,2):\n",
    "        q = []\n",
    "        if (i < n-1):\n",
    "            c = a[i] + a[i+1]\n",
    "            q.append(c)\n",
    "        a.append(q)\n",
    "    for i in range(1,n,2):\n",
    "        q = []\n",
    "        if (i < n-1):\n",
    "            c = a[i] + a[i+1]\n",
    "            q.append(c)\n",
    "        a.append(q)"
   ]
  },
  {
   "cell_type": "code",
   "execution_count": 16,
   "metadata": {},
   "outputs": [
    {
     "data": {
      "text/plain": [
       "[]"
      ]
     },
     "execution_count": 16,
     "metadata": {},
     "output_type": "execute_result"
    }
   ],
   "source": [
    "arr = [1,2,3,1,2,3]\n",
    "n = 6\n",
    "k = 8\n",
    "s = 0\n",
    "y = []\n",
    "z = sum(arr)\n",
    "if z == k:\n",
    "    y.append(n)\n",
    "for j in range(n):\n",
    "    for i in range(n):\n",
    "        s+=arr[i]\n",
    "        if (s == k):\n",
    "            y.append(i+1)\n",
    "    s = 0\n",
    "for j in range(n):\n",
    "    for i in range(0,n,2):\n",
    "        if (z-arr[i] == k):\n",
    "            y.append(5)"
   ]
  },
  {
   "cell_type": "code",
   "execution_count": null,
   "metadata": {},
   "outputs": [],
   "source": []
  }
 ],
 "metadata": {
  "kernelspec": {
   "display_name": "Python 3",
   "language": "python",
   "name": "python3"
  },
  "language_info": {
   "codemirror_mode": {
    "name": "ipython",
    "version": 3
   },
   "file_extension": ".py",
   "mimetype": "text/x-python",
   "name": "python",
   "nbconvert_exporter": "python",
   "pygments_lexer": "ipython3",
   "version": "3.8.8"
  }
 },
 "nbformat": 4,
 "nbformat_minor": 4
}
