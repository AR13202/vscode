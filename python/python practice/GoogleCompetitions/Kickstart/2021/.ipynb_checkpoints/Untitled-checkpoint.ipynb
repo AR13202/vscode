{
 "cells": [
  {
   "cell_type": "code",
   "execution_count": 5,
   "metadata": {},
   "outputs": [
    {
     "name": "stdout",
     "output_type": "stream",
     "text": [
      "1\n",
      "6 2\n",
      "CABABC\n",
      "Case #1: 0\n"
     ]
    }
   ],
   "source": [
    "def goodness(n,k,a):\n",
    "    operation = 0\n",
    "    for i in range(1,n//2+1):\n",
    "        if (n-i+1>=n):\n",
    "            continue\n",
    "        elif (k==0):\n",
    "            break\n",
    "        elif (a[i]==a[n-i+1]):\n",
    "            operation += 1\n",
    "        elif (a[i]!=a[n-i+1]):\n",
    "            k = k - 1\n",
    "    return operation\n",
    "\n",
    "\n",
    "T = int(input())\n",
    "for i in range(1,T+1):\n",
    "    s = input().split()\n",
    "    N,K = int(s[0]),int(s[1])\n",
    "    A = input()\n",
    "    X = goodness(N,K,A)\n",
    "    print(\"Case #{}: {}\".format(i,X))"
   ]
  },
  {
   "cell_type": "code",
   "execution_count": 10,
   "metadata": {},
   "outputs": [
    {
     "name": "stdout",
     "output_type": "stream",
     "text": [
      "1\n",
      "6\n",
      "ABACDA\n",
      "Case #1: 1 2 1 2 3 1\n"
     ]
    }
   ],
   "source": [
    "def substring(a):\n",
    "    x = []\n",
    "    for i in a:\n",
    "        c = ord(i)\n",
    "        x.append(c)\n",
    "    v = len(x)\n",
    "    w = [1]\n",
    "    for i in range(v-1):\n",
    "            if (x[i]<x[i+1]):\n",
    "                q = w[-1]+1\n",
    "                w.append(q)               \n",
    "                    \n",
    "            else:\n",
    "                q = 1\n",
    "                w.append(q)\n",
    "    return w\n",
    "\n",
    "T = int(input())\n",
    "for i in range(T):\n",
    "    n = int(input())\n",
    "    a = input()\n",
    "    b = substring(a)\n",
    "    s = str(b)[1:-1]\n",
    "    r = s.replace(\",\",\"\")\n",
    "    print(\"Case #{}: {}\".format(i+1,r))"
   ]
  },
  {
   "cell_type": "code",
   "execution_count": 28,
   "metadata": {},
   "outputs": [
    {
     "name": "stdout",
     "output_type": "stream",
     "text": [
      "2\n",
      "2021\n",
      "Case #1: 2021\n",
      "2020\n",
      "Case #2: 1763\n",
      "--- 8.172550678253174 seconds ---\n"
     ]
    }
   ],
   "source": [
    "import time\n",
    "start_time = time.time()\n",
    "def primenum(a):\n",
    "    x = []\n",
    "    for num in range(0, a + 1):\n",
    "        if num > 1: \n",
    "            for i in range(2, num):   \n",
    "                if (num % i) == 0:\n",
    "                    break\n",
    "            else:\n",
    "                x.append(num)\n",
    "    return x    \n",
    "\n",
    "def findprime(n,z):\n",
    "    x = len(z)\n",
    "    c = 0\n",
    "    q = []\n",
    "    for i in range(x-1):\n",
    "        if (z[i]*z[i+1]<=n):\n",
    "            w = []\n",
    "            w.append(z[i])\n",
    "            w.append(z[i+1])\n",
    "            q.append(w)\n",
    "    d = max(q)\n",
    "    c = d[0]*d[1]\n",
    "    return c\n",
    "    \n",
    "\n",
    "T = int(input())\n",
    "for i in range(T):\n",
    "    n = int(input())\n",
    "    a = n//2\n",
    "    z = primenum(a)\n",
    "    y = findprime(n,z)\n",
    "    print(\"Case #{}: {}\".format(i+1,y))\n",
    "print(\"--- %s seconds ---\" % (time.time() - start_time))"
   ]
  },
  {
   "cell_type": "code",
   "execution_count": 34,
   "metadata": {},
   "outputs": [
    {
     "name": "stdout",
     "output_type": "stream",
     "text": [
      "10\n",
      "9\n"
     ]
    }
   ],
   "source": [
    "G = int(input())\n",
    "K = 1\n",
    "i = 0\n",
    "g = 1\n",
    "for i in range(1,G):\n",
    "    K = K + i - 1\n",
    "    if (K==G):\n",
    "        i = i + 1\n",
    "        print(i)\n",
    "        break\n",
    "print(i)"
   ]
  },
  {
   "cell_type": "code",
   "execution_count": 39,
   "metadata": {},
   "outputs": [
    {
     "name": "stdout",
     "output_type": "stream",
     "text": [
      "10\n"
     ]
    }
   ],
   "source": [
    "b = 0\n",
    "for i in range(1,10):\n",
    "    b = b + i\n",
    "    if (b==10):\n",
    "        break\n",
    "print(b)"
   ]
  },
  {
   "cell_type": "code",
   "execution_count": 52,
   "metadata": {},
   "outputs": [
    {
     "name": "stdout",
     "output_type": "stream",
     "text": [
      "2\n",
      "10\n",
      "Case #1: 4\n",
      "125\n",
      "Case #2: 16\n"
     ]
    }
   ],
   "source": [
    "T = int(input())\n",
    "for b in range(1,T+1):\n",
    "    G = int(input())\n",
    "    g = 0\n",
    "    for i in range(1,G+1):\n",
    "        K = i\n",
    "        for j in range(1,G+1):\n",
    "            K = K+j-1\n",
    "            if (K ==G):\n",
    "                g = g + 1\n",
    "                break\n",
    "            elif (K>G):\n",
    "                break\n",
    "    print(\"Case #{}: {}\".format(b,g))"
   ]
  },
  {
   "cell_type": "code",
   "execution_count": 62,
   "metadata": {},
   "outputs": [
    {
     "name": "stdout",
     "output_type": "stream",
     "text": [
      "10\n",
      "K 13260277\n",
      "K 13260278\n",
      "K 13260279\n",
      "K 13260280\n",
      "K 13260281\n",
      "K 13260282\n",
      "K 13260283\n",
      "K 13260284\n",
      "K 13260285\n",
      "0\n"
     ]
    }
   ],
   "source": [
    "G = int(input())\n",
    "g = 0\n",
    "for i in range(1,G+1):\n",
    "    K = i\n",
    "    for j in range(K+1,G+1):\n",
    "        if (K ==G):\n",
    "            g = g + 1\n",
    "            print(\"K\",K)\n",
    "            break\n",
    "        K = k+j\n",
    "        print(\"K\",K)\n",
    "        if (K ==G):\n",
    "            g = g + 1\n",
    "            print(\"K\",K)\n",
    "            break\n",
    "        elif (K>G):\n",
    "            break\n",
    "print(g)                "
   ]
  },
  {
   "cell_type": "code",
   "execution_count": 3,
   "metadata": {},
   "outputs": [
    {
     "name": "stdout",
     "output_type": "stream",
     "text": [
      "3\n",
      "3 4 11\n",
      "10 9\n",
      "-1 6 7\n",
      "Case #1: 4\n",
      "4 1 6\n",
      "3 5\n",
      "2 5 6\n",
      "Case #2: 3\n",
      "9 9 9\n",
      "9 9\n",
      "9 9 9\n",
      "Case #3: 8\n"
     ]
    }
   ],
   "source": [
    "def ap(a,b,c,d,f,g,h,i):\n",
    "    qw = []\n",
    "    for e in range(0,10):\n",
    "        count = 0\n",
    "        if (a-b == b-c):\n",
    "            count += 1\n",
    "        if (d-e == e-f):\n",
    "            count += 1\n",
    "        if (g-h == h-i):\n",
    "            count += 1\n",
    "        if (a-d == d-g):\n",
    "            count += 1\n",
    "        if (e-h == b-e):\n",
    "            count += 1\n",
    "        if (c-f == f-i):\n",
    "            count += 1\n",
    "        if (a-e == e-i):\n",
    "            count += 1\n",
    "        if (g-e == e-c):\n",
    "            count += 1\n",
    "        qw.append(count)\n",
    "    return max(qw)\n",
    "        \n",
    "\n",
    "s = int(input())\n",
    "for w in range(s):\n",
    "    m = input().split()\n",
    "    a = int(m[0])\n",
    "    b = int(m[1])\n",
    "    c = int(m[2])\n",
    "    k = input().split()\n",
    "    d = int(k[0])\n",
    "    f = int(k[1])\n",
    "    l = input().split()\n",
    "    g = int(l[0])\n",
    "    h = int(l[1])\n",
    "    i = int(l[2])\n",
    "    z = ap(a,b,c,d,f,g,h,i)\n",
    "    print(\"Case #{}: {}\".format(w+1,z))"
   ]
  },
  {
   "cell_type": "code",
   "execution_count": 6,
   "metadata": {},
   "outputs": [
    {
     "name": "stdout",
     "output_type": "stream",
     "text": [
      "2\n",
      "kick\n",
      "Case #1: ckki\n",
      "sfkewres\n",
      "Case #2: kewressf\n"
     ]
    }
   ],
   "source": [
    "def check(s,a):\n",
    "    x = list(a)\n",
    "    y = list(s)\n",
    "    for i in range(len(x)):\n",
    "        if (x[i]==y[i]):\n",
    "            return False\n",
    "    return True\n",
    "    \n",
    "def anagram(a):\n",
    "    n = len(a)\n",
    "    i = len(a)-2\n",
    "    for i in range(n):\n",
    "        s = a[i:]+a[0:i]\n",
    "        i -= 1\n",
    "        if(check(s,a)==True):\n",
    "            return s\n",
    "            \n",
    "    return \"IMPOSSIBLE\"\n",
    "\n",
    "t = int(input())\n",
    "for i in range(t):\n",
    "    a = input()\n",
    "    b = anagram(a)\n",
    "    print(\"Case #{}: {}\".format(i+1,b))"
   ]
  },
  {
   "cell_type": "code",
   "execution_count": 14,
   "metadata": {},
   "outputs": [
    {
     "name": "stdout",
     "output_type": "stream",
     "text": [
      "2\n",
      "start\n",
      "Case #1: tsrta\n",
      "kick\n",
      "Case #2: ikkc\n"
     ]
    }
   ],
   "source": [
    "import itertools\n",
    "def check(s,a):\n",
    "    x = list(a)\n",
    "    y = list(s)\n",
    "    for k in range(len(x)):\n",
    "        if (x[k]==y[k]):\n",
    "            return False\n",
    "    return True\n",
    "    \n",
    "def anagram(a):\n",
    "    n = len(a)\n",
    "    i = len(a)-2\n",
    "    d = [\"\".join(perm) for perm in itertools.permutations(a)]\n",
    "    for i in range(len(d)):\n",
    "        s = d[i]\n",
    "        if(check(s,a)==True):\n",
    "            return s\n",
    "            \n",
    "    return \"IMPOSSIBLE\"\n",
    "\n",
    "t = int(input())\n",
    "for i in range(t):\n",
    "    a = input()\n",
    "    b = anagram(a)\n",
    "    print(\"Case #{}: {}\".format(i+1,b))"
   ]
  },
  {
   "cell_type": "code",
   "execution_count": null,
   "metadata": {},
   "outputs": [],
   "source": []
  }
 ],
 "metadata": {
  "kernelspec": {
   "display_name": "Python 3",
   "language": "python",
   "name": "python3"
  },
  "language_info": {
   "codemirror_mode": {
    "name": "ipython",
    "version": 3
   },
   "file_extension": ".py",
   "mimetype": "text/x-python",
   "name": "python",
   "nbconvert_exporter": "python",
   "pygments_lexer": "ipython3",
   "version": "3.8.8"
  }
 },
 "nbformat": 4,
 "nbformat_minor": 4
}
