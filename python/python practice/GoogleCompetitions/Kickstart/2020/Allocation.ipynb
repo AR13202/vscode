{
 "cells": [
  {
   "cell_type": "code",
   "execution_count": 10,
   "metadata": {},
   "outputs": [
    {
     "name": "stdout",
     "output_type": "stream",
     "text": [
      "1\n",
      "4 100\n",
      "20 90 40 90\n",
      "case #1: 2\n"
     ]
    }
   ],
   "source": [
    "T = int(input())\n",
    "for i in range(1,T+1):\n",
    "    str = input().split()\n",
    "    N,A = int(str[0]),int(str[1])\n",
    "    B = list(map(int,input().split()))\n",
    "    B.sort()\n",
    "    count = 0\n",
    "    for j in range(N):\n",
    "        if A >= B[j] :\n",
    "            A = A - B[j]\n",
    "            count = count + 1\n",
    "    print(\"case #{}: {}\".format(i,count))\n",
    "    B.clear()"
   ]
  },
  {
   "cell_type": "code",
   "execution_count": null,
   "metadata": {},
   "outputs": [],
   "source": []
  }
 ],
 "metadata": {
  "kernelspec": {
   "display_name": "Python 3",
   "language": "python",
   "name": "python3"
  },
  "language_info": {
   "codemirror_mode": {
    "name": "ipython",
    "version": 3
   },
   "file_extension": ".py",
   "mimetype": "text/x-python",
   "name": "python",
   "nbconvert_exporter": "python",
   "pygments_lexer": "ipython3",
   "version": "3.8.3"
  }
 },
 "nbformat": 4,
 "nbformat_minor": 4
}
