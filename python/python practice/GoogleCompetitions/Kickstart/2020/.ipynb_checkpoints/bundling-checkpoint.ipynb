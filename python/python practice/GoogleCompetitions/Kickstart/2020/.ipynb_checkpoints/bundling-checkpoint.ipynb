{
 "cells": [
  {
   "cell_type": "code",
   "execution_count": 1,
   "metadata": {},
   "outputs": [
    {
     "ename": "SyntaxError",
     "evalue": "invalid syntax (<ipython-input-1-0ebc91a3af6c>, line 1)",
     "output_type": "error",
     "traceback": [
      "\u001b[1;36m  File \u001b[1;32m\"<ipython-input-1-0ebc91a3af6c>\"\u001b[1;36m, line \u001b[1;32m1\u001b[0m\n\u001b[1;33m    def find(N,K,A)\u001b[0m\n\u001b[1;37m                   ^\u001b[0m\n\u001b[1;31mSyntaxError\u001b[0m\u001b[1;31m:\u001b[0m invalid syntax\n"
     ]
    }
   ],
   "source": [
    "def find(N,K,A):\n",
    "    for q in range(N-1):\n",
    "        a = A[q]\n",
    "        for w in range(q+1,N):\n",
    "            b = A[w]\n",
    "            same(a,b)\n",
    "                \n",
    "            \n",
    "\n",
    "T = int(input())\n",
    "for i in range(1,T+1):\n",
    "    str = input().split()\n",
    "    N,K = int(str[0]),int(str[1])\n",
    "    A = []\n",
    "    for j in range(N):\n",
    "        X = input()\n",
    "        A.append(X)\n",
    "    A = []"
   ]
  },
  {
   "cell_type": "code",
   "execution_count": 2,
   "metadata": {},
   "outputs": [
    {
     "name": "stdout",
     "output_type": "stream",
     "text": [
      "1\n",
      "6 3\n",
      "Fireball\n",
      "Random\n",
      "Rank\n",
      "Firewall\n",
      "Rainbow\n",
      "Firefighter\n",
      "Case #1: 6\n"
     ]
    }
   ],
   "source": [
    "import sys \n",
    "sys.setrecursionlimit(10**6) \n",
    "\n",
    "class trie:\n",
    "    def __init__(self):\n",
    "        self.val = '*'\n",
    "        self.sons = {}\n",
    "    \n",
    "    def add(self,word):\n",
    "        curr = self.sons\n",
    "        for x in word:\n",
    "            curr[x] = curr.get(x,[0,{}])\n",
    "            curr[x][0] += 1 \n",
    "            curr = curr[x][1]\n",
    "        curr['*'] = 1\n",
    "\n",
    "def getSol(K,words):\n",
    "    count = 0\n",
    "    for x in words:\n",
    "        if x == '*':\n",
    "            continue\n",
    "        [a,b] = words[x]\n",
    "        if a >= K:\n",
    "            count += a//K\n",
    "            count += getSol(K,b)\n",
    "    return count\n",
    "\n",
    "T = int(input())\n",
    "for x in range(T):\n",
    "    [N,K] = list(map(int,input().split()))\n",
    "    w = trie()\n",
    "    for y in range(N):\n",
    "        w.add(input())\n",
    "    print('Case #{}: {}'.format(x+1,getSol(K,w.sons)))"
   ]
  },
  {
   "cell_type": "code",
   "execution_count": null,
   "metadata": {},
   "outputs": [],
   "source": []
  }
 ],
 "metadata": {
  "kernelspec": {
   "display_name": "Python 3",
   "language": "python",
   "name": "python3"
  },
  "language_info": {
   "codemirror_mode": {
    "name": "ipython",
    "version": 3
   },
   "file_extension": ".py",
   "mimetype": "text/x-python",
   "name": "python",
   "nbconvert_exporter": "python",
   "pygments_lexer": "ipython3",
   "version": "3.8.3"
  }
 },
 "nbformat": 4,
 "nbformat_minor": 4
}
