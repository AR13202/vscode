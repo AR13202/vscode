{
 "cells": [
  {
   "cell_type": "code",
   "execution_count": null,
   "metadata": {},
   "outputs": [],
   "source": [
    "# Python solution for workout problem Round A by drishtantR1508\n",
    "testcases = int(input())\n",
    "\n",
    "import collections as cl\n",
    "\n",
    "for m in range(testcases):\n",
    "    N,K = list(map(int, input().split()))\n",
    "    arr = list(map(int, input().split()))\n",
    "    difference = [0]*(N-1)\n",
    "    for i in range(N-1):\n",
    "        difference[i] = arr[i + 1] - arr[i]\n",
    "    c = cl.Counter(difference)\n",
    "    def func1(mid):\n",
    "        result = 0\n",
    "        for i, j in c.items():\n",
    "            if i % mid == 0:\n",
    "                result += (i//mid - 1) * j\n",
    "            else:\n",
    "                result += (i//mid) * j\n",
    "        return result\n",
    "    left, right = 1, max(difference)\n",
    "    while left < right:\n",
    "        mid = (left + right) // 2\n",
    "        if func1(mid) <= K:\n",
    "            right = mid\n",
    "        else:\n",
    "            left = 1+mid\n",
    "    print(\"Case #\",end=\"\")\n",
    "    print(str(m+1),end=\"\")\n",
    "    print(\": \" + str(left))"
   ]
  }
 ],
 "metadata": {
  "kernelspec": {
   "display_name": "Python 3",
   "language": "python",
   "name": "python3"
  },
  "language_info": {
   "codemirror_mode": {
    "name": "ipython",
    "version": 3
   },
   "file_extension": ".py",
   "mimetype": "text/x-python",
   "name": "python",
   "nbconvert_exporter": "python",
   "pygments_lexer": "ipython3",
   "version": "3.8.3"
  }
 },
 "nbformat": 4,
 "nbformat_minor": 4
}
