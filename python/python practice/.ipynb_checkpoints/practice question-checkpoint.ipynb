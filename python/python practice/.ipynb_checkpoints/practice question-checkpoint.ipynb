{
 "cells": [
  {
   "cell_type": "code",
   "execution_count": 37,
   "metadata": {},
   "outputs": [
    {
     "name": "stdout",
     "output_type": "stream",
     "text": [
      "jhbkhjvhjnvnmbnmbvjvh\n",
      "j\n"
     ]
    }
   ],
   "source": [
    "import collections \n",
    "str = input()\n",
    "print (collections.Counter(str).most_common(1)[0][0]) "
   ]
  },
  {
   "cell_type": "code",
   "execution_count": 7,
   "metadata": {},
   "outputs": [
    {
     "name": "stdout",
     "output_type": "stream",
     "text": [
      "aasaassds\n",
      "Max occurring character is a\n"
     ]
    }
   ],
   "source": [
    "ASCII_SIZE = 256\n",
    "  \n",
    "def getMaxOccuringChar(str): \n",
    "    # Create array to keep the count of individual characters \n",
    "    # Initialize the count array to zero \n",
    "    count = [0] * ASCII_SIZE \n",
    "  \n",
    "    # Utility variables \n",
    "    max = -1\n",
    "    c = '' \n",
    "  \n",
    "    # Traversing through the string and maintaining the count of \n",
    "    # each character \n",
    "    for i in str: \n",
    "        count[ord(i)]+=1; \n",
    "  \n",
    "    for i in str: \n",
    "        if max < count[ord(i)]: \n",
    "            max = count[ord(i)] \n",
    "            c = i \n",
    "  \n",
    "    return c \n",
    "str = input()\n",
    "print(getMaxOccuringChar(str))"
   ]
  },
  {
   "cell_type": "code",
   "execution_count": 18,
   "metadata": {},
   "outputs": [
    {
     "name": "stdout",
     "output_type": "stream",
     "text": [
      "xxxxxxxxx\n",
      "x9\n"
     ]
    }
   ],
   "source": [
    "def compress(string):\n",
    "    import re\n",
    "    p=r'(\\w+?)\\1+' # non greedy, group1 1\n",
    "    sub_str=string\n",
    "    for m in re.finditer(p,string):\n",
    "        num=m[0].count(m[1])\n",
    "        sub_str=re.sub(m[0],f'{m[1]}{num}',sub_str)\n",
    "    return sub_str\n",
    "string = input() \n",
    "print(compress(string))"
   ]
  },
  {
   "cell_type": "code",
   "execution_count": 14,
   "metadata": {},
   "outputs": [
    {
     "name": "stdout",
     "output_type": "stream",
     "text": [
      "sasass\n",
      "sasas2\n"
     ]
    }
   ],
   "source": [
    "def compress(string):\n",
    "\n",
    "    res = \"\"\n",
    "\n",
    "    count = 1\n",
    "\n",
    "    #Add in first character\n",
    "    res += string[0]\n",
    "\n",
    "    #Iterate through loop, skipping last one\n",
    "    for i in range(len(string)-1):\n",
    "        if(string[i] == string[i+1]):\n",
    "            count+=1\n",
    "        else:\n",
    "            if(count > 1):\n",
    "                #Ignore if no repeats\n",
    "                res += str(count)\n",
    "            res += string[i+1]\n",
    "            count = 1\n",
    "    #print last one\n",
    "    if(count > 1):\n",
    "        res += str(count)\n",
    "    return res\n",
    "s = input()\n",
    "a = compress(s)\n",
    "b = a.replace(\"'\",\"\")\n",
    "print(b)"
   ]
  },
  {
   "cell_type": "code",
   "execution_count": 8,
   "metadata": {},
   "outputs": [
    {
     "name": "stdout",
     "output_type": "stream",
     "text": [
      "aabbb\n"
     ]
    },
    {
     "data": {
      "text/plain": [
       "'a2b3'"
      ]
     },
     "execution_count": 8,
     "metadata": {},
     "output_type": "execute_result"
    }
   ],
   "source": [
    "from itertools import groupby\n",
    "import re\n",
    "def compress(string):\n",
    "    return re.sub(r'(?<![0-9])[1](?![0-9])', '', ''.join('%s%s' % (char, sum(1 for _ in group)) for char, group in groupby(string)))\n",
    "string = input()\n",
    "compress(string)"
   ]
  },
  {
   "cell_type": "code",
   "execution_count": 15,
   "metadata": {},
   "outputs": [
    {
     "name": "stdout",
     "output_type": "stream",
     "text": [
      "Column 5 has max Sum 31\n"
     ]
    }
   ],
   "source": [
    "\n",
    "N = 5\n",
    "  \n",
    "# Function to find the column with max Sum \n",
    "def colMaxSum(mat): \n",
    "      \n",
    "    # Variable to store index of column \n",
    "    # with maximum \n",
    "    idx = -1\n",
    "  \n",
    "    # Variable to store max Sum \n",
    "    maxSum = -10**9\n",
    "  \n",
    "    # Traverse matrix column wise \n",
    "    for i in range(N): \n",
    "  \n",
    "        Sum = 0\n",
    "  \n",
    "        # calculate Sum of column \n",
    "        for j in range(N): \n",
    "            Sum += mat[j][i] \n",
    "  \n",
    "        # Update maxSum if it is less  \n",
    "        # than current Sum \n",
    "        if (Sum > maxSum): \n",
    "            maxSum = Sum\n",
    "  \n",
    "            # store index \n",
    "            idx = i \n",
    "          \n",
    "    # return result \n",
    "    return idx, maxSum \n",
    "  \n",
    "# Driver Code \n",
    "  \n",
    "mat = [[ 1, 2, 3, 4, 5 ], \n",
    "       [ 5, 3, 1, 4, 2 ], \n",
    "       [ 5, 6, 7, 8, 9 ], \n",
    "       [ 0, 6, 3, 4, 12 ], \n",
    "       [ 9, 7, 12, 4, 3 ]] \n",
    "  \n",
    "ans, ans0 = colMaxSum(mat) \n",
    "  \n",
    "print(\"Column\", ans + 1,     \n",
    "      \"has max Sum\", ans0)"
   ]
  },
  {
   "cell_type": "code",
   "execution_count": 36,
   "metadata": {},
   "outputs": [
    {
     "name": "stdout",
     "output_type": "stream",
     "text": [
      "78\n",
      "Invalid Operation\n",
      "5\n",
      "4\n",
      "3\n",
      "1\n",
      "25\n",
      "Invalid Operation\n",
      "4\n",
      "2\n",
      "6\n",
      "0\n",
      "6\n"
     ]
    }
   ],
   "source": [
    "n = int(input())\n",
    "while n:\n",
    "    if n == 1:\n",
    "        a = int(input())\n",
    "        b = int(input())\n",
    "        print(a+b)\n",
    "        n = int(input())\n",
    "    elif n == 2:\n",
    "        a = int(input())\n",
    "        b = int(input())\n",
    "        print(a-b)\n",
    "        n = int(input())\n",
    "    elif n == 3:\n",
    "        a = int(input())\n",
    "        b = int(input())\n",
    "        print(a*b)\n",
    "        n = int(input())\n",
    "    elif n == 4:\n",
    "        a = int(input())\n",
    "        b = int(input())\n",
    "        print(a//b)\n",
    "        n = int(input())\n",
    "    elif n == 5:\n",
    "        a = int(input())\n",
    "        b = int(input())\n",
    "        print(a%b)\n",
    "        n = int(input())\n",
    "    elif n == 6:\n",
    "        break\n",
    "    else:\n",
    "        print('Invalid Operation')\n",
    "        n = int(input())\n",
    "    continue"
   ]
  },
  {
   "cell_type": "code",
   "execution_count": null,
   "metadata": {},
   "outputs": [],
   "source": []
  }
 ],
 "metadata": {
  "kernelspec": {
   "display_name": "Python 3",
   "language": "python",
   "name": "python3"
  },
  "language_info": {
   "codemirror_mode": {
    "name": "ipython",
    "version": 3
   },
   "file_extension": ".py",
   "mimetype": "text/x-python",
   "name": "python",
   "nbconvert_exporter": "python",
   "pygments_lexer": "ipython3",
   "version": "3.8.3"
  }
 },
 "nbformat": 4,
 "nbformat_minor": 4
}
