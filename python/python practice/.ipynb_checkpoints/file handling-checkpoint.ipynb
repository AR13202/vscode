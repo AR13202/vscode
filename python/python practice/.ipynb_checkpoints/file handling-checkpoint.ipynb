{
 "cells": [
  {
   "cell_type": "markdown",
   "metadata": {},
   "source": [
    "# Python File Open\n"
   ]
  },
  {
   "cell_type": "code",
   "execution_count": 59,
   "metadata": {},
   "outputs": [],
   "source": [
    "#File handling is an important part of any web application.\n",
    "#Python has several functions for creating, reading, updating, and deleting files.\n",
    "#File Handling\n",
    "#The key function for working with files in Python is the open() function.\n",
    "\n",
    "#The open() function takes two parameters; filename, and mode.\n",
    "\n",
    "#There are four different methods (modes) for opening a file:\n",
    "\n",
    "#\"r\" - Read - Default value. Opens a file for reading, error if the file does not exist\n",
    "\n",
    "#\"a\" - Append - Opens a file for appending, creates the file if it does not exist\n",
    "\n",
    "#\"w\" - Write - Opens a file for writing, creates the file if it does not exist\n",
    "\n",
    "#\"x\" - Create - Creates the specified file, returns an error if the file exists\n",
    "\n",
    "#In addition you can specify if the file should be handled as binary or text mode\n",
    "\n",
    "#\"t\" - Text - Default value. Text mode\n",
    "\n",
    "#\"b\" - Binary - Binary mode (e.g. images)\n",
    "\n",
    "#Syntax\n",
    "#To open a file for reading it is enough to specify the name of the file:\n",
    "\n",
    "f = open(\"abc.txt\")\n",
    "\n",
    "#The code above is the same as:\n",
    "\n",
    "f = open(\"abc.txt\", \"rt\")\n",
    "\n",
    "#Because \"r\" for read, and \"t\" for text are the default values, you do not need to specify them.\n",
    "\n",
    "#Note: Make sure the file exists, or else you will get an error."
   ]
  },
  {
   "cell_type": "markdown",
   "metadata": {},
   "source": [
    "# Python Read File  "
   ]
  },
  {
   "cell_type": "code",
   "execution_count": 60,
   "metadata": {},
   "outputs": [
    {
     "name": "stdout",
     "output_type": "stream",
     "text": [
      "Hello \n",
      "This is Delhi \n",
      "This is Paris \n",
      "This is London \n",
      "Hello! Welcome to demofile.txt\n",
      "This file is for testing purposes.\n",
      "Good Luck!\n",
      "\n"
     ]
    }
   ],
   "source": [
    "## Open a File on the Server\n",
    "# Assume we have the following file, located in the same folder as Python:\n",
    " \n",
    "f = open(\"abc.txt\")\n",
    "f = open(\"abc.txt\", \"rt\")\n",
    "\n",
    "#To open the file, use the built-in open() function.\n",
    "#The open() function returns a file object, which has a read() method for reading the content of the file:\n",
    "\n",
    "f = open(\"abc.txt\", \"r\")\n",
    "print(f.read())\n"
   ]
  },
  {
   "cell_type": "code",
   "execution_count": 61,
   "metadata": {},
   "outputs": [
    {
     "name": "stdout",
     "output_type": "stream",
     "text": [
      "my na\n",
      "my name is soni\n"
     ]
    }
   ],
   "source": [
    "## Readfile is located in a different location\n",
    "## If the file is located in a different location, you will have to specify the file path, like this:\n",
    "\n",
    "f = open(r'D:\\\\chitkara class\\\\PYTHON\\test.txt', \"r\")\n",
    "print(f.read())\n",
    "\n",
    "## Read Only Parts of the File\n",
    "## By default the read() method returns the whole text, but you can also specify how many characters you want to return:\n",
    "## Return the 5 first characters of the file:\n",
    "\n",
    "f = open(r'D:\\\\chitkara class\\\\PYTHON\\test.txt', \"r\")\n",
    "print(f.read(5))\n",
    "\n",
    "f.tell()    # get the current file position\n",
    "56\n",
    "\n",
    "f.seek(0)   # bring file cursor to initial position\n",
    "0\n",
    "\n",
    "print(f.read()) "
   ]
  },
  {
   "cell_type": "code",
   "execution_count": 40,
   "metadata": {
    "scrolled": true
   },
   "outputs": [
    {
     "name": "stdout",
     "output_type": "stream",
     "text": [
      "Hello \n",
      "\n",
      "Hello \n",
      "\n",
      "This is Delhi \n",
      "\n",
      "Hello \n",
      "\n",
      "This is Delhi \n",
      "\n",
      "This is Paris \n",
      "\n",
      "This is London \n",
      "\n",
      "Hello! Welcome to demofile.txt\n",
      "\n",
      "This file is for testing purposes.\n",
      "\n",
      "Good Luck!\n",
      "\n",
      "Hello \n",
      "\n"
     ]
    }
   ],
   "source": [
    "## Read Lines\n",
    "## You can return one line by using the readline() method:\n",
    "## Example\n",
    "## Read one line of the file:\n",
    "\n",
    "f = open(\"abc.txt\", \"r\")\n",
    "print(f.readline())\n",
    "\n",
    "## By calling readline() two times, you can read the two first lines:\n",
    "\n",
    "## Example\n",
    "## Read two lines of the file:\n",
    "\n",
    "f = open(\"abc.txt\", \"r\")\n",
    "print(f.readline())\n",
    "print(f.readline())\n",
    "\n",
    "## By looping through the lines of the file, you can read the whole file, line by line:\n",
    "\n",
    "## Example\n",
    "## Loop through the file line by line:\n",
    "\n",
    "f = open(\"abc.txt\", \"r\")\n",
    "for x in f:\n",
    "  print(x)\n",
    "\n",
    "## Close Files\n",
    "## It is a good practice to always close the file when you are done with it.\n",
    "\n",
    "## Example\n",
    "## Close the file when you are finish with it:\n",
    "\n",
    "f = open(\"abc.txt\", \"r\")\n",
    "print(f.readline())\n",
    "f.close()\n",
    "\n",
    "## Note: You should always close your files, in some cases, due to buffering, changes made to a file may not show until you \n",
    "## close the file."
   ]
  },
  {
   "cell_type": "markdown",
   "metadata": {},
   "source": [
    "# Python File Write"
   ]
  },
  {
   "cell_type": "code",
   "execution_count": 67,
   "metadata": {},
   "outputs": [
    {
     "name": "stdout",
     "output_type": "stream",
     "text": [
      "Woops! I have deleted the content!Now the file has more content!\n",
      "Woops! I have deleted the content!\n"
     ]
    },
    {
     "ename": "FileExistsError",
     "evalue": "[Errno 17] File exists: 'ninja.txt'",
     "output_type": "error",
     "traceback": [
      "\u001b[1;31m---------------------------------------------------------------------------\u001b[0m",
      "\u001b[1;31mFileExistsError\u001b[0m                           Traceback (most recent call last)",
      "\u001b[1;32m<ipython-input-67-8283337a9f56>\u001b[0m in \u001b[0;36m<module>\u001b[1;34m\u001b[0m\n\u001b[0;32m     42\u001b[0m \u001b[1;31m# Create a file called \"myfile.txt\":\u001b[0m\u001b[1;33m\u001b[0m\u001b[1;33m\u001b[0m\u001b[1;33m\u001b[0m\u001b[0m\n\u001b[0;32m     43\u001b[0m \u001b[1;33m\u001b[0m\u001b[0m\n\u001b[1;32m---> 44\u001b[1;33m \u001b[0mf\u001b[0m \u001b[1;33m=\u001b[0m \u001b[0mopen\u001b[0m\u001b[1;33m(\u001b[0m\u001b[1;34m\"ninja.txt\"\u001b[0m\u001b[1;33m,\u001b[0m \u001b[1;34m\"x\"\u001b[0m\u001b[1;33m)\u001b[0m\u001b[1;33m\u001b[0m\u001b[1;33m\u001b[0m\u001b[0m\n\u001b[0m\u001b[0;32m     45\u001b[0m \u001b[1;31m#Result: a new empty file is created!\u001b[0m\u001b[1;33m\u001b[0m\u001b[1;33m\u001b[0m\u001b[1;33m\u001b[0m\u001b[0m\n\u001b[0;32m     46\u001b[0m \u001b[1;33m\u001b[0m\u001b[0m\n",
      "\u001b[1;31mFileExistsError\u001b[0m: [Errno 17] File exists: 'ninja.txt'"
     ]
    }
   ],
   "source": [
    "## Write to an Existing File\n",
    "## To write to an existing file, you must add a parameter to the open() function:\n",
    "\n",
    "# \"a\" - Append - will append to the end of the file\n",
    "\n",
    "# \"w\" - Write - will overwrite any existing content\n",
    "\n",
    "##  Example\n",
    "# Open the file \"demofile2.txt\" and append content to the file:\n",
    "\n",
    "f = open(\"xyz.txt\", \"a\")\n",
    "f.write(\"Now the file has more content!\")\n",
    "f.close()\n",
    "\n",
    "#open and read the file after the appending:\n",
    "f = open(\"xyz.txt\", \"r\")\n",
    "print(f.read())\n",
    "\n",
    "#Example\n",
    "#Open the file \"demofile3.txt\" and overwrite the content:\n",
    "\n",
    "f = open(\"xyz.txt\", \"w\")\n",
    "f.write(\"Woops! I have deleted the content!\")\n",
    "f.close()\n",
    "\n",
    "#open and read the file after the appending:\n",
    "f = open(\"xyz.txt\", \"r\")\n",
    "print(f.read())\n",
    "\n",
    "# Note: the \"w\" method will overwrite the entire file.\n",
    "\n",
    "# Create a New File\n",
    "# To create a new file in Python, use the open() method, with one of the following parameters:\n",
    "\n",
    "# \"x\" - Create - will create a file, returns an error if the file exist\n",
    "\n",
    "# \"a\" - Append - will create a file if the specified file does not exist\n",
    "\n",
    "# \"w\" - Write - will create a file if the specified file does not exist\n",
    "\n",
    "# Example\n",
    "# Create a file called \"myfile.txt\":\n",
    "\n",
    "f = open(\"ninja.txt\", \"x\")\n",
    "#Result: a new empty file is created!\n",
    "\n",
    "# Example\n",
    "#Create a new file if it does not exist:\n",
    "\n",
    "f = open(\"ninja.txt\", \"w\")"
   ]
  },
  {
   "cell_type": "markdown",
   "metadata": {},
   "source": [
    "# Python Delete File\n"
   ]
  },
  {
   "cell_type": "code",
   "execution_count": 70,
   "metadata": {},
   "outputs": [],
   "source": [
    "## Delete a File\n",
    "## To delete a file, you must import the OS module, and run its os.remove() function:\n",
    "\n",
    "## Example\n",
    "## Remove the file \"xyz.txt\":\n",
    "\n",
    "#import os\n",
    "os.remove(\"ninja.txt\")\n",
    "\n",
    "#Check if File exist:\n",
    "#To avoid getting an error, you might want to check if the file exists before you try to delete it:\n",
    "\n",
    "#Example\n",
    "#Check if file exists, then delete it:\n",
    "\n",
    "#import os\n",
    "if os.path.exists(\"soniya.txt\"):\n",
    "  os.remove(\"soniya.txt\")\n",
    "else:\n",
    "  print(\"The file does not exist\")\n",
    "\n",
    "#Delete Folder\n",
    "#To delete an entire folder, use the os.rmdir() method:\n",
    "\n",
    "#Example\n",
    "#Remove the folder \"myfolder\":\n",
    "\n",
    "import os\n",
    "os.rmdir(\"ABC\")\n",
    "\n",
    "#Note: You can only remove empty folders."
   ]
  },
  {
   "cell_type": "code",
   "execution_count": 14,
   "metadata": {},
   "outputs": [
    {
     "name": "stdout",
     "output_type": "stream",
     "text": [
      "C:\\Users\\Hp\\Documents\n"
     ]
    }
   ],
   "source": [
    "## Get Current Directory\n",
    "import os\n",
    "os.getcwd()\n",
    "print(os.getcwd())"
   ]
  },
  {
   "cell_type": "code",
   "execution_count": 16,
   "metadata": {},
   "outputs": [
    {
     "name": "stdout",
     "output_type": "stream",
     "text": [
      "C:\\Users\n"
     ]
    }
   ],
   "source": [
    "## Changing Directory\n",
    "\n",
    "os.chdir('C:\\\\Users')\n",
    "\n",
    "print(os.getcwd())"
   ]
  },
  {
   "cell_type": "code",
   "execution_count": 11,
   "metadata": {},
   "outputs": [
    {
     "name": "stdout",
     "output_type": "stream",
     "text": [
      "C:\\Users\n"
     ]
    },
    {
     "data": {
      "text/plain": [
       "[' my first file',\n",
       " '.ipynb_checkpoints',\n",
       " '2020-05-04 14.09 Operating System (CS115) May 4-12, 2020.mp4',\n",
       " '2020-05-05 14.02 Operating System (CS115) May 4-12, 2020.mp4',\n",
       " '2020-05-06 13.58 Operating System (CS115) May 4-12, 2020.mp4',\n",
       " '2020-05-07 13.55 Operating System (CS115) May 4-12, 2020.mp4',\n",
       " 'abc.txt',\n",
       " 'app.log',\n",
       " 'cache',\n",
       " 'Custom Office Templates',\n",
       " 'debug.log',\n",
       " 'desktop.ini',\n",
       " 'Matplotlib & pandas.ipynb',\n",
       " 'ML usingh python',\n",
       " 'my first file',\n",
       " 'My Music',\n",
       " 'My Pictures',\n",
       " 'My Videos',\n",
       " 'new_one',\n",
       " 'Operating Systems Lecture Notes.pdf',\n",
       " 'original',\n",
       " 'Python Scripts',\n",
       " 'Soni',\n",
       " 'test',\n",
       " 'test.soni',\n",
       " 'twitter.pdf',\n",
       " 'Untitled.ipynb',\n",
       " 'Zoom']"
      ]
     },
     "execution_count": 11,
     "metadata": {},
     "output_type": "execute_result"
    }
   ],
   "source": [
    "##List Directories and Files\n",
    "\n",
    "print(os.getcwd())\n",
    "os.listdir()\n",
    "os.listdir('D:\\\\')\n",
    "os.listdir('C:\\\\Users\\\\Hp\\\\Documents')"
   ]
  },
  {
   "cell_type": "code",
   "execution_count": 28,
   "metadata": {},
   "outputs": [
    {
     "name": "stdout",
     "output_type": "stream",
     "text": [
      "C:\\Users\\Hp\\Documents\n"
     ]
    },
    {
     "data": {
      "text/plain": [
       "['test.soni']"
      ]
     },
     "execution_count": 28,
     "metadata": {},
     "output_type": "execute_result"
    }
   ],
   "source": [
    "## Make a new directory\n",
    "os.chdir('C:\\\\Users\\\\Hp\\Documents')\n",
    "print(os.getcwd())\n",
    "os.mkdir('test.abc')\n",
    "os.listdir()\n",
    "['test.soni']"
   ]
  },
  {
   "cell_type": "code",
   "execution_count": 22,
   "metadata": {},
   "outputs": [
    {
     "name": "stdout",
     "output_type": "stream",
     "text": [
      "C:\\Users\\Hp\\Documents\n"
     ]
    }
   ],
   "source": [
    "# Python code to create a file \n",
    "print(os.getcwd())\n",
    "os.chdir('C:\\\\Users\\\\Hp\\Documents')\n",
    "file = open('xyz.txt','w') \n",
    "file.write(\"This is the write command\") \n",
    "file.write(\"It allows us to write in a particular file\") \n",
    "file.close() \n"
   ]
  },
  {
   "cell_type": "code",
   "execution_count": 23,
   "metadata": {},
   "outputs": [],
   "source": [
    "# Python code to illustrate append() mode \n",
    "file = open('xyz.txt','a') \n",
    "file.write(\"This will add this line\") \n",
    "file.close() \n"
   ]
  },
  {
   "cell_type": "code",
   "execution_count": 24,
   "metadata": {},
   "outputs": [],
   "source": [
    "# Python code to illustrate with() \n",
    "with open(\"xyz.txt\") as file: \n",
    "\tdata = file.read() \n",
    "# do something with data \n"
   ]
  },
  {
   "cell_type": "code",
   "execution_count": 25,
   "metadata": {},
   "outputs": [],
   "source": [
    "# Python code to illustrate with() alongwith write() \n",
    "with open(\"xyz.txt\", \"w\") as f: \n",
    "\tf.write(\"Hello World!!!\") \n"
   ]
  },
  {
   "cell_type": "code",
   "execution_count": 26,
   "metadata": {},
   "outputs": [
    {
     "name": "stdout",
     "output_type": "stream",
     "text": [
      "['Hello', 'World!!!']\n"
     ]
    }
   ],
   "source": [
    "# Python code to illustrate split() function \n",
    "with open(\"xyz.txt\", \"r\") as file: \n",
    "\tdata = file.readlines() \n",
    "\tfor line in data: \n",
    "\t\tword = line.split() \n",
    "\t\tprint (word) \n"
   ]
  },
  {
   "cell_type": "code",
   "execution_count": 27,
   "metadata": {},
   "outputs": [
    {
     "name": "stdout",
     "output_type": "stream",
     "text": [
      "Hello World!!!\n"
     ]
    }
   ],
   "source": [
    "# a file named \"geek\", will be opened with the reading mode. \n",
    "file = open('xyz.txt', 'r') \n",
    "# This will print every line one by one in the file \n",
    "for each in file: \n",
    "\tprint (each) \n"
   ]
  },
  {
   "cell_type": "code",
   "execution_count": null,
   "metadata": {},
   "outputs": [],
   "source": [
    "## Get dir\n",
    "import os\n",
    "os.getcwd()\n",
    "os.getcwdb()\n",
    "print(os.getcwd())"
   ]
  },
  {
   "cell_type": "code",
   "execution_count": null,
   "metadata": {},
   "outputs": [],
   "source": [
    "##  change dir\n",
    "os.chdir('C:\\\\Users')\n",
    "\n",
    "print(os.getcwd())\n"
   ]
  },
  {
   "cell_type": "code",
   "execution_count": null,
   "metadata": {},
   "outputs": [],
   "source": [
    "import os\n",
    "os.getcwd()\n",
    "os.getcwdb()\n",
    "print(os.getcwd())"
   ]
  },
  {
   "cell_type": "code",
   "execution_count": null,
   "metadata": {},
   "outputs": [],
   "source": [
    "## List Directories and Files\n",
    "print(os.getcwd())\n",
    "os.listdir()\n"
   ]
  },
  {
   "cell_type": "code",
   "execution_count": null,
   "metadata": {},
   "outputs": [],
   "source": [
    "os.listdir('C:\\\\Users\\Hp\\Desktop')"
   ]
  },
  {
   "cell_type": "code",
   "execution_count": null,
   "metadata": {},
   "outputs": [],
   "source": [
    "import os\n",
    "os.getcwd()\n",
    "os.getcwdb()\n",
    "print(os.getcwd())"
   ]
  },
  {
   "cell_type": "code",
   "execution_count": null,
   "metadata": {},
   "outputs": [],
   "source": [
    "os.chdir('C:\\\\Users\\\\Hp\\\\Documents')\n",
    "\n",
    "print(os.getcwd())"
   ]
  },
  {
   "cell_type": "code",
   "execution_count": null,
   "metadata": {},
   "outputs": [],
   "source": [
    "## Cresting a dir\n",
    "os.mkdir('Soni')\n",
    "\n",
    "os.listdir()\n",
    "['Soni']\n"
   ]
  },
  {
   "cell_type": "code",
   "execution_count": null,
   "metadata": {},
   "outputs": [],
   "source": [
    "file = open('abc.txt','w') \n",
    "file.write(\"This is the write command\") \n",
    "file.write(\"It allows us to write in a particular file\") \n",
    "file.close()\n"
   ]
  },
  {
   "cell_type": "code",
   "execution_count": null,
   "metadata": {},
   "outputs": [],
   "source": [
    "#Python code to illustrate append() mode \n",
    "file = open('abc.txt','a') \n",
    "file.write(\"This will add this line\") \n",
    "file.close() \n"
   ]
  },
  {
   "cell_type": "code",
   "execution_count": null,
   "metadata": {},
   "outputs": [],
   "source": [
    "file1 = open(\"abc.txt\") \n",
    "  \n",
    "# Reading from file \n",
    "print(file1.read()) \n",
    "file1.close() \n"
   ]
  },
  {
   "cell_type": "code",
   "execution_count": 31,
   "metadata": {},
   "outputs": [],
   "source": [
    "file1 = open(\"abc.txt\", \"a\") \n",
    "  \n",
    "# Writing to file \n",
    "file1.write(\"\\nWriting to file :)\") \n",
    "  \n",
    "# Closing file \n",
    "file1.close() \n"
   ]
  },
  {
   "cell_type": "code",
   "execution_count": 34,
   "metadata": {},
   "outputs": [],
   "source": [
    "file1 = open(\"abc.txt\", \"r\")  \n",
    "    \n",
    "# store its reference in the variable file1   \n",
    "# and \"MyFile2.txt\" in D:\\Text in file2  \n",
    "file2 = open(r\"C:\\Users\\Hp\\Documents\\abc.txt \", \"r+\")  \n"
   ]
  },
  {
   "cell_type": "code",
   "execution_count": 33,
   "metadata": {},
   "outputs": [],
   "source": [
    "file1 = open(\"abc.txt\", \"r\")  \n",
    "file1.close()  \n"
   ]
  },
  {
   "cell_type": "code",
   "execution_count": 35,
   "metadata": {
    "scrolled": true
   },
   "outputs": [
    {
     "name": "stdout",
     "output_type": "stream",
     "text": [
      "Output of Read function is \n",
      "Hello \n",
      "This is Delhi \n",
      "This is Paris \n",
      "This is London \n",
      "\n",
      "\n",
      "Output of Readline function is \n",
      "Hello \n",
      "\n",
      "\n",
      "Output of Read(9) function is \n",
      "Hello \n",
      "Th\n",
      "\n",
      "Output of Readline(9) function is \n",
      "Hello \n",
      "\n",
      "\n",
      "Output of Readlines function is \n",
      "['Hello \\n', 'This is Delhi \\n', 'This is Paris \\n', 'This is London \\n']\n",
      "\n"
     ]
    }
   ],
   "source": [
    "file1 = open(\"abc.txt\", \"w\") \n",
    "L = [\"This is Delhi \\n\", \"This is Paris \\n\", \"This is London \\n\"] \n",
    "  \n",
    "# Writing data to a file \n",
    "file1.write(\"Hello \\n\")  \n",
    "file1.writelines(L) \n",
    "file1.close()  # to change file access modes \n",
    "  \n",
    "file1 = open(\"abc.txt\", \"r+\") \n",
    "  \n",
    "print(\"Output of Read function is \") \n",
    "print(file1.read()) \n",
    "print() \n",
    "  \n",
    "# seek(n) takes the file handle to the nth \n",
    "# bite from the beginning.  \n",
    "file1.seek(0) \n",
    "  \n",
    "print(\"Output of Readline function is \") \n",
    "print(file1.readline()) \n",
    "print() \n",
    "  \n",
    "file1.seek(0) \n",
    "  \n",
    "# To show difference between read and readline  \n",
    "print(\"Output of Read(9) function is \") \n",
    "print(file1.read(9)) \n",
    "print() \n",
    "  \n",
    "file1.seek(0) \n",
    "  \n",
    "print(\"Output of Readline(9) function is \") \n",
    "print(file1.readline(9)) \n",
    "print() \n",
    "  \n",
    "file1.seek(0) \n",
    "  \n",
    "# readlines function  \n",
    "print(\"Output of Readlines function is \") \n",
    "print(file1.readlines()) \n",
    "print() \n",
    "file1.close()  \n"
   ]
  },
  {
   "cell_type": "code",
   "execution_count": 54,
   "metadata": {},
   "outputs": [],
   "source": [
    "import tkinter\n",
    "from tkinter import *\n",
    "\n",
    "win = Tk()\n",
    "\n",
    "var = StringVar()\n",
    "label = Label( win, textvariable=var, relief=RAISED )\n",
    "\n",
    "# set label value\n",
    "var.set(\"Hey!? Welcome to StudyTonight\")\n",
    "\n",
    "label.pack()\n",
    "win.mainloop()"
   ]
  },
  {
   "cell_type": "code",
   "execution_count": 55,
   "metadata": {},
   "outputs": [],
   "source": [
    "from tkinter import *   \n",
    " \n",
    "win = Tk()  \n",
    "  \n",
    "win.geometry(\"400x250\")  \n",
    "  \n",
    "#creating a label  \n",
    "username = Label(win, text = \"Username\").place(x = 30,y = 50)  \n",
    "  \n",
    "#creating second label  \n",
    "password = Label(win, text = \"Password\").place(x = 30, y = 90)  \n",
    "    \n",
    "submitbutton = Button(win, text = \"Submit\",activebackground = \"red\", activeforeground = \"blue\").place(x = 30, y = 120)  \n",
    "  \n",
    "e1 = Entry(win,width = 20).place(x = 100, y = 50)  \n",
    "    \n",
    "e2 = Entry(win, width = 20).place(x = 100, y = 90)    \n",
    "  \n",
    "win.mainloop() "
   ]
  },
  {
   "cell_type": "code",
   "execution_count": null,
   "metadata": {},
   "outputs": [],
   "source": []
  }
 ],
 "metadata": {
  "kernelspec": {
   "display_name": "Python 3",
   "language": "python",
   "name": "python3"
  },
  "language_info": {
   "codemirror_mode": {
    "name": "ipython",
    "version": 3
   },
   "file_extension": ".py",
   "mimetype": "text/x-python",
   "name": "python",
   "nbconvert_exporter": "python",
   "pygments_lexer": "ipython3",
   "version": "3.8.3"
  }
 },
 "nbformat": 4,
 "nbformat_minor": 4
}
