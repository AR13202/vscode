{
 "cells": [
  {
   "cell_type": "markdown",
   "metadata": {},
   "source": [
    "# Functions"
   ]
  },
  {
   "cell_type": "code",
   "execution_count": 2,
   "metadata": {},
   "outputs": [
    {
     "name": "stdout",
     "output_type": "stream",
     "text": [
      "4\n",
      "2\n",
      "6\n"
     ]
    }
   ],
   "source": [
    "# finding nCr factorial with loops\n",
    "n = int(input())\n",
    "r = int(input())\n",
    "n_fact = 1\n",
    "for i in range(1, n+1):\n",
    "    n_fact = n_fact * i\n",
    "    \n",
    "r_fact = 1\n",
    "for i in range(1, r+1):\n",
    "    r_fact = r_fact * i\n",
    "    \n",
    "n_r_fact = 1\n",
    "for i in range(1, n-r+1):\n",
    "    n_r_fact = n_r_fact * i\n",
    "\n",
    "ans = n_fact//(r_fact * n_r_fact)\n",
    "print(ans)"
   ]
  },
  {
   "cell_type": "markdown",
   "metadata": {},
   "source": [
    "###### The above code gives us the ans. but is quite lengthy as we have to repeat our code 3 times and have to write each and every time to\n",
    "###### perform it. so for this we can use FUNCTIONS instead of LOOPS."
   ]
  },
  {
   "cell_type": "code",
   "execution_count": 3,
   "metadata": {},
   "outputs": [],
   "source": [
    "# here we are defining factorial fxn.\n",
    "def fact(n):\n",
    "    n_fact = 1\n",
    "    for i in range(1, n+1):\n",
    "        n_fact = n_fact * i\n",
    "    return n_fact"
   ]
  },
  {
   "cell_type": "code",
   "execution_count": 4,
   "metadata": {},
   "outputs": [
    {
     "data": {
      "text/plain": [
       "6"
      ]
     },
     "execution_count": 4,
     "metadata": {},
     "output_type": "execute_result"
    }
   ],
   "source": [
    "fact(3)"
   ]
  },
  {
   "cell_type": "code",
   "execution_count": 5,
   "metadata": {},
   "outputs": [
    {
     "data": {
      "text/plain": [
       "120"
      ]
     },
     "execution_count": 5,
     "metadata": {},
     "output_type": "execute_result"
    }
   ],
   "source": [
    "fact(5)"
   ]
  },
  {
   "cell_type": "markdown",
   "metadata": {},
   "source": [
    "###### so like this we can perform it for as many inputs we want. here \n",
    "###### def means define as we are defining factorial fxn.\n",
    "###### fact() - here () means that for how many inputs we want it to perform the fxn. and rest is same\n",
    "###### fxns make code readable, avoid repetations & testing becomes super easy."
   ]
  },
  {
   "cell_type": "code",
   "execution_count": 6,
   "metadata": {},
   "outputs": [
    {
     "name": "stdout",
     "output_type": "stream",
     "text": [
      "12\n",
      "6\n",
      "924\n"
     ]
    }
   ],
   "source": [
    "# finding nCr factorial with fxns.\n",
    "n= int(input())\n",
    "r= int(input())\n",
    "n_fact = fact(n)\n",
    "r_fact = fact(r)\n",
    "n_r_fact = fact(n - r)\n",
    "ans = n_fact//(r_fact * n_r_fact)\n",
    "print(ans)"
   ]
  },
  {
   "cell_type": "markdown",
   "metadata": {},
   "source": [
    "### Few Examples:"
   ]
  },
  {
   "cell_type": "code",
   "execution_count": 7,
   "metadata": {},
   "outputs": [],
   "source": [
    "# n is prime or not\n",
    "def pnum(n):\n",
    "    i = 1\n",
    "    for i in range(2,n):\n",
    "        if n % i == 0:\n",
    "            break\n",
    "        else:\n",
    "            return True\n",
    "    return False"
   ]
  },
  {
   "cell_type": "code",
   "execution_count": 8,
   "metadata": {},
   "outputs": [
    {
     "data": {
      "text/plain": [
       "False"
      ]
     },
     "execution_count": 8,
     "metadata": {},
     "output_type": "execute_result"
    }
   ],
   "source": [
    "pnum(14)"
   ]
  },
  {
   "cell_type": "code",
   "execution_count": 9,
   "metadata": {},
   "outputs": [
    {
     "data": {
      "text/plain": [
       "True"
      ]
     },
     "execution_count": 9,
     "metadata": {},
     "output_type": "execute_result"
    }
   ],
   "source": [
    "pnum(17)"
   ]
  },
  {
   "cell_type": "code",
   "execution_count": 10,
   "metadata": {},
   "outputs": [],
   "source": [
    "# all prime numbers till n\n",
    "def ppum(n):\n",
    "    for i in range(2, n+1):\n",
    "        is_i_prime = pnum(i)\n",
    "        if (is_i_prime):\n",
    "            print(i)"
   ]
  },
  {
   "cell_type": "code",
   "execution_count": 11,
   "metadata": {},
   "outputs": [
    {
     "name": "stdout",
     "output_type": "stream",
     "text": [
      "3\n",
      "5\n",
      "7\n",
      "9\n",
      "11\n",
      "13\n",
      "15\n",
      "17\n",
      "19\n"
     ]
    }
   ],
   "source": [
    "ppum(20)"
   ]
  },
  {
   "cell_type": "code",
   "execution_count": 12,
   "metadata": {},
   "outputs": [],
   "source": [
    "# define fxn for nCr.\n",
    "def nCr(n , r):\n",
    "    n_fact = fact(n)\n",
    "    r_fact = fact(r)\n",
    "    n_r_fact = fact(n - r)\n",
    "    ans = n_fact//(r_fact * n_r_fact)\n",
    "    return ans"
   ]
  },
  {
   "cell_type": "code",
   "execution_count": 13,
   "metadata": {},
   "outputs": [
    {
     "data": {
      "text/plain": [
       "10"
      ]
     },
     "execution_count": 13,
     "metadata": {},
     "output_type": "execute_result"
    }
   ],
   "source": [
    "nCr(5, 3)"
   ]
  },
  {
   "cell_type": "markdown",
   "metadata": {},
   "source": [
    "###### there is a difference b/w return and print . print will print the value obtain after the execution but return will return the value to the user and user will decide what to do ."
   ]
  },
  {
   "cell_type": "markdown",
   "metadata": {},
   "source": [
    "# Ques.: How does function calling works?\n",
    "###### Ans. e.g: A():              B():             C()                   \n",
    "######          print('as')       print('bs')      print('cs')\n",
    "######          B():              C():             print('ce')\n",
    "######          print('ae')       print('be')\n",
    "######     output :as      explaination : first it will start performing A() fxn. in which it has B() fxn. then it perform \n",
    "######             bs                     B().B() has C() in it then it perform C() so as C() is completed it complete B() \n",
    "######             cs                     and then A() and the output is printed. \n",
    "######             ce                     A()- start first and end last\n",
    "######             be                     B()- start second and end second\n",
    "######             ae                     C()- start last and end last"
   ]
  },
  {
   "cell_type": "markdown",
   "metadata": {},
   "source": [
    "###### SCOPE OF VARIABLES"
   ]
  },
  {
   "cell_type": "code",
   "execution_count": 14,
   "metadata": {},
   "outputs": [],
   "source": [
    "# there are two types of variables :\n",
    "# 1) global variable  2) Local variable\n",
    "# Local variable cannot ork outside the fxn. where as global variable can work inside or outside a local variable\n",
    "# we can access any global variable defined before the fxn. cell"
   ]
  },
  {
   "cell_type": "code",
   "execution_count": 15,
   "metadata": {},
   "outputs": [
    {
     "name": "stdout",
     "output_type": "stream",
     "text": [
      "12\n",
      "10\n"
     ]
    }
   ],
   "source": [
    "a1 = 12 # global variable\n",
    "\n",
    "def f1():\n",
    "    b1 = 10 # local variable\n",
    "    print(b1)\n",
    "print(a1)\n",
    "f1()\n",
    "# if we wirte print(b1) here it will not work as it is a local variable and is outside of fxn. so we have to write it \n",
    "# in the fxn as above"
   ]
  },
  {
   "cell_type": "code",
   "execution_count": 16,
   "metadata": {},
   "outputs": [
    {
     "name": "stdout",
     "output_type": "stream",
     "text": [
      "12\n",
      "10\n",
      "12\n"
     ]
    }
   ],
   "source": [
    "a1 = 12 # global variable\n",
    "\n",
    "def f1():\n",
    "    b1 = 10 # local variable\n",
    "    print(b1)\n",
    "    print(a1)\n",
    "print(a1)\n",
    "f1()\n",
    "# we can also print a1 inside local fxn as it is global variable."
   ]
  },
  {
   "cell_type": "code",
   "execution_count": 17,
   "metadata": {},
   "outputs": [
    {
     "name": "stdout",
     "output_type": "stream",
     "text": [
      "12\n",
      "10\n",
      "12\n"
     ]
    }
   ],
   "source": [
    "\n",
    "def f1():\n",
    "    b1 = 10 # local variable\n",
    "    print(b1)\n",
    "    print(a1)\n",
    "a1 = 12   # global variable \n",
    "print(a1)\n",
    "f1()\n",
    "# this will also give the same result as above code but if we add a1 = 12 after f1() instead of above then it shows error."
   ]
  },
  {
   "cell_type": "code",
   "execution_count": 18,
   "metadata": {},
   "outputs": [
    {
     "name": "stdout",
     "output_type": "stream",
     "text": [
      "12\n",
      "10\n",
      "140709934610496\n",
      "12\n",
      "140709934610560\n"
     ]
    }
   ],
   "source": [
    "a1 = 12 # global variable\n",
    "\n",
    "def f1():\n",
    "    a1 = 10 # local variable\n",
    "    print(a1)\n",
    "    print(id(a1))\n",
    "print(a1)\n",
    "f1()\n",
    "print(a1)  # print global variable\n",
    "print(id(a1))\n",
    "\n",
    "# here both a1 are different. inside the fxn it becomes local variable and it doesn't work outside the fxn so command \n",
    "# print(a1) after f1() doesn't print 10 .we can check it be printing both a1 ids that they are not same"
   ]
  },
  {
   "cell_type": "code",
   "execution_count": 19,
   "metadata": {},
   "outputs": [
    {
     "name": "stdout",
     "output_type": "stream",
     "text": [
      "12\n",
      "10\n",
      "140709934610496\n",
      "10\n",
      "140709934610496\n"
     ]
    }
   ],
   "source": [
    "a1 = 12 # Global variable\n",
    "\n",
    "def f1():\n",
    "    global a1\n",
    "    a1 = 10 # New Global variable\n",
    "    print(a1)\n",
    "    print(id(a1))\n",
    "    \n",
    "print(a1)\n",
    "f1()\n",
    "print(a1)\n",
    "print(id(a1))\n",
    "\n",
    "# here we have changed global variable"
   ]
  },
  {
   "cell_type": "markdown",
   "metadata": {},
   "source": [
    "###### we can access the local fxn outside the fxn be using the RETURN command as it gives access to us to use that value as we have use it above."
   ]
  },
  {
   "cell_type": "code",
   "execution_count": 20,
   "metadata": {},
   "outputs": [
    {
     "name": "stdout",
     "output_type": "stream",
     "text": [
      "10\n"
     ]
    }
   ],
   "source": [
    "def f1():\n",
    "    b1 = 10 \n",
    "    return b1\n",
    "x = f1()\n",
    "print(x)"
   ]
  },
  {
   "cell_type": "markdown",
   "metadata": {},
   "source": [
    "### Default Parameters In Functions"
   ]
  },
  {
   "cell_type": "code",
   "execution_count": 21,
   "metadata": {},
   "outputs": [
    {
     "ename": "TypeError",
     "evalue": "f() takes 1 positional argument but 2 were given",
     "output_type": "error",
     "traceback": [
      "\u001b[1;31m---------------------------------------------------------------------------\u001b[0m",
      "\u001b[1;31mTypeError\u001b[0m                                 Traceback (most recent call last)",
      "\u001b[1;32m<ipython-input-21-47489bc552a8>\u001b[0m in \u001b[0;36m<module>\u001b[1;34m\u001b[0m\n\u001b[0;32m      3\u001b[0m     \u001b[0mprint\u001b[0m\u001b[1;33m(\u001b[0m\u001b[0mn\u001b[0m\u001b[1;33m)\u001b[0m\u001b[1;33m\u001b[0m\u001b[1;33m\u001b[0m\u001b[0m\n\u001b[0;32m      4\u001b[0m \u001b[1;33m\u001b[0m\u001b[0m\n\u001b[1;32m----> 5\u001b[1;33m \u001b[0mf\u001b[0m\u001b[1;33m(\u001b[0m\u001b[1;36m2\u001b[0m\u001b[1;33m,\u001b[0m \u001b[1;36m3\u001b[0m\u001b[1;33m)\u001b[0m\u001b[1;33m\u001b[0m\u001b[1;33m\u001b[0m\u001b[0m\n\u001b[0m\u001b[0;32m      6\u001b[0m \u001b[1;31m# we can only give one argument(value) to f().\u001b[0m\u001b[1;33m\u001b[0m\u001b[1;33m\u001b[0m\u001b[1;33m\u001b[0m\u001b[0m\n",
      "\u001b[1;31mTypeError\u001b[0m: f() takes 1 positional argument but 2 were given"
     ]
    }
   ],
   "source": [
    "# print is a default fxn in python and range is not a fxn in python.\n",
    "def f(n):\n",
    "    print(n)\n",
    "    \n",
    "f(2, 3 )                                                         \n",
    "# we can only give one argument(value) to f()."
   ]
  },
  {
   "cell_type": "code",
   "execution_count": 22,
   "metadata": {},
   "outputs": [
    {
     "name": "stdout",
     "output_type": "stream",
     "text": [
      "4\n",
      "9\n",
      "0\n",
      "7\n"
     ]
    }
   ],
   "source": [
    "def sum(a, b, c = 0):\n",
    "    print(c)\n",
    "    return a + b + c\n",
    "\n",
    "print(sum(2, 3, 4))\n",
    "print(sum(3, 4))"
   ]
  },
  {
   "cell_type": "code",
   "execution_count": 23,
   "metadata": {},
   "outputs": [
    {
     "ename": "SyntaxError",
     "evalue": "non-default argument follows default argument (<ipython-input-23-5e1a5397a4cf>, line 2)",
     "output_type": "error",
     "traceback": [
      "\u001b[1;36m  File \u001b[1;32m\"<ipython-input-23-5e1a5397a4cf>\"\u001b[1;36m, line \u001b[1;32m2\u001b[0m\n\u001b[1;33m    def f(a = 0, b, c):\u001b[0m\n\u001b[1;37m          ^\u001b[0m\n\u001b[1;31mSyntaxError\u001b[0m\u001b[1;31m:\u001b[0m non-default argument follows default argument\n"
     ]
    }
   ],
   "source": [
    "# all non default arguments should be before arguments with default values\n",
    "def f(a = 0, b, c):\n",
    "    return a + b + c\n",
    "\n",
    "f(1, 2)"
   ]
  },
  {
   "cell_type": "code",
   "execution_count": 24,
   "metadata": {},
   "outputs": [
    {
     "name": "stdout",
     "output_type": "stream",
     "text": [
      "14\n",
      "7\n",
      "10\n"
     ]
    },
    {
     "data": {
      "text/plain": [
       "18"
      ]
     },
     "execution_count": 24,
     "metadata": {},
     "output_type": "execute_result"
    }
   ],
   "source": [
    "def f1(a, b, c = 2, d = 0):\n",
    "    return a + b + c + d\n",
    "\n",
    "print(f1(2, 3, 4, 5))\n",
    "print(f1(2, 3))\n",
    "print(f1(2, 3, 5))\n",
    "\n",
    "\n",
    "f1(b = 2, c = 3 , d= 3, a = 10)\n",
    "# we can give the argument value be specifically mentioning the variable as in above"
   ]
  },
  {
   "cell_type": "code",
   "execution_count": 25,
   "metadata": {},
   "outputs": [
    {
     "ename": "SyntaxError",
     "evalue": "non-default argument follows default argument (<ipython-input-25-8098a7a779c5>, line 2)",
     "output_type": "error",
     "traceback": [
      "\u001b[1;36m  File \u001b[1;32m\"<ipython-input-25-8098a7a779c5>\"\u001b[1;36m, line \u001b[1;32m2\u001b[0m\n\u001b[1;33m    def f(a = 0, d = 10,  b, c):\u001b[0m\n\u001b[1;37m          ^\u001b[0m\n\u001b[1;31mSyntaxError\u001b[0m\u001b[1;31m:\u001b[0m non-default argument follows default argument\n"
     ]
    }
   ],
   "source": [
    "# all non default arguments should be before arguments with default values\n",
    "def f(a = 0, d = 10,  b, c):\n",
    "    return a + b + c + d\n",
    "\n",
    "f(1, 2, 4)"
   ]
  },
  {
   "cell_type": "markdown",
   "metadata": {},
   "source": [
    "## QUESTION PRACTICE"
   ]
  },
  {
   "cell_type": "code",
   "execution_count": 26,
   "metadata": {},
   "outputs": [],
   "source": [
    "# fahrenheit to celcius\n",
    "import math\n",
    "def temp(s, e, w):\n",
    "    for i in range(s, e, w):\n",
    "        d = (s - 32) * 5/9\n",
    "        a = math.trunc(d)\n",
    "        print(s, a)\n",
    "        s = s + w\n",
    "        continue\n",
    "        return temp"
   ]
  },
  {
   "cell_type": "code",
   "execution_count": 28,
   "metadata": {},
   "outputs": [
    {
     "name": "stdout",
     "output_type": "stream",
     "text": [
      "0\n",
      "100\n",
      "20\n",
      "0 -17\n",
      "20 -6\n",
      "40 4\n",
      "60 15\n",
      "80 26\n"
     ]
    }
   ],
   "source": [
    "s = int(input())\n",
    "e = int(input())\n",
    "w = int(input())\n",
    "temp(s, e, w)"
   ]
  },
  {
   "cell_type": "code",
   "execution_count": 29,
   "metadata": {},
   "outputs": [
    {
     "name": "stdout",
     "output_type": "stream",
     "text": [
      "5\n",
      "5\n"
     ]
    }
   ],
   "source": [
    "def fib(n):\n",
    "\n",
    "    if n <= 1:\n",
    "        return n\n",
    "\n",
    "    return fib(n - 1) + fib(n - 2)\n",
    "\n",
    "\n",
    "if __name__ == '__main__':\n",
    "\n",
    "    n = int(input())\n",
    "    print(fib(n))"
   ]
  },
  {
   "cell_type": "code",
   "execution_count": null,
   "metadata": {},
   "outputs": [
    {
     "name": "stdout",
     "output_type": "stream",
     "text": [
      "103\n"
     ]
    }
   ],
   "source": [
    "n = int(input())\n",
    "c = n\n",
    "count= 0\n",
    "sum = 0\n",
    "while (c>0):\n",
    "    c = c // 10\n",
    "    count = count + 1 \n",
    "c = n\n",
    "while (n>0):\n",
    "    r = c % 10\n",
    "    sum = sum + (r **count)\n",
    "    c = c // 10\n",
    "\n",
    "if (sum == n) :\n",
    "    print('true')\n",
    "else:\n",
    "    print('false')"
   ]
  },
  {
   "cell_type": "code",
   "execution_count": null,
   "metadata": {},
   "outputs": [],
   "source": [
    "# check armstrong number.\n",
    "n = int(input())\n",
    "c = n\n",
    "count = 0\n",
    "sum = 0\n",
    "while(c>0):\n",
    "    c = c // 10\n",
    "    count = count + 1\n",
    "c = n\n",
    "while (c>0):\n",
    "    r = c % 10\n",
    "    sum = sum + r **count\n",
    "    c = c // 10\n",
    "\n",
    "if (sum == n):\n",
    "    print('true')\n",
    "else:\n",
    "    print('false')"
   ]
  },
  {
   "cell_type": "code",
   "execution_count": null,
   "metadata": {},
   "outputs": [],
   "source": [
    "# python program to check if given\n",
    "# number is a Fibonacci number\n",
    "\n",
    "import math\n",
    "\n",
    "# function to check perferct square\n",
    "def checkPerfectSquare(n):\n",
    "    sqrt = int(math.sqrt(n))\n",
    "    if pow(sqrt, 2) == n:\n",
    "        return True\n",
    "    else:\n",
    "        return False\n",
    "\n",
    "# function to check  Fibonacci number\n",
    "def isFibonacciNumber(n):\n",
    "    res1 = 5 * n * n + 4\n",
    "    res2 = 5 * n * n - 4\n",
    "    if checkPerfectSquare(res1) or checkPerfectSquare(res2):\n",
    "        return True\n",
    "    else:\n",
    "        return False\n",
    "\n",
    "# main code\n",
    "num = int(input(\"Enter an integer number: \"))\n",
    "\n",
    "# checking\n",
    "if isFibonacciNumber(num):\n",
    "    print (\"Yes,\", num, \"is a Fibonacci number\")\n",
    "else:\n",
    "    print (\"No,\", num, \"is not a Fibonacci number\")"
   ]
  },
  {
   "cell_type": "code",
   "execution_count": null,
   "metadata": {},
   "outputs": [],
   "source": [
    "n = int(input())\n",
    "n = c\n",
    "reverse_number = 0\n",
    "while (c>0):\n",
    "    remainder = c % 10\n",
    "    reverse_number = (reverse_number * 10) + remainder\n",
    "    c = c // 10\n",
    "if (reverse_number == c):\n",
    "    print('true')\n",
    "else:\n",
    "    print('false')"
   ]
  },
  {
   "cell_type": "code",
   "execution_count": null,
   "metadata": {},
   "outputs": [],
   "source": [
    "num=int(input())\n",
    "temp=num\n",
    "rev=0\n",
    "while(num>0):\n",
    "    dig=num%10\n",
    "    rev=rev*10+dig\n",
    "    num=num//10\n",
    "if(temp==rev):\n",
    "    print(\"true\")\n",
    "else:\n",
    "    print(\"false\")"
   ]
  },
  {
   "cell_type": "code",
   "execution_count": null,
   "metadata": {},
   "outputs": [],
   "source": []
  }
 ],
 "metadata": {
  "kernelspec": {
   "display_name": "Python 3",
   "language": "python",
   "name": "python3"
  },
  "language_info": {
   "codemirror_mode": {
    "name": "ipython",
    "version": 3
   },
   "file_extension": ".py",
   "mimetype": "text/x-python",
   "name": "python",
   "nbconvert_exporter": "python",
   "pygments_lexer": "ipython3",
   "version": "3.8.3"
  }
 },
 "nbformat": 4,
 "nbformat_minor": 4
}
