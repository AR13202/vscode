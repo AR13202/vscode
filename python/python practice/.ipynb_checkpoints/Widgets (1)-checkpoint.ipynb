{
 "cells": [
  {
   "cell_type": "code",
   "execution_count": 38,
   "metadata": {},
   "outputs": [],
   "source": [
    "import ipywidgets as widgets"
   ]
  },
  {
   "cell_type": "code",
   "execution_count": 39,
   "metadata": {},
   "outputs": [
    {
     "data": {
      "application/vnd.jupyter.widget-view+json": {
       "model_id": "cbf4a1be032243f784835f58c0df44fc",
       "version_major": 2,
       "version_minor": 0
      },
      "text/plain": [
       "IntSlider(value=0)"
      ]
     },
     "metadata": {},
     "output_type": "display_data"
    }
   ],
   "source": [
    "widgets.IntSlider()"
   ]
  },
  {
   "cell_type": "code",
   "execution_count": 43,
   "metadata": {},
   "outputs": [
    {
     "data": {
      "application/vnd.jupyter.widget-view+json": {
       "model_id": "",
       "version_major": 2,
       "version_minor": 0
      },
      "text/plain": [
       "IntSlider(value=0)"
      ]
     },
     "metadata": {},
     "output_type": "display_data"
    },
    {
     "data": {
      "application/vnd.jupyter.widget-view+json": {
       "model_id": "",
       "version_major": 2,
       "version_minor": 0
      },
      "text/plain": [
       "IntSlider(value=0)"
      ]
     },
     "metadata": {},
     "output_type": "display_data"
    }
   ],
   "source": [
    "from IPython.display import display\n",
    "w = widgets.IntSlider()\n",
    "display(w)\n",
    "display(w)"
   ]
  },
  {
   "cell_type": "code",
   "execution_count": 44,
   "metadata": {},
   "outputs": [],
   "source": [
    "w.close()"
   ]
  },
  {
   "cell_type": "code",
   "execution_count": 46,
   "metadata": {},
   "outputs": [
    {
     "data": {
      "application/vnd.jupyter.widget-view+json": {
       "model_id": "e1d13395267a41cf85e3d676cded0e93",
       "version_major": 2,
       "version_minor": 0
      },
      "text/plain": [
       "IntSlider(value=0)"
      ]
     },
     "metadata": {},
     "output_type": "display_data"
    }
   ],
   "source": [
    "w = widgets.IntSlider()\n",
    "display(w)\n"
   ]
  },
  {
   "cell_type": "code",
   "execution_count": 50,
   "metadata": {},
   "outputs": [],
   "source": [
    "w.value =100"
   ]
  },
  {
   "cell_type": "code",
   "execution_count": 51,
   "metadata": {},
   "outputs": [
    {
     "data": {
      "application/vnd.jupyter.widget-view+json": {
       "model_id": "cf033e64b2e04314bf25dbd572b2fa3b",
       "version_major": 2,
       "version_minor": 0
      },
      "text/plain": [
       "Text(value='Hello World!', disabled=True)"
      ]
     },
     "metadata": {},
     "output_type": "display_data"
    }
   ],
   "source": [
    "widgets.Text(value='Hello World!', disabled=True)"
   ]
  },
  {
   "cell_type": "code",
   "execution_count": 54,
   "metadata": {},
   "outputs": [
    {
     "data": {
      "application/vnd.jupyter.widget-view+json": {
       "model_id": "9389c9ca84f24c58a5c153407e1cb56e",
       "version_major": 2,
       "version_minor": 0
      },
      "text/plain": [
       "FloatText(value=0.0)"
      ]
     },
     "metadata": {},
     "output_type": "display_data"
    },
    {
     "data": {
      "application/vnd.jupyter.widget-view+json": {
       "model_id": "584cbfdb4d304684ac27c77cc80927ca",
       "version_major": 2,
       "version_minor": 0
      },
      "text/plain": [
       "FloatSlider(value=0.0)"
      ]
     },
     "metadata": {},
     "output_type": "display_data"
    }
   ],
   "source": [
    "a = widgets.FloatText()\n",
    "b = widgets.FloatSlider()\n",
    "display(a,b)\n",
    "\n",
    "mylink = widgets.jslink((a, 'value'), (b, 'value'))\n",
    "\n"
   ]
  },
  {
   "cell_type": "code",
   "execution_count": 55,
   "metadata": {},
   "outputs": [],
   "source": [
    "mylink.unlink()"
   ]
  },
  {
   "cell_type": "code",
   "execution_count": 57,
   "metadata": {},
   "outputs": [],
   "source": [
    "import tkinter\n",
    "from tkinter import *\n",
    "\n",
    "win = Tk()\n",
    "\n",
    "var = StringVar()\n",
    "label = Label( win, textvariable=var, relief=RAISED )\n",
    "\n",
    "# set label value\n",
    "var.set(\"Hey!? Welcome to Chitkara\")\n",
    "\n",
    "label.pack()\n",
    "win.mainloop()\n"
   ]
  },
  {
   "cell_type": "code",
   "execution_count": 27,
   "metadata": {},
   "outputs": [],
   "source": [
    "from tkinter import *   \n",
    " \n",
    "win = Tk()  \n",
    "  \n",
    "win.geometry(\"400x250\")  \n",
    "  \n",
    "#creating a label  \n",
    "username = Label(win, text = \"Username\").place(x = 30,y = 50)  \n",
    "  \n",
    "#creating second label  \n",
    "password = Label(win, text = \"Password\").place(x = 30, y = 90)  \n",
    "    \n",
    "submitbutton = Button(win, text = \"Submit\",activebackground = \"red\", activeforeground = \"blue\").place(x = 30, y = 120)  \n",
    "  \n",
    "e1 = Entry(win,width = 20).place(x = 100, y = 50)  \n",
    "    \n",
    "e2 = Entry(win, width = 20).place(x = 100, y = 90)    \n",
    "  \n",
    "win.mainloop()  \n"
   ]
  },
  {
   "cell_type": "code",
   "execution_count": 32,
   "metadata": {},
   "outputs": [],
   "source": [
    "from tkinter import*\n",
    "win=Tk()\n",
    "win.title('My First GUI')\n",
    "mybutton=Button(win,text=\"Click me\")\n",
    "mybutton.pack()\n",
    "win.mainloop()"
   ]
  },
  {
   "cell_type": "code",
   "execution_count": 2,
   "metadata": {},
   "outputs": [],
   "source": [
    "## pack Method \n",
    "\n",
    "from tkinter import *  \n",
    "parent = Tk()  \n",
    "redbutton = Button(parent, text = \"Red\", fg = \"red\")  \n",
    "redbutton.pack( side = LEFT)  \n",
    "greenbutton = Button(parent, text = \"Black\", fg = \"black\")  \n",
    "greenbutton.pack( side = RIGHT )  \n",
    "bluebutton = Button(parent, text = \"Blue\", fg = \"blue\")  \n",
    "bluebutton.pack( side = TOP )  \n",
    "blackbutton = Button(parent, text = \"Green\", fg = \"red\")  \n",
    "blackbutton.pack( side = BOTTOM)  \n",
    "parent.mainloop() "
   ]
  },
  {
   "cell_type": "code",
   "execution_count": null,
   "metadata": {},
   "outputs": [],
   "source": [
    "## Grid Method\n"
   ]
  },
  {
   "cell_type": "code",
   "execution_count": 5,
   "metadata": {},
   "outputs": [],
   "source": [
    "from tkinter import *  \n",
    "parent = Tk()  \n",
    "name = Label(parent,text = \"Name\").grid(row = 0, column = 0)  \n",
    "e1 = Entry(parent).grid(row = 0, column = 1)  \n",
    "password = Label(parent,text = \"Password\").grid(row = 1, column = 0)  \n",
    "e2 = Entry(parent).grid(row = 1, column = 1)  \n",
    "submit = Button(parent, text = \"Submit\").grid(row = 4, column = 0)  \n",
    "parent.mainloop()  \n"
   ]
  },
  {
   "cell_type": "code",
   "execution_count": 6,
   "metadata": {},
   "outputs": [],
   "source": [
    "## place Method\n"
   ]
  },
  {
   "cell_type": "code",
   "execution_count": 13,
   "metadata": {},
   "outputs": [],
   "source": [
    "from tkinter import *  \n",
    "top = Tk()  \n",
    "top.geometry(\"400x250\")  \n",
    "name = Label(top, text = \"Name\").place(x = 30,y = 90)  \n",
    "email = Label(top, text = \"Email\").place(x = 30, y = 50)  \n",
    "password = Label(top, text = \"Password\").place(x = 30, y = 130)  \n",
    "e1 = Entry(top).place(x = 80, y = 50)  \n",
    "e2 = Entry(top).place(x = 80, y = 90)  \n",
    "e3 = Entry(top).place(x = 95, y = 130)  \n",
    "top.mainloop() \n"
   ]
  },
  {
   "cell_type": "code",
   "execution_count": 15,
   "metadata": {},
   "outputs": [],
   "source": [
    "##Button\n",
    "\n",
    "from tkinter import*\n",
    "win=Tk()\n",
    "win.title('My First GUI')\n",
    "mybutton=Button(win,text=\"Click me\")\n",
    "mybutton.pack()\n",
    "win.mainloop()"
   ]
  },
  {
   "cell_type": "code",
   "execution_count": 17,
   "metadata": {},
   "outputs": [],
   "source": [
    "##CheckButton\n",
    "from tkinter import *\n",
    "win = Tk()  \n",
    "win.title('My check Button')\n",
    "win.geometry('350x250')\n",
    "var1=IntVar()\n",
    "cb1=Checkbutton(win,text=\"Male\", variable=var1)\n",
    "cb1.grid(row=0,sticky=W)\n",
    "var2=IntVar()\n",
    "cb2=Checkbutton(win,text=\"Female\", variable=var2)\n",
    "cb2.grid(row=1,sticky=W)\n",
    "win.mainloop() \n"
   ]
  },
  {
   "cell_type": "code",
   "execution_count": 18,
   "metadata": {},
   "outputs": [],
   "source": [
    "## Entry\n",
    "\n",
    "from tkinter import *\n",
    "win=Tk()\n",
    "win.title('My Textbox')\n",
    "win.geometry('350x250')\n",
    "textbox=Entry(win)\n",
    "textbox.pack()\n",
    "win.mainloop()"
   ]
  },
  {
   "cell_type": "code",
   "execution_count": 20,
   "metadata": {},
   "outputs": [],
   "source": [
    "## Label\n",
    "\n",
    "from tkinter import *\n",
    "win=Tk()\n",
    "win.title('My Label GUI')\n",
    "win.geometry('350x250')   # This is for fixing GUI window Size\n",
    "mylabel=Label(win,text=\"hgsolutions\")\n",
    "mylabel.pack()\n",
    "win.mainloop()"
   ]
  },
  {
   "cell_type": "code",
   "execution_count": 21,
   "metadata": {},
   "outputs": [],
   "source": [
    "##List Box\n",
    "\n",
    "from tkinter import *\n",
    "win=Tk()\n",
    "win.title('My List Box')\n",
    "win.geometry(\"350x252\")\n",
    "lb=Listbox(win)\n",
    "lb.insert(1,'Python')\n",
    "lb.insert(2,'Web')\n",
    "lb.insert(3,'Java')\n",
    "lb.insert(4,'C++')\n",
    "lb.insert(4,'Any Other')\n",
    "lb.pack()\n",
    "win.mainloop()\n"
   ]
  },
  {
   "cell_type": "code",
   "execution_count": 23,
   "metadata": {},
   "outputs": [],
   "source": [
    "## Radio Button \n",
    "\n",
    "from tkinter import *\n",
    "win=Tk()\n",
    "win.title('My Radio Button')\n",
    "win.geometry('350x250')\n",
    "var=IntVar()\n",
    "rb1=Radiobutton(win,text=\"Python\",variable=var,value=1)\n",
    "rb1.pack()\n",
    "rb2=Radiobutton(win,text=\"Ruby\",variable=var,value=2)\n",
    "rb2.pack()\n",
    "rb3=Radiobutton(win,text=\"Java\",variable=var,value=3)\n",
    "rb3.pack()\n",
    "win.mainloop()\n"
   ]
  },
  {
   "cell_type": "code",
   "execution_count": 7,
   "metadata": {},
   "outputs": [
    {
     "name": "stdout",
     "output_type": "stream",
     "text": [
      "Single Click, Button-l\n",
      "Single Click, Button-l\n",
      "Double Click, so let's stop\n"
     ]
    },
    {
     "ename": "SystemExit",
     "evalue": "",
     "output_type": "error",
     "traceback": [
      "An exception has occurred, use %tb to see the full traceback.\n",
      "\u001b[1;31mSystemExit\u001b[0m\n"
     ]
    },
    {
     "name": "stderr",
     "output_type": "stream",
     "text": [
      "D:\\Python\\lib\\site-packages\\IPython\\core\\interactiveshell.py:3351: UserWarning: To exit: use 'exit', 'quit', or Ctrl-D.\n",
      "  warn(\"To exit: use 'exit', 'quit', or Ctrl-D.\", stacklevel=1)\n"
     ]
    }
   ],
   "source": [
    "## Event Bind method\n",
    "from tkinter import *\n",
    "def hello(event):\n",
    "    print(\"Single Click, Button-l\") \n",
    "def quit(event):                           \n",
    "    print(\"Double Click, so let's stop\") \n",
    "    import sys; sys.exit() \n",
    "\n",
    "widget = Button(None, text='Mouse Clicks')\n",
    "widget.pack()\n",
    "widget.bind('<Button-1>', hello)\n",
    "widget.bind('<Double-1>', quit) \n",
    "widget.mainloop()\n"
   ]
  },
  {
   "cell_type": "code",
   "execution_count": 6,
   "metadata": {},
   "outputs": [],
   "source": [
    "## Motion event\n",
    "from tkinter import *\n",
    "def motion(event):\n",
    "  print(\"Mouse position: (%s %s)\" % (event.x, event.y))\n",
    "  return\n",
    "master = Tk()\n",
    "whatever_you_do = \"Whatever you do will be insignificant, but it is very important that you do it.\\n(Mahatma Gandhi)\"\n",
    "msg = Message(master, text = whatever_you_do)\n",
    "msg.config(bg='lightgreen', font=('times', 24, 'italic'))\n",
    "msg.bind('<Motion>',motion)\n",
    "msg.pack()\n",
    "mainloop()"
   ]
  },
  {
   "cell_type": "code",
   "execution_count": 1,
   "metadata": {},
   "outputs": [
    {
     "name": "stdout",
     "output_type": "stream",
     "text": [
      "Person Age, 18\n",
      "Person Age, 18\n",
      "Person Name, Aaditya\n",
      "Person Age, 18\n",
      "Person Age, 18\n",
      "Person Name, Aaditya\n"
     ]
    }
   ],
   "source": [
    "from tkinter import *\n",
    "def hello(event):\n",
    "    print(\"Person Age, 18\")\n",
    "def quit(event):\n",
    "    print(\"Person Name, Aaditya\")\n",
    "widget=Button(None, text='Mouse Clicks')\n",
    "widget.pack()\n",
    "widget.bind('<Button-1>', hello)\n",
    "widget.bind('<Double-1>', quit)\n",
    "widget.mainloop()"
   ]
  },
  {
   "cell_type": "code",
   "execution_count": null,
   "metadata": {},
   "outputs": [],
   "source": []
  }
 ],
 "metadata": {
  "kernelspec": {
   "display_name": "Python 3",
   "language": "python",
   "name": "python3"
  },
  "language_info": {
   "codemirror_mode": {
    "name": "ipython",
    "version": 3
   },
   "file_extension": ".py",
   "mimetype": "text/x-python",
   "name": "python",
   "nbconvert_exporter": "python",
   "pygments_lexer": "ipython3",
   "version": "3.8.3"
  }
 },
 "nbformat": 4,
 "nbformat_minor": 4
}
