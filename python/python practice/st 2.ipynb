{
 "cells": [
  {
   "cell_type": "code",
   "execution_count": 1,
   "metadata": {},
   "outputs": [
    {
     "name": "stdout",
     "output_type": "stream",
     "text": [
      "[[0, 1, 2], [1, 2, 3], [2, 3, 4]]\n"
     ]
    }
   ],
   "source": [
    "m = [[x, x+1, x+2] for x in range(0,3)]\n",
    "print(m)"
   ]
  },
  {
   "cell_type": "code",
   "execution_count": 2,
   "metadata": {},
   "outputs": [
    {
     "name": "stdout",
     "output_type": "stream",
     "text": [
      "[0, 1, 2, 3, 4, 5, 6, 7, 8, 9]\n"
     ]
    }
   ],
   "source": [
    "odd = lambda x : bool(x%5)\n",
    "number = [n for n in range(10)]\n",
    "print(number)\n",
    "n = list()\n",
    "for i in number :\n",
    "    if odd(i):\n",
    "        continue\n",
    "    else:\n",
    "        break"
   ]
  },
  {
   "cell_type": "code",
   "execution_count": 5,
   "metadata": {},
   "outputs": [
    {
     "name": "stdout",
     "output_type": "stream",
     "text": [
      "False\n",
      "True\n"
     ]
    }
   ],
   "source": [
    "f = lambda x : bool(x%2)\n",
    "print(f(220))\n",
    "print(f(21))"
   ]
  },
  {
   "cell_type": "code",
   "execution_count": 30,
   "metadata": {},
   "outputs": [
    {
     "data": {
      "text/plain": [
       "3.5176203005065902"
      ]
     },
     "execution_count": 30,
     "metadata": {},
     "output_type": "execute_result"
    }
   ],
   "source": [
    "import random\n",
    "random.uniform(3,4)"
   ]
  },
  {
   "cell_type": "code",
   "execution_count": 31,
   "metadata": {},
   "outputs": [
    {
     "name": "stdout",
     "output_type": "stream",
     "text": [
      "[0, 1, 4]\n"
     ]
    }
   ],
   "source": [
    "result = [x**2 for x in range(3)]\n",
    "print(result)"
   ]
  },
  {
   "cell_type": "code",
   "execution_count": 32,
   "metadata": {},
   "outputs": [
    {
     "name": "stdout",
     "output_type": "stream",
     "text": [
      "[256, 64, 4, 512, 128]\n"
     ]
    }
   ],
   "source": [
    "my_list = [8,6,2,9,7]\n",
    "res = map(lambda j: 2**j, my_list)\n",
    "print(list(res))"
   ]
  },
  {
   "cell_type": "code",
   "execution_count": 33,
   "metadata": {},
   "outputs": [
    {
     "name": "stdout",
     "output_type": "stream",
     "text": [
      "[400]\n"
     ]
    }
   ],
   "source": [
    "li = [100,200,300,400]\n",
    "del li[0:3]\n",
    "print(li)"
   ]
  },
  {
   "cell_type": "code",
   "execution_count": 35,
   "metadata": {},
   "outputs": [
    {
     "name": "stdout",
     "output_type": "stream",
     "text": [
      "Mango\n"
     ]
    }
   ],
   "source": [
    "li = ['Apple', 'Mango', 'Banana']\n",
    "print(max(li))"
   ]
  },
  {
   "cell_type": "code",
   "execution_count": 38,
   "metadata": {},
   "outputs": [
    {
     "name": "stdout",
     "output_type": "stream",
     "text": [
      "[65, 39, 221]\n"
     ]
    }
   ],
   "source": [
    "li = [12, 65, 54, 39, 102, 339, 221, 50, 70]\n",
    "res = list(filter(lambda j: j%13==0, li))\n",
    "print(res)"
   ]
  },
  {
   "cell_type": "code",
   "execution_count": 42,
   "metadata": {},
   "outputs": [
    {
     "name": "stdout",
     "output_type": "stream",
     "text": [
      "24\n"
     ]
    }
   ],
   "source": [
    "from math import factorial\n",
    "print(math.factorial(4))"
   ]
  },
  {
   "cell_type": "code",
   "execution_count": 48,
   "metadata": {},
   "outputs": [
    {
     "name": "stdout",
     "output_type": "stream",
     "text": [
      "[4, 6, 4, 2, 2, 8, 5, 7, 7]\n"
     ]
    }
   ],
   "source": [
    "import random\n",
    "list1 = [4,5,2,6,7,8,2,4,7]\n",
    "random.shuffle(list1)\n",
    "print(list1)"
   ]
  },
  {
   "cell_type": "code",
   "execution_count": 49,
   "metadata": {},
   "outputs": [
    {
     "name": "stdout",
     "output_type": "stream",
     "text": [
      "7\n"
     ]
    }
   ],
   "source": [
    "list1 = [4,5,2,6,7,8,2,4,7]\n",
    "print(list1[-1])"
   ]
  },
  {
   "cell_type": "code",
   "execution_count": 52,
   "metadata": {},
   "outputs": [
    {
     "name": "stdout",
     "output_type": "stream",
     "text": [
      "(8, 8)\n"
     ]
    }
   ],
   "source": [
    "t = (7, 8, 8, 9)\n",
    "tuple(t)\n",
    "print(t[-3:-1])"
   ]
  },
  {
   "cell_type": "code",
   "execution_count": 53,
   "metadata": {},
   "outputs": [
    {
     "data": {
      "text/plain": [
       "False"
      ]
     },
     "execution_count": 53,
     "metadata": {},
     "output_type": "execute_result"
    }
   ],
   "source": [
    "'2' == 2"
   ]
  },
  {
   "cell_type": "code",
   "execution_count": 57,
   "metadata": {},
   "outputs": [
    {
     "name": "stdout",
     "output_type": "stream",
     "text": [
      "Begin: 6\n",
      "End: 9\n",
      "6 8 "
     ]
    }
   ],
   "source": [
    "a = int(input('Begin: '))\n",
    "b = int(input('End: '))\n",
    "for i in range(a,b+1):\n",
    "    if i % 2 == 0:\n",
    "        print(i, end=\" \")"
   ]
  },
  {
   "cell_type": "code",
   "execution_count": 107,
   "metadata": {},
   "outputs": [
    {
     "name": "stdout",
     "output_type": "stream",
     "text": [
      "5\n",
      "1\n",
      "2\n",
      "3\n",
      "4\n",
      "5\n",
      "6109\n"
     ]
    }
   ],
   "source": [
    "n = int(input())\n",
    "li = []\n",
    "even_sum = 0\n",
    "odd_sum = 0\n",
    "prime_sum = 0\n",
    "for i in range(1, n+1):\n",
    "    a = int(input())\n",
    "    li.append(a)\n",
    "for j in li:\n",
    "    if j % 2 == 0:\n",
    "        even_sum += j\n",
    "    else:\n",
    "        odd_sum += j\n",
    "for j in li:\n",
    "    if j != 1:\n",
    "        for d in range(2,j):\n",
    "            if j % d == 0:\n",
    "                break  \n",
    "        else: \n",
    "            prime_sum += j\n",
    "print(str(even_sum)+str(prime_sum)+str(odd_sum))"
   ]
  }
 ],
 "metadata": {
  "kernelspec": {
   "display_name": "Python 3",
   "language": "python",
   "name": "python3"
  },
  "language_info": {
   "codemirror_mode": {
    "name": "ipython",
    "version": 3
   },
   "file_extension": ".py",
   "mimetype": "text/x-python",
   "name": "python",
   "nbconvert_exporter": "python",
   "pygments_lexer": "ipython3",
   "version": "3.8.3"
  }
 },
 "nbformat": 4,
 "nbformat_minor": 4
}
