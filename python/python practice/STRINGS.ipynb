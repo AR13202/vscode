{
 "cells": [
  {
   "cell_type": "markdown",
   "metadata": {},
   "source": [
    "## STRINGS\n",
    "####  => A sequence of characters \n",
    "#### e.g: s = 'Aryan'\n",
    "    \n",
    "### Q.: How it is stored ?\n",
    "### A.:It is stored as sequence of unicodes(ASCII Value).\n",
    "\n",
    "#### case 1 : \n",
    "#### s = '''My\n",
    "#### Name Is\n",
    "#### Aryan'''    \n",
    "#### (triple quotes for multiple line string)\n",
    "#### output: s = My\\NameIs\\Aryan  \n",
    "#### (\\ indicates end of line)"
   ]
  },
  {
   "cell_type": "markdown",
   "metadata": {},
   "source": [
    "#### Strings are immutable cannot be changed once created but anew string can be stored in other variable with different id\n",
    "#### and same follows with variables but Lists are muttable."
   ]
  },
  {
   "cell_type": "code",
   "execution_count": 5,
   "metadata": {},
   "outputs": [
    {
     "name": "stdout",
     "output_type": "stream",
     "text": [
      "redblue\n",
      "redblue3\n",
      "redblue3bluegreen\n",
      "redblue3bluegreenredblue3bluegreenredblue3bluegreen\n"
     ]
    }
   ],
   "source": [
    "# concatenation of strings (means Add,join)\n",
    "s = \"red\"\n",
    "s += \"blue\"\n",
    "print(s)\n",
    "s += str(3)\n",
    "print(s)\n",
    "s += \"blue\"+\"green\"\n",
    "print(s)\n",
    "s = s * 3\n",
    "print(s)"
   ]
  },
  {
   "cell_type": "code",
   "execution_count": 17,
   "metadata": {},
   "outputs": [
    {
     "name": "stdout",
     "output_type": "stream",
     "text": [
      "True\n",
      "False\n"
     ]
    }
   ],
   "source": [
    "# Comparsion in STrings.\n",
    "s = \"Aryan\" <= \"Varun\"\n",
    "print(s)\n",
    "b = \"asdf\" <= 'Afhd'\n",
    "print(b)\n",
    "# it takes the ascii value of each string and then compare it .\n",
    "# NOTE: EACH STRING HAS DIFFERENT ASCII VALUE WHETHER SMALL OR CAPITAL IT HAVE DIFFERENT VALUES"
   ]
  },
  {
   "cell_type": "code",
   "execution_count": 7,
   "metadata": {},
   "outputs": [
    {
     "name": "stdout",
     "output_type": "stream",
     "text": [
      "3\n"
     ]
    }
   ],
   "source": [
    "# Loops in strings.\n",
    "s = 'Hello World'\n",
    "count = 0\n",
    "for i in s:\n",
    "    if (i == 'l'):\n",
    "        count = count + 1\n",
    "print(count)"
   ]
  },
  {
   "cell_type": "markdown",
   "metadata": {},
   "source": [
    "## Operations in Strings."
   ]
  },
  {
   "cell_type": "markdown",
   "metadata": {},
   "source": [
    "#### SPLIT"
   ]
  },
  {
   "cell_type": "code",
   "execution_count": 9,
   "metadata": {},
   "outputs": [
    {
     "name": "stdout",
     "output_type": "stream",
     "text": [
      "['My', 'name', 'is', 'Aryan']\n"
     ]
    }
   ],
   "source": [
    "str = \"My name is Aryan\"\n",
    "li = str.split()\n",
    "# we have stored the str as new string(li) as they are immutable\n",
    "print(li)"
   ]
  },
  {
   "cell_type": "code",
   "execution_count": 10,
   "metadata": {},
   "outputs": [
    {
     "name": "stdout",
     "output_type": "stream",
     "text": [
      "['My,name,is,Aryan']\n"
     ]
    }
   ],
   "source": [
    "str = \"My,name,is,Aryan\"\n",
    "li = str.split()\n",
    "print(li)"
   ]
  },
  {
   "cell_type": "code",
   "execution_count": 11,
   "metadata": {},
   "outputs": [
    {
     "name": "stdout",
     "output_type": "stream",
     "text": [
      "['My', 'name', 'is', 'Aryan']\n"
     ]
    }
   ],
   "source": [
    "str = \"My,name,is,Aryan\"\n",
    "li = str.split(\",\")\n",
    "print(li)"
   ]
  },
  {
   "cell_type": "code",
   "execution_count": 12,
   "metadata": {},
   "outputs": [
    {
     "name": "stdout",
     "output_type": "stream",
     "text": [
      "['My', 'name', 'is,Aryan']\n"
     ]
    }
   ],
   "source": [
    "str = \"My,name,is,Aryan\"\n",
    "li = str.split(\",\",2)\n",
    "print(li)"
   ]
  },
  {
   "cell_type": "code",
   "execution_count": 15,
   "metadata": {},
   "outputs": [
    {
     "name": "stdout",
     "output_type": "stream",
     "text": [
      "['My', 'name', 'is', 'Aryan']\n"
     ]
    }
   ],
   "source": [
    "str = \"My,name,is,Aryan\"\n",
    "li = str.split(',',)\n",
    "print(li)"
   ]
  },
  {
   "cell_type": "markdown",
   "metadata": {},
   "source": [
    "#### REPLACE"
   ]
  },
  {
   "cell_type": "code",
   "execution_count": 19,
   "metadata": {},
   "outputs": [
    {
     "name": "stdout",
     "output_type": "stream",
     "text": [
      "My name is Rohan\n"
     ]
    }
   ],
   "source": [
    "str = \"My name is Aryan\"\n",
    "li = str.replace('Aryan','Rohan')\n",
    "print(li)"
   ]
  },
  {
   "cell_type": "markdown",
   "metadata": {},
   "source": [
    "#### FIND"
   ]
  },
  {
   "cell_type": "code",
   "execution_count": 26,
   "metadata": {},
   "outputs": [
    {
     "name": "stdout",
     "output_type": "stream",
     "text": [
      "11\n"
     ]
    }
   ],
   "source": [
    "str = \"My name is Aryan\"\n",
    "li = str.find('Ary')\n",
    "print(li)"
   ]
  },
  {
   "cell_type": "code",
   "execution_count": 27,
   "metadata": {},
   "outputs": [
    {
     "name": "stdout",
     "output_type": "stream",
     "text": [
      "-1\n"
     ]
    }
   ],
   "source": [
    "str = \"My name is Aryan\"\n",
    "li = str.find('Aryn')\n",
    "print(li)\n",
    "# -1 means not present in string"
   ]
  },
  {
   "cell_type": "code",
   "execution_count": 28,
   "metadata": {},
   "outputs": [
    {
     "name": "stdout",
     "output_type": "stream",
     "text": [
      "11\n"
     ]
    }
   ],
   "source": [
    "str = \"My name is Aryan\"\n",
    "li = str.find('Ary',9,15)\n",
    "print(li)\n",
    "# here 9 is the start index and 15 is the end index"
   ]
  },
  {
   "cell_type": "markdown",
   "metadata": {},
   "source": [
    "#### LOWER & UPPER "
   ]
  },
  {
   "cell_type": "code",
   "execution_count": 30,
   "metadata": {},
   "outputs": [
    {
     "name": "stdout",
     "output_type": "stream",
     "text": [
      "my name is aryan\n",
      "MY NAME IS ARYAN\n"
     ]
    }
   ],
   "source": [
    "str = \"My name is Aryan\"\n",
    "str = str.lower()\n",
    "print(str)\n",
    "str = str.upper()\n",
    "print(str)"
   ]
  },
  {
   "cell_type": "markdown",
   "metadata": {},
   "source": [
    "#### STARTSWITH"
   ]
  },
  {
   "cell_type": "code",
   "execution_count": 38,
   "metadata": {},
   "outputs": [
    {
     "name": "stdout",
     "output_type": "stream",
     "text": [
      "True\n"
     ]
    }
   ],
   "source": [
    "str = \"My name is Aryan\"\n",
    "ans = str.startswith('My na')\n",
    "print(ans)"
   ]
  },
  {
   "cell_type": "markdown",
   "metadata": {},
   "source": [
    "## REPLACE CHARACTER IN STRING"
   ]
  },
  {
   "cell_type": "code",
   "execution_count": 45,
   "metadata": {},
   "outputs": [
    {
     "name": "stdout",
     "output_type": "stream",
     "text": [
      "fdafdavxz\n"
     ]
    }
   ],
   "source": [
    "def replace(str,char1,char2):\n",
    "    new_str = \"\"\n",
    "    for char in str:\n",
    "        if (char == char1):\n",
    "            new_str += char2\n",
    "        else:\n",
    "            new_str += char\n",
    "    return new_str\n",
    "\n",
    "str = \"fsafsavxz\"\n",
    "char1 = \"s\"\n",
    "char2 = \"d\"\n",
    "str = replace(str,char1,char2)\n",
    "print(str)"
   ]
  },
  {
   "cell_type": "markdown",
   "metadata": {},
   "source": [
    "### VOWELS, CONSONANTS SPECIAL CHARACTER IN STRINGS"
   ]
  },
  {
   "cell_type": "code",
   "execution_count": 48,
   "metadata": {},
   "outputs": [
    {
     "name": "stdout",
     "output_type": "stream",
     "text": [
      "17 16 15 8\n"
     ]
    }
   ],
   "source": [
    "def countstring(str):\n",
    "    v,c,d,s = 0,0,0,0\n",
    "    for char in str:\n",
    "        # ALPHABET\n",
    "        if((char >= 'a' and char<= 'z') or (char >= 'A' and char<= 'Z')):\n",
    "            char = char.lower()\n",
    "            if (char == \"a\" or char == \"e\" or char == \"i\" or char == \"o\" or char == \"u\"):\n",
    "                v += 1\n",
    "            else:\n",
    "                c += 1\n",
    "        # DIGITS \n",
    "        elif (char >= \"0\" and char <=\"9\"):\n",
    "            d += 1\n",
    "        # SPECIAL CHAR\n",
    "        else:\n",
    "            s += 1\n",
    "    return v,c,d,s\n",
    "\n",
    "str = \"auioivcwerboivdADADvopivbiioertAD123142356578980@#$%^&%#\"\n",
    "v,c,d,s = countstring(str)\n",
    "print(v,c,d,s)"
   ]
  },
  {
   "cell_type": "code",
   "execution_count": null,
   "metadata": {},
   "outputs": [],
   "source": []
  }
 ],
 "metadata": {
  "kernelspec": {
   "display_name": "Python 3",
   "language": "python",
   "name": "python3"
  },
  "language_info": {
   "codemirror_mode": {
    "name": "ipython",
    "version": 3
   },
   "file_extension": ".py",
   "mimetype": "text/x-python",
   "name": "python",
   "nbconvert_exporter": "python",
   "pygments_lexer": "ipython3",
   "version": "3.8.3"
  }
 },
 "nbformat": 4,
 "nbformat_minor": 4
}
