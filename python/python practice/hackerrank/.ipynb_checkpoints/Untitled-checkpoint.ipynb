{
 "cells": [
  {
   "cell_type": "code",
   "execution_count": 12,
   "metadata": {},
   "outputs": [
    {
     "name": "stdout",
     "output_type": "stream",
     "text": [
      "54442\n",
      "1101010010101010\n",
      "2\n"
     ]
    }
   ],
   "source": [
    "import math\n",
    "import os\n",
    "import random\n",
    "import re\n",
    "import sys\n",
    "\n",
    "\n",
    "\n",
    "if __name__ == '__main__':\n",
    "    n = int(input())\n",
    "    a = \"\"\n",
    "    while (n>0):\n",
    "        s = n % 2\n",
    "        a = a + str(s)\n",
    "        n = n // 2\n",
    "    b = a[-1::-1]\n",
    "    print(b)\n",
    "    count = 0\n",
    "    for i in b[0:]:\n",
    "        if (int(i) == 1):\n",
    "            count = count + 1\n",
    "        else:\n",
    "            break\n",
    "    print(count)"
   ]
  },
  {
   "cell_type": "code",
   "execution_count": 14,
   "metadata": {},
   "outputs": [
    {
     "name": "stdout",
     "output_type": "stream",
     "text": [
      "[1,2,3,4,5]\n",
      "[1, 2, 3, 4, 5]\n",
      "['1', '2', '3', '4', '5']\n",
      "3\n",
      "5\n"
     ]
    }
   ],
   "source": [
    "str = input()\n",
    "a = str[1:-1:2]\n",
    "b = list(a)\n",
    "d = len(b)\n",
    "s = [] \n",
    "for i in range(d):\n",
    "    f = int(b[i])\n",
    "    s.append(f)\n",
    "\n",
    "c = s[0] + s[1]\n",
    "print(s)\n",
    "print(b)\n",
    "print(c)\n",
    "print(d)"
   ]
  },
  {
   "cell_type": "code",
   "execution_count": 7,
   "metadata": {},
   "outputs": [
    {
     "name": "stdout",
     "output_type": "stream",
     "text": [
      "[2,7,11,15]\n"
     ]
    },
    {
     "ename": "ValueError",
     "evalue": "invalid literal for int() with base 10: ','",
     "output_type": "error",
     "traceback": [
      "\u001b[1;31m---------------------------------------------------------------------------\u001b[0m",
      "\u001b[1;31mValueError\u001b[0m                                Traceback (most recent call last)",
      "\u001b[1;32m<ipython-input-7-257891f4c521>\u001b[0m in \u001b[0;36m<module>\u001b[1;34m\u001b[0m\n\u001b[0;32m      5\u001b[0m \u001b[0mlist1\u001b[0m \u001b[1;33m=\u001b[0m \u001b[1;33m[\u001b[0m\u001b[1;33m]\u001b[0m\u001b[1;33m\u001b[0m\u001b[1;33m\u001b[0m\u001b[0m\n\u001b[0;32m      6\u001b[0m \u001b[1;32mfor\u001b[0m \u001b[0mi\u001b[0m \u001b[1;32min\u001b[0m \u001b[0mrange\u001b[0m\u001b[1;33m(\u001b[0m\u001b[0md\u001b[0m\u001b[1;33m)\u001b[0m\u001b[1;33m:\u001b[0m\u001b[1;33m\u001b[0m\u001b[1;33m\u001b[0m\u001b[0m\n\u001b[1;32m----> 7\u001b[1;33m     \u001b[0mf\u001b[0m \u001b[1;33m=\u001b[0m \u001b[0mint\u001b[0m\u001b[1;33m(\u001b[0m\u001b[0mb\u001b[0m\u001b[1;33m[\u001b[0m\u001b[0mi\u001b[0m\u001b[1;33m]\u001b[0m\u001b[1;33m)\u001b[0m\u001b[1;33m\u001b[0m\u001b[1;33m\u001b[0m\u001b[0m\n\u001b[0m\u001b[0;32m      8\u001b[0m     \u001b[0mq\u001b[0m \u001b[1;33m=\u001b[0m \u001b[0mlist1\u001b[0m\u001b[1;33m.\u001b[0m\u001b[0mappend\u001b[0m\u001b[1;33m(\u001b[0m\u001b[0mf\u001b[0m\u001b[1;33m)\u001b[0m\u001b[1;33m\u001b[0m\u001b[1;33m\u001b[0m\u001b[0m\n\u001b[0;32m      9\u001b[0m \u001b[0mtarget\u001b[0m \u001b[1;33m=\u001b[0m \u001b[0mint\u001b[0m\u001b[1;33m(\u001b[0m\u001b[0minput\u001b[0m\u001b[1;33m(\u001b[0m\u001b[1;33m)\u001b[0m\u001b[1;33m)\u001b[0m\u001b[1;33m\u001b[0m\u001b[1;33m\u001b[0m\u001b[0m\n",
      "\u001b[1;31mValueError\u001b[0m: invalid literal for int() with base 10: ','"
     ]
    }
   ],
   "source": [
    "str = input()\n",
    "a = str[1:-1:2]\n",
    "b = list(a)\n",
    "d = len(b)\n",
    "list1 = [] \n",
    "for i in range(d):\n",
    "    f = int(b[i])\n",
    "    q = list1.append(f)\n",
    "target = int(input())\n",
    "print(list1)\n",
    "n = len(list1)\n",
    "for i in range(n-1):\n",
    "    for j in range(i+1,n):\n",
    "        if (list1[i] + list1[j] == target):\n",
    "            print(i,j)  "
   ]
  },
  {
   "cell_type": "code",
   "execution_count": 10,
   "metadata": {},
   "outputs": [
    {
     "name": "stdout",
     "output_type": "stream",
     "text": [
      "[2,4,3]\n",
      "[5,6,4]\n"
     ]
    },
    {
     "ename": "TypeError",
     "evalue": "'str' object is not callable",
     "output_type": "error",
     "traceback": [
      "\u001b[1;31m---------------------------------------------------------------------------\u001b[0m",
      "\u001b[1;31mTypeError\u001b[0m                                 Traceback (most recent call last)",
      "\u001b[1;32m<ipython-input-10-4b8941a70dbe>\u001b[0m in \u001b[0;36m<module>\u001b[1;34m\u001b[0m\n\u001b[0;32m     19\u001b[0m \u001b[0mli1\u001b[0m \u001b[1;33m=\u001b[0m \u001b[0mstringToList\u001b[0m\u001b[1;33m(\u001b[0m\u001b[0mstr1\u001b[0m\u001b[1;33m)\u001b[0m\u001b[1;33m\u001b[0m\u001b[1;33m\u001b[0m\u001b[0m\n\u001b[0;32m     20\u001b[0m \u001b[0mnum2\u001b[0m \u001b[1;33m=\u001b[0m \u001b[0mnum\u001b[0m\u001b[1;33m(\u001b[0m\u001b[0mli1\u001b[0m\u001b[1;33m)\u001b[0m\u001b[1;33m\u001b[0m\u001b[1;33m\u001b[0m\u001b[0m\n\u001b[1;32m---> 21\u001b[1;33m \u001b[0msum1\u001b[0m \u001b[1;33m=\u001b[0m \u001b[0mstr\u001b[0m\u001b[1;33m(\u001b[0m\u001b[0mnum1\u001b[0m \u001b[1;33m+\u001b[0m \u001b[0mnum2\u001b[0m\u001b[1;33m)\u001b[0m\u001b[1;33m\u001b[0m\u001b[1;33m\u001b[0m\u001b[0m\n\u001b[0m\u001b[0;32m     22\u001b[0m \u001b[0ms\u001b[0m \u001b[1;33m=\u001b[0m \u001b[0mlen\u001b[0m\u001b[1;33m(\u001b[0m\u001b[0msum1\u001b[0m\u001b[1;33m)\u001b[0m\u001b[1;33m\u001b[0m\u001b[1;33m\u001b[0m\u001b[0m\n\u001b[0;32m     23\u001b[0m \u001b[0mp\u001b[0m \u001b[1;33m=\u001b[0m \u001b[1;33m[\u001b[0m\u001b[1;33m]\u001b[0m\u001b[1;33m\u001b[0m\u001b[1;33m\u001b[0m\u001b[0m\n",
      "\u001b[1;31mTypeError\u001b[0m: 'str' object is not callable"
     ]
    }
   ],
   "source": [
    "def stringToList(string):\n",
    "    a = string[1:-1:2]\n",
    "    b = list(a)\n",
    "    return b\n",
    "    \n",
    "def num(li):\n",
    "    n = len(li)\n",
    "    t = li[-1::-1]\n",
    "    w = \"\"\n",
    "    for i in range(n):\n",
    "        w = w + t[i]\n",
    "    q = int(w)\n",
    "    return q\n",
    "\n",
    "st = input()\n",
    "str1 = input()\n",
    "li = stringToList(st)\n",
    "num1 = num(li)\n",
    "li1 = stringToList(str1)\n",
    "num2 = num(li1)\n",
    "sum1 = str(num1 + num2)\n",
    "s = len(sum1)\n",
    "p = []\n",
    "for i in range(s):\n",
    "    p.append(g[i])\n",
    "print(p[-1::-1])"
   ]
  },
  {
   "cell_type": "code",
   "execution_count": 4,
   "metadata": {},
   "outputs": [
    {
     "name": "stdout",
     "output_type": "stream",
     "text": [
      "3\n",
      "11 2 4\n",
      "4 5 6\n",
      "10 8 -12\n"
     ]
    },
    {
     "data": {
      "text/plain": [
       "15"
      ]
     },
     "execution_count": 4,
     "metadata": {},
     "output_type": "execute_result"
    }
   ],
   "source": [
    "def diagonalsum(arr):\n",
    "    ld = 0\n",
    "    rd = 0\n",
    "    n = len(arr)\n",
    "    for i in range(n):\n",
    "        for j in range(n):\n",
    "            if i==j:\n",
    "                ld = ld + arr[i][j]\n",
    "    for i in range(n):\n",
    "        rd = rd + arr[i][n-i-1]\n",
    "    q = ld-rd\n",
    "    w = abs(q)\n",
    "    return w\n",
    "\n",
    "\n",
    "n = int(input())\n",
    "s = []\n",
    "for i in range(n):\n",
    "    li= list(map(int,input().split()))\n",
    "    s.append(li)\n",
    "diagonalsum(s)"
   ]
  },
  {
   "cell_type": "code",
   "execution_count": 5,
   "metadata": {},
   "outputs": [
    {
     "name": "stdout",
     "output_type": "stream",
     "text": [
      "2 4 5\n",
      "1 4 7\n",
      "1 1\n"
     ]
    }
   ],
   "source": [
    "list1 = list(map(int,input().split()))\n",
    "list2 = list(map(int,input().split()))\n",
    "n = len(list1)\n",
    "a = [0,0]\n",
    "for i in range(n):\n",
    "    if (list1[i]>list2[i]):\n",
    "        a[0] = a[0] + 1 \n",
    "    elif (list1[i]<list2[i]):\n",
    "        a[1] = a[1] + 1\n",
    "    else:\n",
    "        continue\n",
    "s = str(a)[1:-1]\n",
    "r = s.replace(\",\",\"\")\n",
    "print(r)"
   ]
  },
  {
   "cell_type": "code",
   "execution_count": 6,
   "metadata": {},
   "outputs": [
    {
     "name": "stdout",
     "output_type": "stream",
     "text": [
      "2100\n",
      "True\n"
     ]
    }
   ],
   "source": [
    "def is_leap(year):\n",
    "    if (year%4==0):\n",
    "        return True\n",
    "    else:\n",
    "        return False\n",
    "    \n",
    "\n",
    "year = int(input())\n",
    "print(is_leap(year))"
   ]
  },
  {
   "cell_type": "code",
   "execution_count": 11,
   "metadata": {},
   "outputs": [
    {
     "name": "stdout",
     "output_type": "stream",
     "text": [
      "1 2\n",
      "3 4\n",
      "4.00 + 6.00i\n"
     ]
    }
   ],
   "source": [
    "def add(x,y,c,d):\n",
    "    q = \"%.2f\"%float(x+c)\n",
    "    w = \"%.2f\"%float(y+d)\n",
    "    print(\"{} + {}i\".format(q,w))\n",
    "     \n",
    "\n",
    "a = input().split()\n",
    "x,y = int(a[0]),int(a[1])\n",
    "b = input().split()\n",
    "c,d = int(b[0]),int(b[1])\n",
    "add(x,y,c,d)\n",
    "subtract(x,y,c,d)\n",
    "multiply(x,y,c,d)\n",
    "divide(x,y,c,d)"
   ]
  },
  {
   "cell_type": "code",
   "execution_count": 9,
   "metadata": {},
   "outputs": [
    {
     "data": {
      "text/plain": [
       "2.0"
      ]
     },
     "execution_count": 9,
     "metadata": {},
     "output_type": "execute_result"
    }
   ],
   "source": [
    "float(2)"
   ]
  },
  {
   "cell_type": "code",
   "execution_count": 11,
   "metadata": {},
   "outputs": [
    {
     "name": "stdout",
     "output_type": "stream",
     "text": [
      "12\n",
      "insert 0 5\n",
      "insert 1 10\n",
      "insert 0 6\n",
      "print\n",
      "[6, 5, 10]\n",
      "remove 6\n",
      "append 9\n",
      "append 1\n",
      "sort\n",
      "print\n",
      "[1, 5, 9, 10]\n",
      "pop\n",
      "reverse\n",
      "print\n",
      "[9, 5, 1]\n"
     ]
    }
   ],
   "source": [
    "def listop(a,s):\n",
    "    if (s[0]==\"insert\"):\n",
    "        b = int(s[1])\n",
    "        c = int(s[2])\n",
    "        a.insert(b,c)\n",
    "    elif (s[0]==\"append\"):\n",
    "        c = int(s[1])\n",
    "        a.append(c)\n",
    "    elif (s[0]==\"remove\"):\n",
    "        c = int(s[1])\n",
    "        a.remove(c)\n",
    "    elif (s[0]==\"reverse\"):\n",
    "        a.reverse()\n",
    "    elif (s[0]==\"pop\"):\n",
    "        a.pop(-1)\n",
    "    elif (s[0]==\"sort\"):\n",
    "        a.sort()\n",
    "    elif (s[0]==\"print\"):\n",
    "        print(a)\n",
    "    \n",
    "\n",
    "n = int(input())\n",
    "a = []\n",
    "for i in range(n):\n",
    "    s = list(map(str,input().split()))\n",
    "    listop(a,s)"
   ]
  },
  {
   "cell_type": "code",
   "execution_count": 8,
   "metadata": {},
   "outputs": [
    {
     "data": {
      "text/plain": [
       "[3, 2, 7]"
      ]
     },
     "execution_count": 8,
     "metadata": {},
     "output_type": "execute_result"
    }
   ],
   "source": [
    "a = []\n",
    "a.insert(0,2)\n",
    "a.insert(0,3)\n",
    "b = 6\n",
    "c = 7\n",
    "a.insert(b,c)\n",
    "a"
   ]
  },
  {
   "cell_type": "code",
   "execution_count": 12,
   "metadata": {},
   "outputs": [
    {
     "name": "stdout",
     "output_type": "stream",
     "text": [
      "3181564620416\n"
     ]
    }
   ],
   "source": [
    "a = [1,2,3,4]\n",
    "b = a.append(4)\n",
    "print(id(a))"
   ]
  },
  {
   "cell_type": "code",
   "execution_count": 13,
   "metadata": {
    "scrolled": true
   },
   "outputs": [
    {
     "name": "stdout",
     "output_type": "stream",
     "text": [
      "4\n",
      "qw\n",
      "23.4\n",
      "wqe\n",
      "45.7\n",
      "ewer\n",
      "656.7\n",
      "sds\n",
      "23.4\n",
      "[['qw', 23.4], ['wqe', 45.7], ['ewer', 656.7], ['sds', 23.4]]\n"
     ]
    }
   ],
   "source": [
    "t = int(input())\n",
    "z = []\n",
    "n = []\n",
    "for i in range(t):\n",
    "    x = []\n",
    "    a = input()\n",
    "    x.append(a)\n",
    "    b = float(input())\n",
    "    x.append(b)\n",
    "    n.append(b)\n",
    "    z.append(x)\n",
    "q = min(n)\n",
    "n = [i for i in n if i != q]\n",
    "for i in range(t):\n",
    "    if (z[i][1]==q):\n",
    "        z.remove(z[i])\n",
    "w = min(n)\n",
    "z.sort()\n",
    "for i in range(t):\n",
    "    if (z[i][1]==w):\n",
    "        print(z[i][0])"
   ]
  },
  {
   "cell_type": "code",
   "execution_count": 2,
   "metadata": {},
   "outputs": [
    {
     "data": {
      "text/plain": [
       "[2, 3, 4, 4, 5, 6, 7, 8, 1]"
      ]
     },
     "execution_count": 2,
     "metadata": {},
     "output_type": "execute_result"
    }
   ],
   "source": [
    "a= [1,2,3,4,4,5,6,7,8,1]\n",
    "a.remove(min(a))\n",
    "a"
   ]
  },
  {
   "cell_type": "code",
   "execution_count": 17,
   "metadata": {},
   "outputs": [
    {
     "name": "stdout",
     "output_type": "stream",
     "text": [
      "656.7\n",
      "4\n"
     ]
    }
   ],
   "source": [
    "z= [['qw', 23.4], ['wqe', 45.7], ['ewer', 656.7], ['sds', 23.4]]\n",
    "print(z[-1::-1])\n",
    "print(len(z))"
   ]
  },
  {
   "cell_type": "code",
   "execution_count": 12,
   "metadata": {},
   "outputs": [
    {
     "name": "stdout",
     "output_type": "stream",
     "text": [
      "21 63\n",
      "------------------------------.|.------------------------------\n",
      "---------------------------.|..|..|.---------------------------\n",
      "------------------------.|..|..|..|..|.------------------------\n",
      "---------------------.|..|..|..|..|..|..|.---------------------\n",
      "------------------.|..|..|..|..|..|..|..|..|.------------------\n",
      "---------------.|..|..|..|..|..|..|..|..|..|..|.---------------\n",
      "------------.|..|..|..|..|..|..|..|..|..|..|..|..|.------------\n",
      "---------.|..|..|..|..|..|..|..|..|..|..|..|..|..|..|.---------\n",
      "------.|..|..|..|..|..|..|..|..|..|..|..|..|..|..|..|..|.------\n",
      "---.|..|..|..|..|..|..|..|..|..|..|..|..|..|..|..|..|..|..|.---\n",
      "----------------------------WELCOME----------------------------\n",
      "---.|..|..|..|..|..|..|..|..|..|..|..|..|..|..|..|..|..|..|.---\n",
      "------.|..|..|..|..|..|..|..|..|..|..|..|..|..|..|..|..|.------\n",
      "---------.|..|..|..|..|..|..|..|..|..|..|..|..|..|..|.---------\n",
      "------------.|..|..|..|..|..|..|..|..|..|..|..|..|.------------\n",
      "---------------.|..|..|..|..|..|..|..|..|..|..|.---------------\n",
      "------------------.|..|..|..|..|..|..|..|..|.------------------\n",
      "---------------------.|..|..|..|..|..|..|.---------------------\n",
      "------------------------.|..|..|..|..|.------------------------\n",
      "---------------------------.|..|..|.---------------------------\n",
      "------------------------------.|.------------------------------\n"
     ]
    }
   ],
   "source": [
    "q = input().split()\n",
    "n = int(q[0])\n",
    "m = int(q[1])\n",
    "x = n//2\n",
    "y = m//2-1\n",
    "d = (m-7)//2\n",
    "for i in range(x):\n",
    "    for j in range(y-(3*i)):\n",
    "        print('-',end=\"\")\n",
    "    for k in range(i):\n",
    "        print('.|.',end=\"\")\n",
    "    for s in range(i+1):\n",
    "        print('.|.',end=\"\")\n",
    "    for z in range(y-(3*i),0,-1):\n",
    "        print('-',end=\"\")\n",
    "    print()\n",
    "for h in range(1):\n",
    "    for e in range(d):\n",
    "        print('-',end=\"\")\n",
    "    for i in range(1):\n",
    "        print(\"WELCOME\",end=\"\")\n",
    "    for l in range(d):\n",
    "        print('-',end=\"\")\n",
    "    print()\n",
    "for i in range(x):\n",
    "    for j in range(3*(i+1)):\n",
    "        print('-',end=\"\")\n",
    "    for k in range(x-i-1):\n",
    "        print('.|.',end=\"\")\n",
    "    for w in range(x-i):\n",
    "        print('.|.',end=\"\")\n",
    "    for u in range(3*(i+1)):\n",
    "        print('-',end=\"\")\n",
    "    print()"
   ]
  },
  {
   "cell_type": "code",
   "execution_count": 11,
   "metadata": {},
   "outputs": [
    {
     "name": "stdout",
     "output_type": "stream",
     "text": [
      "8\n",
      "       ¤       \n",
      "      ¤¤¤      \n",
      "     ¤¤¤¤¤     \n",
      "    ¤¤¤¤¤¤¤    \n",
      "   ¤¤¤¤¤¤¤¤¤   \n",
      "  ¤¤¤¤¤¤¤¤¤¤¤  \n",
      " ¤¤¤¤¤¤¤¤¤¤¤¤¤ \n",
      "¤¤¤¤¤¤¤¤¤¤¤¤¤¤¤\n",
      "    ¤¤¤¤¤¤¤¤                        ¤¤¤¤¤¤¤¤                    \n",
      "    ¤¤¤¤¤¤¤¤                        ¤¤¤¤¤¤¤¤                    \n",
      "    ¤¤¤¤¤¤¤¤                        ¤¤¤¤¤¤¤¤                    \n",
      "    ¤¤¤¤¤¤¤¤                        ¤¤¤¤¤¤¤¤                    \n",
      "    ¤¤¤¤¤¤¤¤                        ¤¤¤¤¤¤¤¤                    \n",
      "    ¤¤¤¤¤¤¤¤                        ¤¤¤¤¤¤¤¤                    \n",
      "    ¤¤¤¤¤¤¤¤                        ¤¤¤¤¤¤¤¤                    \n",
      "    ¤¤¤¤¤¤¤¤                        ¤¤¤¤¤¤¤¤                    \n",
      "    ¤¤¤¤¤¤¤¤                        ¤¤¤¤¤¤¤¤                    \n",
      "    ¤¤¤¤¤¤¤¤¤¤¤¤¤¤¤¤¤¤¤¤¤¤¤¤¤¤¤¤¤¤¤¤¤¤¤¤¤¤¤¤    \n",
      "    ¤¤¤¤¤¤¤¤¤¤¤¤¤¤¤¤¤¤¤¤¤¤¤¤¤¤¤¤¤¤¤¤¤¤¤¤¤¤¤¤    \n",
      "    ¤¤¤¤¤¤¤¤¤¤¤¤¤¤¤¤¤¤¤¤¤¤¤¤¤¤¤¤¤¤¤¤¤¤¤¤¤¤¤¤    \n",
      "    ¤¤¤¤¤¤¤¤¤¤¤¤¤¤¤¤¤¤¤¤¤¤¤¤¤¤¤¤¤¤¤¤¤¤¤¤¤¤¤¤    \n",
      "    ¤¤¤¤¤¤¤¤                        ¤¤¤¤¤¤¤¤                    \n",
      "    ¤¤¤¤¤¤¤¤                        ¤¤¤¤¤¤¤¤                    \n",
      "    ¤¤¤¤¤¤¤¤                        ¤¤¤¤¤¤¤¤                    \n",
      "    ¤¤¤¤¤¤¤¤                        ¤¤¤¤¤¤¤¤                    \n",
      "    ¤¤¤¤¤¤¤¤                        ¤¤¤¤¤¤¤¤                    \n",
      "    ¤¤¤¤¤¤¤¤                        ¤¤¤¤¤¤¤¤                    \n",
      "    ¤¤¤¤¤¤¤¤                        ¤¤¤¤¤¤¤¤                    \n",
      "    ¤¤¤¤¤¤¤¤                        ¤¤¤¤¤¤¤¤                    \n",
      "    ¤¤¤¤¤¤¤¤                        ¤¤¤¤¤¤¤¤                    \n",
      "                                ¤¤¤¤¤¤¤¤¤¤¤¤¤¤¤ \n",
      "                                 ¤¤¤¤¤¤¤¤¤¤¤¤¤  \n",
      "                                  ¤¤¤¤¤¤¤¤¤¤¤   \n",
      "                                   ¤¤¤¤¤¤¤¤¤    \n",
      "                                    ¤¤¤¤¤¤¤     \n",
      "                                     ¤¤¤¤¤      \n",
      "                                      ¤¤¤       \n",
      "                                       ¤        \n"
     ]
    }
   ],
   "source": [
    "thickness = int(input()) #This must be an odd number\n",
    "c = '¤'\n",
    "\n",
    "#Top Cone\n",
    "for i in range(thickness):\n",
    "    print((c*i).rjust(thickness-1)+c+(c*i).ljust(thickness-1))\n",
    "\n",
    "#Top Pillars\n",
    "for i in range(thickness+1):\n",
    "    print((c*thickness).center(thickness*2)+(c*thickness).center(thickness*6))\n",
    "\n",
    "#Middle Belt\n",
    "for i in range((thickness+1)//2):\n",
    "    print((c*thickness*5).center(thickness*6))    \n",
    "\n",
    "#Bottom Pillars\n",
    "for i in range(thickness+1):\n",
    "    print((c*thickness).center(thickness*2)+(c*thickness).center(thickness*6))    \n",
    "\n",
    "#Bottom Cone\n",
    "for i in range(thickness):\n",
    "    print(((c*(thickness-i-1)).rjust(thickness)+c+(c*(thickness-i-1)).ljust(thickness)).rjust(thickness*6))"
   ]
  },
  {
   "cell_type": "code",
   "execution_count": 19,
   "metadata": {},
   "outputs": [
    {
     "name": "stdout",
     "output_type": "stream",
     "text": [
      "Ddfsdfsdfsdj\n"
     ]
    }
   ],
   "source": [
    "s = 'dfsdfsdfsdj'\n",
    "a = s[0]\n",
    "s.replace(s[0],'')\n",
    "w = a.swapcase() + s\n",
    "print(w)"
   ]
  },
  {
   "cell_type": "code",
   "execution_count": 26,
   "metadata": {},
   "outputs": [
    {
     "name": "stdout",
     "output_type": "stream",
     "text": [
      "5\n",
      "1\n",
      "22\n",
      "333\n",
      "4444\n"
     ]
    }
   ],
   "source": [
    "for i in range(1,int(input())):\n",
    "    print(i*(10**i//9))"
   ]
  },
  {
   "cell_type": "code",
   "execution_count": 27,
   "metadata": {},
   "outputs": [
    {
     "name": "stdout",
     "output_type": "stream",
     "text": [
      "3\n",
      "----c----\n",
      "--c-b-c--\n",
      "c-b-a-b-c\n",
      "--c-b-c--\n",
      "----c----\n"
     ]
    }
   ],
   "source": [
    "# Alphabet Rangoli in Python - HackerRank Solution\n",
    "def print_rangoli(size):\n",
    "    # your code goes here\n",
    "    # Alphabet Rangoli in Python - HackerRank Solution START\n",
    "    width  = size*4-3\n",
    "    string = ''\n",
    "\n",
    "    for i in range(1,size+1):\n",
    "        for j in range(0,i):\n",
    "            string += chr(96+size-j)\n",
    "            if len(string) < width :\n",
    "                string += '-'\n",
    "        for k in range(i-1,0,-1):    \n",
    "            string += chr(97+size-k)\n",
    "            if len(string) < width :\n",
    "                string += '-'\n",
    "        print(string.center(width,'-'))\n",
    "        string = ''\n",
    "\n",
    "    for i in range(size-1,0,-1):\n",
    "        string = ''\n",
    "        for j in range(0,i):\n",
    "            string += chr(96+size-j)\n",
    "            if len(string) < width :\n",
    "                string += '-'\n",
    "        for k in range(i-1,0,-1):\n",
    "            string += chr(97+size-k)\n",
    "            if len(string) < width :\n",
    "                string += '-'\n",
    "        print(string.center(width,'-'))\n",
    "\n",
    "if __name__ == '__main__':\n",
    "    n = int(input())\n",
    "    print_rangoli(n)"
   ]
  },
  {
   "cell_type": "code",
   "execution_count": 40,
   "metadata": {},
   "outputs": [
    {
     "name": "stdout",
     "output_type": "stream",
     "text": [
      "3\n",
      "----c----\n",
      "--c-b-c--\n",
      "c-b-a-b-c\n"
     ]
    }
   ],
   "source": [
    "size = int(input())\n",
    "width  = size*4-3\n",
    "string = ''\n",
    "for i in range(1,size+1):\n",
    "        for j in range(0,i):\n",
    "            string += chr(96+size-j)\n",
    "            if len(string) < width :\n",
    "                string += '-'\n",
    "        for k in range(i-1,0,-1):    \n",
    "            string += chr(97+size-k)\n",
    "            if len(string) < width :\n",
    "                string += '-'\n",
    "        print(string.center(width,'-'))\n",
    "        string = ''"
   ]
  },
  {
   "cell_type": "code",
   "execution_count": 6,
   "metadata": {},
   "outputs": [
    {
     "name": "stdout",
     "output_type": "stream",
     "text": [
      "hello world\n",
      "Hello World\n",
      "['hello', 'world']\n"
     ]
    }
   ],
   "source": [
    "\n",
    "def solve(s):\n",
    "    for i in s.split():\n",
    "        s = s.replace(i,i.capitalize())\n",
    "    return s      \n",
    "\n",
    "if __name__ == '__main__':\n",
    "\n",
    "    s = input()\n",
    "\n",
    "    result = solve(s)\n",
    "    print(result)\n",
    "    print(s.split())"
   ]
  },
  {
   "cell_type": "code",
   "execution_count": 28,
   "metadata": {},
   "outputs": [
    {
     "name": "stdout",
     "output_type": "stream",
     "text": [
      "10\n",
      "2 3 4 5 6 8 7 6 5 18\n",
      "6\n",
      "6 55\n",
      "6 45\n",
      "6 55\n",
      "4 40\n",
      "18 60\n",
      "10 50\n",
      "200\n"
     ]
    }
   ],
   "source": [
    "n = int(input())\n",
    "li = list(map(int,input().split()))\n",
    "x = int(input())\n",
    "a = []\n",
    "q = 0\n",
    "w = []\n",
    "for i in range(x):\n",
    "    d = list(map(int,input().split()))\n",
    "    w.append(d[0])\n",
    "    a.append(d)\n",
    "for i in range(x):\n",
    "    for j in range(n):\n",
    "        if (w[i]==li[j]):\n",
    "            q += a[i][1]\n",
    "            li.remove(li[j])\n",
    "            li.insert(j,0)\n",
    "            break\n",
    "        else:\n",
    "            continue\n",
    "print(q)\n",
    "#10\n",
    "#2 3 4 5 6 8 7 6 5 18\n",
    "#6\n",
    "#6 55\n",
    "#6 45\n",
    "#6 55\n",
    "#4 40\n",
    "#18 60\n",
    "#10 50"
   ]
  },
  {
   "cell_type": "code",
   "execution_count": 29,
   "metadata": {},
   "outputs": [
    {
     "name": "stdout",
     "output_type": "stream",
     "text": [
      "hack 2\n",
      "ac\n",
      "ah\n",
      "ak\n",
      "ca\n",
      "ch\n",
      "ck\n",
      "ha\n",
      "hc\n",
      "hk\n",
      "ka\n",
      "kc\n",
      "kh\n"
     ]
    }
   ],
   "source": [
    "from itertools import permutations\n",
    "\n",
    "def combine(d):\n",
    "    q = []\n",
    "    for i in range(len(d)):\n",
    "        s = ''\n",
    "        for j in range(len(d[i])):\n",
    "            s += d[i][j]\n",
    "        q.append(s)\n",
    "        s = ''\n",
    "    return q\n",
    "\n",
    "li = input().split()\n",
    "a = str(li[0])\n",
    "b = int(li[1])\n",
    "d = list(permutations(a,b))\n",
    "w = combine(d)\n",
    "w.sort()\n",
    "for i in range(len(w)):\n",
    "    print(w[i])\n"
   ]
  },
  {
   "cell_type": "code",
   "execution_count": 32,
   "metadata": {},
   "outputs": [
    {
     "name": "stdout",
     "output_type": "stream",
     "text": [
      "hack 2\n",
      "a\n",
      "c\n",
      "h\n",
      "k\n",
      "ac\n",
      "ah\n",
      "ak\n",
      "ch\n",
      "ck\n",
      "hk\n"
     ]
    }
   ],
   "source": [
    "from itertools import combinations\n",
    "def combine(d):\n",
    "    q = []\n",
    "    for i in range(len(d)):\n",
    "        s = ''\n",
    "        for j in range(len(d[i])):\n",
    "            s += d[i][j]\n",
    "        r = ''.join(sorted(s))\n",
    "        q.append(r)\n",
    "        s = ''\n",
    "    return q\n",
    "li = input().split()\n",
    "a = str(li[0])\n",
    "b = int(li[1])\n",
    "for i in range(1,b+1):\n",
    "    d = list(combinations(a,i))\n",
    "    w = combine(d)\n",
    "    w.sort()\n",
    "    for i in range(len(w)):\n",
    "        print(w[i])"
   ]
  },
  {
   "cell_type": "code",
   "execution_count": 21,
   "metadata": {},
   "outputs": [
    {
     "name": "stdout",
     "output_type": "stream",
     "text": [
      "1222311\n",
      "(1, 1) (3, 2) (1, 3) (2, 1) "
     ]
    }
   ],
   "source": [
    "a = input()\n",
    "a +=' ' \n",
    "count = 1\n",
    "b = []\n",
    "for i in range(len(a)-1):\n",
    "    if (a[i] == a[i+1]):\n",
    "        count += 1\n",
    "    else:\n",
    "        q = []\n",
    "        q.append(count)\n",
    "        q.append(int(a[i]))\n",
    "        b.append(q)\n",
    "        count = 1     \n",
    "for j in range(len(b)):\n",
    "    t = tuple(b[j])\n",
    "    print(t,end=\" \")"
   ]
  },
  {
   "cell_type": "code",
   "execution_count": 30,
   "metadata": {},
   "outputs": [
    {
     "name": "stdout",
     "output_type": "stream",
     "text": [
      "4\n",
      "a a c d\n",
      "2\n",
      "0.8333333333333334\n"
     ]
    }
   ],
   "source": [
    "from itertools import combinations\n",
    "n = int(input())\n",
    "a = list(map(str,input().split()))\n",
    "b = int(input())\n",
    "d = list(combinations(a,b))\n",
    "count = 0\n",
    "for i in range(len(d)):\n",
    "    for j in range(len(d[i])):\n",
    "        if (d[i][j]=='a'):\n",
    "            count += 1\n",
    "            break\n",
    "z = count / len(d)          \n",
    "print(z)"
   ]
  },
  {
   "cell_type": "code",
   "execution_count": 32,
   "metadata": {},
   "outputs": [
    {
     "name": "stdout",
     "output_type": "stream",
     "text": [
      "7 671\n",
      "7 5678403 6770488 5713245 6503478 7774748 5900452 531896\n",
      "7 7728332 501199 9141815 7341382 7238970 8282671 3037527\n",
      "7 7763981 7041667 3521352 9616160 7322888 5685405 6017382\n",
      "7 7278231 1143649 6460915 8159948 2436146 1238439 9869216\n",
      "7 1422820 9424407 4982886 7101222 8711246 696130 6121051\n",
      "7 6485993 6596581 9169298 4214325 7097779 827465 4072058\n",
      "7 6853100 9110135 9625936 7133432 8668153 5663640 6749591\n",
      "53 599445562548534 [7774748, 9141815, 9616160, 9869216, 9424407, 9169298, 9625936]\n"
     ]
    }
   ],
   "source": [
    "n = input().split()\n",
    "a = int(n[0])\n",
    "b = int(n[1])\n",
    "c = []\n",
    "d = 0\n",
    "for i in range(a):\n",
    "    l = list(map(int,input().split()))\n",
    "    s = max(l)\n",
    "    c.append(s)\n",
    "for i in range(len(c)):\n",
    "    d += c[i]**2\n",
    "z = d%b\n",
    "print(z,d,c)"
   ]
  },
  {
   "cell_type": "code",
   "execution_count": null,
   "metadata": {},
   "outputs": [],
   "source": [
    "7 671\n",
    "7 5678403 6770488 5713245 6503478 7774748 5900452 531896\n",
    "7 7728332 501199 9141815 7341382 7238970 8282671 3037527\n",
    "7 7763981 7041667 3521352 9616160 7322888 5685405 6017382\n",
    "7 7278231 1143649 6460915 8159948 2436146 1238439 9869216\n",
    "7 1422820 9424407 4982886 7101222 8711246 696130 6121051\n",
    "7 6485993 6596581 9169298 4214325 7097779 827465 4072058\n",
    "7 6853100 9110135 9625936 7133432 8668153 5663640 6749591\n",
    "\n",
    "\n",
    "7 30\n",
    "7 9779452 9765542 655947 1723513 2971621 8877873 2966358\n",
    "7 8145469 1353512 1281184 109565 3664593 1640246 9278876\n",
    "7 9827710 3662985 7495190 2182272 6098990 6098507 4039244\n",
    "7 148430 4766904 8240955 4635392 5198980 4302681 7631850\n",
    "7 7964390 9737228 8692231 260193 9502769 9348177 4500058\n",
    "7 4990741 8226050 9982767 3136209 2095913 3780303 3245773\n",
    "7 5760505 5420548 2524648 8104566 9083532 2536189 2803190"
   ]
  },
  {
   "cell_type": "code",
   "execution_count": 33,
   "metadata": {},
   "outputs": [
    {
     "data": {
      "text/plain": [
       "53"
      ]
     },
     "execution_count": 33,
     "metadata": {},
     "output_type": "execute_result"
    }
   ],
   "source": [
    "599445562548534%671"
   ]
  },
  {
   "cell_type": "code",
   "execution_count": 36,
   "metadata": {},
   "outputs": [
    {
     "name": "stdout",
     "output_type": "stream",
     "text": [
      "3 1000\n",
      "2 5 4\n",
      "3 7 8 9\n",
      "5 5 7 8 9 10\n",
      "206\n"
     ]
    }
   ],
   "source": [
    "def cal(c,g,b):\n",
    "    q = []\n",
    "    for i in range(len(c)):\n",
    "        r = len(c[i])\n",
    "        q.append(r)\n",
    "    e = min(q)\n",
    "    d = 0\n",
    "    a = []\n",
    "    for j in range(e):\n",
    "        for i in range(len(c)):\n",
    "            s = max(c[i])\n",
    "            d += s**2\n",
    "            c[i].remove(s)\n",
    "        x = d % b\n",
    "        a.append(x)\n",
    "        d = 0\n",
    "    v = max(a)\n",
    "    return v\n",
    "    \n",
    "n = input().split()\n",
    "a = int(n[0])\n",
    "b = int(n[1])\n",
    "c = []\n",
    "for i in range(a):\n",
    "    l = list(map(int,input().split()))\n",
    "    c.append(l)\n",
    "z = cal(c,a,b)\n",
    "print(z)"
   ]
  },
  {
   "cell_type": "code",
   "execution_count": 3,
   "metadata": {},
   "outputs": [
    {
     "ename": "TypeError",
     "evalue": "'start' is an invalid keyword argument for print()",
     "output_type": "error",
     "traceback": [
      "\u001b[1;31m---------------------------------------------------------------------------\u001b[0m",
      "\u001b[1;31mTypeError\u001b[0m                                 Traceback (most recent call last)",
      "\u001b[1;32m<ipython-input-3-255e82eccdab>\u001b[0m in \u001b[0;36m<module>\u001b[1;34m\u001b[0m\n\u001b[1;32m----> 1\u001b[1;33m \u001b[0mprint\u001b[0m\u001b[1;33m(\u001b[0m\u001b[1;34m'a'\u001b[0m\u001b[1;33m,\u001b[0m\u001b[0mstart\u001b[0m\u001b[1;33m=\u001b[0m\u001b[1;34m\"qwe\"\u001b[0m\u001b[1;33m)\u001b[0m\u001b[1;33m\u001b[0m\u001b[1;33m\u001b[0m\u001b[0m\n\u001b[0m",
      "\u001b[1;31mTypeError\u001b[0m: 'start' is an invalid keyword argument for print()"
     ]
    }
   ],
   "source": []
  },
  {
   "cell_type": "code",
   "execution_count": null,
   "metadata": {},
   "outputs": [],
   "source": []
  }
 ],
 "metadata": {
  "kernelspec": {
   "display_name": "Python 3",
   "language": "python",
   "name": "python3"
  },
  "language_info": {
   "codemirror_mode": {
    "name": "ipython",
    "version": 3
   },
   "file_extension": ".py",
   "mimetype": "text/x-python",
   "name": "python",
   "nbconvert_exporter": "python",
   "pygments_lexer": "ipython3",
   "version": "3.8.3"
  }
 },
 "nbformat": 4,
 "nbformat_minor": 4
}
