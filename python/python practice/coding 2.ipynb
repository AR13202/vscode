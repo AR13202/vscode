{
 "cells": [
  {
   "cell_type": "code",
   "execution_count": 1,
   "metadata": {},
   "outputs": [
    {
     "name": "stdout",
     "output_type": "stream",
     "text": [
      "Triplet is 4 ,  10 ,  8\n"
     ]
    },
    {
     "data": {
      "text/plain": [
       "True"
      ]
     },
     "execution_count": 1,
     "metadata": {},
     "output_type": "execute_result"
    }
   ],
   "source": [
    "\n",
    "# Python3 program to find a triplet  \n",
    "# that sum to a given value \n",
    "  \n",
    "# returns true if there is triplet with \n",
    "# sum equal to 'sum' present in A[].  \n",
    "# Also, prints the triplet \n",
    "def find3Numbers(A, arr_size, sum): \n",
    "  \n",
    "    # Fix the first element as A[i] \n",
    "    for i in range( 0, arr_size-2): \n",
    "  \n",
    "        # Fix the second element as A[j] \n",
    "        for j in range(i + 1, arr_size-1):  \n",
    "              \n",
    "            # Now look for the third number \n",
    "            for k in range(j + 1, arr_size): \n",
    "                if A[i] + A[j] + A[k] == sum: \n",
    "                    print(\"Triplet is\", A[i], \n",
    "                          \", \", A[j], \", \", A[k]) \n",
    "                    return True\n",
    "      \n",
    "    # If we reach here, then no  \n",
    "    # triplet was found \n",
    "    return False\n",
    "  \n",
    "# Driver program to test above function  \n",
    "A = [1, 4, 45, 6, 10, 8] \n",
    "sum = 22\n",
    "arr_size = len(A) \n",
    "find3Numbers(A, arr_size, sum) \n",
    "  \n",
    "# This code is contributed by Smitha Dinesh Semwal "
   ]
  },
  {
   "cell_type": "code",
   "execution_count": null,
   "metadata": {},
   "outputs": [],
   "source": [
    "def find3Numbers(A, arr_size, sum): \n",
    "  \n",
    "    # Fix the first element as A[i] \n",
    "    for i in range( 0, arr_size-2): \n",
    "  \n",
    "        # Fix the second element as A[j] \n",
    "        for j in range(i + 1, arr_size-1):  \n",
    "              \n",
    "            # Now look for the third number \n",
    "            for k in range(j + 1, arr_size): \n",
    "                if A[i] + A[j] + A[k] == sum: \n",
    "                    print(\"Triplet is\", A[i],\", \", A[j], \", \", A[k]) \n",
    "\n"
   ]
  },
  {
   "cell_type": "code",
   "execution_count": 2,
   "metadata": {},
   "outputs": [
    {
     "name": "stdout",
     "output_type": "stream",
     "text": [
      "45\n"
     ]
    }
   ],
   "source": [
    "# Python program to find second largest\n",
    "# number in a list\n",
    " \n",
    "# list of numbers\n",
    "list1 = [10, 20, 4, 45, 99]\n",
    " \n",
    "# new_list is a set of list1\n",
    "new_list = set(list1)\n",
    " \n",
    "# removing the largest element from temp list\n",
    "new_list.remove(max(new_list))\n",
    " \n",
    "# elements in original list are not changed\n",
    "# print(list1)\n",
    " \n",
    "print(max(new_list))"
   ]
  },
  {
   "cell_type": "code",
   "execution_count": 6,
   "metadata": {},
   "outputs": [
    {
     "name": "stdout",
     "output_type": "stream",
     "text": [
      "1\n",
      "0\n",
      "\n"
     ]
    },
    {
     "ename": "ValueError",
     "evalue": "max() arg is an empty sequence",
     "output_type": "error",
     "traceback": [
      "\u001b[1;31m---------------------------------------------------------------------------\u001b[0m",
      "\u001b[1;31mValueError\u001b[0m                                Traceback (most recent call last)",
      "\u001b[1;32m<ipython-input-6-508f171d8896>\u001b[0m in \u001b[0;36m<module>\u001b[1;34m\u001b[0m\n\u001b[0;32m      4\u001b[0m     \u001b[0mlist1\u001b[0m \u001b[1;33m=\u001b[0m \u001b[0mlist\u001b[0m\u001b[1;33m(\u001b[0m\u001b[0mmap\u001b[0m\u001b[1;33m(\u001b[0m\u001b[0mint\u001b[0m\u001b[1;33m,\u001b[0m\u001b[0minput\u001b[0m\u001b[1;33m(\u001b[0m\u001b[1;33m)\u001b[0m\u001b[1;33m.\u001b[0m\u001b[0msplit\u001b[0m\u001b[1;33m(\u001b[0m\u001b[1;33m)\u001b[0m\u001b[1;33m)\u001b[0m\u001b[1;33m)\u001b[0m\u001b[1;33m\u001b[0m\u001b[1;33m\u001b[0m\u001b[0m\n\u001b[0;32m      5\u001b[0m     \u001b[0mnew_list\u001b[0m \u001b[1;33m=\u001b[0m \u001b[0mset\u001b[0m\u001b[1;33m(\u001b[0m\u001b[0mlist1\u001b[0m\u001b[1;33m)\u001b[0m\u001b[1;33m\u001b[0m\u001b[1;33m\u001b[0m\u001b[0m\n\u001b[1;32m----> 6\u001b[1;33m     \u001b[0mnew_list\u001b[0m\u001b[1;33m.\u001b[0m\u001b[0mremove\u001b[0m\u001b[1;33m(\u001b[0m\u001b[0mmax\u001b[0m\u001b[1;33m(\u001b[0m\u001b[0mnew_list\u001b[0m\u001b[1;33m)\u001b[0m\u001b[1;33m)\u001b[0m\u001b[1;33m\u001b[0m\u001b[1;33m\u001b[0m\u001b[0m\n\u001b[0m\u001b[0;32m      7\u001b[0m     \u001b[0mprint\u001b[0m\u001b[1;33m(\u001b[0m\u001b[0mmax\u001b[0m\u001b[1;33m(\u001b[0m\u001b[0mnew_list\u001b[0m\u001b[1;33m)\u001b[0m\u001b[1;33m)\u001b[0m\u001b[1;33m\u001b[0m\u001b[1;33m\u001b[0m\u001b[0m\n",
      "\u001b[1;31mValueError\u001b[0m: max() arg is an empty sequence"
     ]
    }
   ],
   "source": [
    "n = int(input())\n",
    "for i in range(1,n+1):\n",
    "    a = int(input())\n",
    "    list1 = list(map(int,input().split()))\n",
    "    new_list = set(list1)\n",
    "    new_list.remove(max(new_list))\n",
    "    print(max(new_list))"
   ]
  },
  {
   "cell_type": "code",
   "execution_count": 7,
   "metadata": {},
   "outputs": [
    {
     "name": "stdout",
     "output_type": "stream",
     "text": [
      "0 0 0 0 0 1 1 1 1 1 2 2 "
     ]
    }
   ],
   "source": [
    "# Python implementation of the approach \n",
    "  \n",
    "# Utility function to print contents of an array \n",
    "def printArr(arr, n): \n",
    "    for i in range(n): \n",
    "        print(arr[i],end=\" \") \n",
    "  \n",
    "  \n",
    "# Function to sort the array of 0s, 1s and 2s \n",
    "def sortArr(arr, n): \n",
    "    cnt0 = 0\n",
    "    cnt1 = 0\n",
    "    cnt2 = 0\n",
    "      \n",
    "    # Count the number of 0s, 1s and 2s in the array \n",
    "    for i in range(n): \n",
    "        if arr[i] == 0: \n",
    "            cnt0+=1\n",
    "          \n",
    "        elif arr[i] == 1: \n",
    "            cnt1+=1\n",
    "              \n",
    "        elif arr[i] == 2: \n",
    "            cnt2+=1\n",
    "      \n",
    "    # Update the array \n",
    "    i = 0\n",
    "      \n",
    "    # Store all the 0s in the beginning \n",
    "    while (cnt0 > 0): \n",
    "        arr[i] = 0\n",
    "        i+=1\n",
    "        cnt0-=1\n",
    "      \n",
    "    # Then all the 1s \n",
    "    while (cnt1 > 0): \n",
    "        arr[i] = 1\n",
    "        i+=1\n",
    "        cnt1-=1\n",
    "      \n",
    "    # Finally all the 2s \n",
    "    while (cnt2 > 0): \n",
    "        arr[i] = 2\n",
    "        i+=1\n",
    "        cnt2-=1\n",
    "      \n",
    "    # Prthe sorted array \n",
    "    printArr(arr, n) \n",
    "  \n",
    "  \n",
    "# Driver code \n",
    "  \n",
    "arr = [0, 1, 1, 0, 1, 2, 1, 2, 0, 0, 0, 1] \n",
    "n = len(arr) \n",
    "  \n",
    "sortArr(arr, n) \n",
    "  \n",
    "#This code is contributed by shubhamsingh10"
   ]
  },
  {
   "cell_type": "code",
   "execution_count": 14,
   "metadata": {},
   "outputs": [
    {
     "name": "stdout",
     "output_type": "stream",
     "text": [
      "2\n",
      "6\n",
      "1 2 0 2 1 0\n",
      "0 0 1 1 2 2 \n",
      "5\n",
      "2 1 0 1 2\n",
      "0 1 1 2 2 \n"
     ]
    }
   ],
   "source": [
    "def printArr(arr, n): \n",
    "    for i in range(n): \n",
    "        print(arr[i],end=\" \") \n",
    "  \n",
    "   \n",
    "def sortArr(arr, n): \n",
    "    cnt0 = 0\n",
    "    cnt1 = 0\n",
    "    cnt2 = 0\n",
    "      \n",
    "    for i in range(n): \n",
    "        if arr[i] == 0: \n",
    "            cnt0+=1\n",
    "          \n",
    "        elif arr[i] == 1: \n",
    "            cnt1+=1\n",
    "              \n",
    "        elif arr[i] == 2: \n",
    "            cnt2+=1\n",
    "       \n",
    "    i = 0\n",
    "      \n",
    "    while (cnt0 > 0): \n",
    "        arr[i] = 0\n",
    "        i+=1\n",
    "        cnt0-=1\n",
    "       \n",
    "    while (cnt1 > 0): \n",
    "        arr[i] = 1\n",
    "        i+=1\n",
    "        cnt1-=1\n",
    "      \n",
    "\n",
    "    while (cnt2 > 0): \n",
    "        arr[i] = 2\n",
    "        i+=1\n",
    "        cnt2-=1\n",
    "      \n",
    "    printArr(arr, n) \n",
    "    \n",
    "n = int(input())\n",
    "for i in range(1,n+1):\n",
    "    a = int(input())\n",
    "    list1 = list(map(int,input().split()))\n",
    "    b = len(list1)\n",
    "    sortArr(list1, b)\n",
    "    print()"
   ]
  },
  {
   "cell_type": "code",
   "execution_count": 15,
   "metadata": {},
   "outputs": [
    {
     "name": "stdout",
     "output_type": "stream",
     "text": [
      "Array after pushing all zeros to end of array:\n",
      "[1, 9, 8, 4, 2, 7, 6, 9, 0, 0, 0, 0]\n"
     ]
    }
   ],
   "source": [
    "# Python3 code to move all zeroes \n",
    "# at the end of array \n",
    "  \n",
    "# Function which pushes all \n",
    "# zeros to end of an array. \n",
    "def pushZerosToEnd(arr, n): \n",
    "    count = 0 # Count of non-zero elements \n",
    "      \n",
    "    # Traverse the array. If element  \n",
    "    # encountered is non-zero, then \n",
    "    # replace the element at index \n",
    "    # 'count' with this element \n",
    "    for i in range(n): \n",
    "        if arr[i] != 0: \n",
    "              \n",
    "            # here count is incremented \n",
    "            arr[count] = arr[i] \n",
    "            count+=1\n",
    "      \n",
    "    # Now all non-zero elements have been \n",
    "    # shifted to front and 'count' is set \n",
    "    # as index of first 0. Make all  \n",
    "    # elements 0 from count to end. \n",
    "    while count < n: \n",
    "        arr[count] = 0\n",
    "        count += 1\n",
    "          \n",
    "# Driver code \n",
    "arr = [1, 9, 8, 4, 0, 0, 2, 7, 0, 6, 0, 9] \n",
    "n = len(arr) \n",
    "pushZerosToEnd(arr, n) \n",
    "print(\"Array after pushing all zeros to end of array:\") \n",
    "print(arr) \n",
    "  \n",
    "# This code is contributed by \"Abhishek Sharma 44\""
   ]
  },
  {
   "cell_type": "code",
   "execution_count": 17,
   "metadata": {},
   "outputs": [
    {
     "name": "stdout",
     "output_type": "stream",
     "text": [
      "2\n",
      "5\n",
      "0 0 5 8 3\n",
      "[5, 8, 3, 0, 0]\n",
      "7\n",
      "0 0 0 2 3 4 5 \n",
      "[2, 3, 4, 5, 0, 0, 0]\n"
     ]
    }
   ],
   "source": [
    "def pushZerosToEnd(arr, n): \n",
    "    count = 0 \n",
    "    for i in range(n): \n",
    "        if arr[i] != 0: \n",
    "\n",
    "            arr[count] = arr[i] \n",
    "            count+=1\n",
    "\n",
    "    while count < n: \n",
    "        arr[count] = 0\n",
    "        count += 1\n",
    "        \n",
    "n = int(input())\n",
    "for i in range(1, n+1):\n",
    "    a = int(input())\n",
    "    list1 = list(map(int,input().split()))\n",
    "    b = len(list1)\n",
    "    pushZerosToEnd(list1, b)\n",
    "    print(list1)"
   ]
  },
  {
   "cell_type": "code",
   "execution_count": 18,
   "metadata": {},
   "outputs": [
    {
     "name": "stdout",
     "output_type": "stream",
     "text": [
      "2\n",
      "7\n",
      "0 4 0 7 4 2 0\n",
      "4  7  4  2  0  0  0\n",
      "6\n",
      "2 0 3 0 4 4\n",
      "2  3  4  4  0  0\n"
     ]
    }
   ],
   "source": [
    "def pushZerosToEnd(arr, n): \n",
    "    count = 0 \n",
    "    for i in range(n): \n",
    "        if arr[i] != 0: \n",
    "\n",
    "            arr[count] = arr[i] \n",
    "            count+=1\n",
    "\n",
    "    while count < n: \n",
    "        arr[count] = 0\n",
    "        count += 1\n",
    "        \n",
    "n = int(input())\n",
    "for i in range(1, n+1):\n",
    "    a = int(input())\n",
    "    list1 = list(map(int,input().split()))\n",
    "    b = len(list1)\n",
    "    pushZerosToEnd(list1, b)\n",
    "    res = str(list1)[1:-1]\n",
    "    s = res.replace(',','')\n",
    "    print(s)"
   ]
  },
  {
   "cell_type": "code",
   "execution_count": 19,
   "metadata": {},
   "outputs": [
    {
     "name": "stdout",
     "output_type": "stream",
     "text": [
      "3 4 5 6 7 1 2 "
     ]
    }
   ],
   "source": [
    "def leftRotate(arr, d, n): \n",
    "    for i in range(d): \n",
    "        leftRotatebyOne(arr, n) \n",
    "\n",
    "def leftRotatebyOne(arr, n): \n",
    "    temp = arr[0] \n",
    "    for i in range(n-1): \n",
    "        arr[i] = arr[i+1] \n",
    "    arr[n-1] = temp \n",
    "          \n",
    "def printArray(arr,size): \n",
    "    for i in range(size): \n",
    "        print (\"%d\"% arr[i],end=\" \")\n",
    "        \n",
    "arr = [1, 2, 3, 4, 5, 6, 7] \n",
    "leftRotate(arr, 2, 7) \n",
    "printArray(arr, 7)"
   ]
  },
  {
   "cell_type": "code",
   "execution_count": 21,
   "metadata": {},
   "outputs": [
    {
     "name": "stdout",
     "output_type": "stream",
     "text": [
      "1\n",
      "7\n",
      "1 2 3 4 5 6 7\n",
      "2\n",
      "3 4 5 6 7 1 2 "
     ]
    }
   ],
   "source": [
    "def leftRotate(arr, d, n): \n",
    "    for i in range(d): \n",
    "        leftRotatebyOne(arr, n) \n",
    "\n",
    "def leftRotatebyOne(arr, n): \n",
    "    temp = arr[0] \n",
    "    for i in range(n-1): \n",
    "        arr[i] = arr[i+1] \n",
    "    arr[n-1] = temp \n",
    "          \n",
    "def printArray(arr,size): \n",
    "    for i in range(size): \n",
    "        print (\"%d\"% arr[i],end=\" \")\n",
    "        \n",
    "x = int(input())\n",
    "for i in range(1,x+1):\n",
    "    a = int(input())\n",
    "    arr = list(map(int,input().split()))\n",
    "    n = len(arr)\n",
    "    d = int(input())\n",
    "    leftRotate(arr, d, n) \n",
    "    printArray(arr, n)"
   ]
  },
  {
   "cell_type": "code",
   "execution_count": 22,
   "metadata": {},
   "outputs": [
    {
     "name": "stdout",
     "output_type": "stream",
     "text": [
      "\n",
      "Finding Sum of each row:\n",
      "\n",
      "Sum of the row 0 = 10.0\n",
      "Sum of the row 1 = 26.0\n",
      "Sum of the row 2 = 42.0\n",
      "Sum of the row 3 = 58.0\n",
      "\n",
      "Finding Sum of each column:\n",
      "\n",
      "Sum of the column 0 = 28.0\n",
      "Sum of the column 1 = 32.0\n",
      "Sum of the column 2 = 36.0\n",
      "Sum of the column 3 = 40.0\n"
     ]
    }
   ],
   "source": [
    "\n",
    "\n",
    "import numpy as np \n",
    "\n",
    "m , n = 4, 4        \n",
    "  \n",
    "def row_sum(arr) : \n",
    "  \n",
    "    sum = 0\n",
    "  \n",
    "    print(\"\\nFinding Sum of each row:\\n\") \n",
    "  \n",
    "\n",
    "    for i in range(4) : \n",
    "        for j in range(4) : \n",
    "  \n",
    " \n",
    "            sum += arr[i][j] \n",
    "  \n",
    "\n",
    "        print(\"Sum of the row\",i,\"=\",sum) \n",
    "  \n",
    " \n",
    "        sum = 0\n",
    "  \n",
    "  \n",
    "\n",
    "def column_sum(arr) : \n",
    "  \n",
    "    sum = 0\n",
    "  \n",
    "    print(\"\\nFinding Sum of each column:\\n\") \n",
    "  \n",
    "    \n",
    "    for i in range(4) : \n",
    "        for j in range(4) : \n",
    "\n",
    "      \n",
    "            sum += arr[j][i] \n",
    "  \n",
    "        \n",
    "        print(\"Sum of the column\",i,\"=\",sum) \n",
    "  \n",
    "   \n",
    "        sum = 0\n",
    "  \n",
    "          \n",
    "  \n",
    "    \n",
    "if __name__ == \"__main__\" : \n",
    "  \n",
    "    arr = np.zeros((4, 4)) \n",
    "  \n",
    "\n",
    "    x = 1\n",
    "      \n",
    "    for i in range(m) : \n",
    "        for j in range(n) : \n",
    "            arr[i][j] = x \n",
    "  \n",
    "            x += 1\n",
    "                  \n",
    "  \n",
    "    row_sum(arr) \n",
    "  \n",
    "  \n",
    "    column_sum(arr) \n"
   ]
  },
  {
   "cell_type": "code",
   "execution_count": 30,
   "metadata": {},
   "outputs": [
    {
     "name": "stdout",
     "output_type": "stream",
     "text": [
      "2\n",
      "2 3\n",
      "2 3 4 \n",
      "4 5 6\n",
      "9 15 \n",
      "2 2\n",
      "2 6\n",
      "3 4\n",
      "8 7 \n"
     ]
    }
   ],
   "source": [
    "import numpy as np \n",
    "  \n",
    "def row_sum(arr) : \n",
    "  \n",
    "    sum = 0\n",
    "    for i in range(n) : \n",
    "        for j in range(m) :\n",
    "            sum += arr[i][j] \n",
    "        print(sum, end = \" \")\n",
    "        sum = 0\n",
    "\n",
    "n = int(input())        \n",
    "for i in range(1,n+1):\n",
    "    str = input().split()\n",
    "    n,m = int(str[0]),int(str[1])\n",
    "    li = [[int(j) for j in input().split()] for i in range(n)]\n",
    "    row_sum(li)\n",
    "    print()"
   ]
  },
  {
   "cell_type": "code",
   "execution_count": 1,
   "metadata": {},
   "outputs": [
    {
     "name": "stdout",
     "output_type": "stream",
     "text": [
      "ChiTkAra\n",
      "hikraCTA\n"
     ]
    }
   ],
   "source": [
    "n = input()\n",
    "is_lower = \"\"\n",
    "is_upper = \"\"\n",
    "for i in n:\n",
    "    if i == i.upper():\n",
    "        is_upper = is_upper + i\n",
    "    else:\n",
    "        is_lower = is_lower + i\n",
    "print(is_lower+is_upper)"
   ]
  },
  {
   "cell_type": "code",
   "execution_count": 6,
   "metadata": {},
   "outputs": [
    {
     "name": "stdout",
     "output_type": "stream",
     "text": [
      "Date : 21 Month : Dec Year : 2020\n"
     ]
    }
   ],
   "source": [
    "import datetime\n",
    "x = datetime.datetime.now()\n",
    "print('Date :',x.day,'Month :',x.strftime(\"%b\"),'Year :',x.year)"
   ]
  },
  {
   "cell_type": "code",
   "execution_count": 8,
   "metadata": {},
   "outputs": [
    {
     "name": "stdout",
     "output_type": "stream",
     "text": [
      "abcd eghf\n"
     ]
    }
   ],
   "source": [
    "list1 = list(map(str,input().split()))"
   ]
  },
  {
   "cell_type": "code",
   "execution_count": 9,
   "metadata": {},
   "outputs": [
    {
     "data": {
      "text/plain": [
       "['abcd', 'eghf']"
      ]
     },
     "execution_count": 9,
     "metadata": {},
     "output_type": "execute_result"
    }
   ],
   "source": [
    "list1"
   ]
  },
  {
   "cell_type": "code",
   "execution_count": 11,
   "metadata": {},
   "outputs": [
    {
     "ename": "TypeError",
     "evalue": "can only concatenate str (not \"int\") to str",
     "output_type": "error",
     "traceback": [
      "\u001b[1;31m---------------------------------------------------------------------------\u001b[0m",
      "\u001b[1;31mTypeError\u001b[0m                                 Traceback (most recent call last)",
      "\u001b[1;32m<ipython-input-11-198919fdeb0b>\u001b[0m in \u001b[0;36m<module>\u001b[1;34m\u001b[0m\n\u001b[0;32m      3\u001b[0m     \u001b[1;32mfor\u001b[0m \u001b[0mj\u001b[0m \u001b[1;32min\u001b[0m \u001b[0mrange\u001b[0m\u001b[1;33m(\u001b[0m\u001b[1;36m1\u001b[0m\u001b[1;33m,\u001b[0m\u001b[0mv\u001b[0m\u001b[1;33m+\u001b[0m\u001b[1;36m1\u001b[0m\u001b[1;33m)\u001b[0m\u001b[1;33m:\u001b[0m\u001b[1;33m\u001b[0m\u001b[1;33m\u001b[0m\u001b[0m\n\u001b[0;32m      4\u001b[0m         \u001b[1;32mwhile\u001b[0m \u001b[0mj\u001b[0m \u001b[1;33m<=\u001b[0m \u001b[1;36m3\u001b[0m \u001b[1;33m:\u001b[0m\u001b[1;33m\u001b[0m\u001b[1;33m\u001b[0m\u001b[0m\n\u001b[1;32m----> 5\u001b[1;33m             \u001b[0mres\u001b[0m \u001b[1;33m=\u001b[0m \u001b[1;33m[\u001b[0m\u001b[0msub\u001b[0m\u001b[1;33m.\u001b[0m\u001b[0mreplace\u001b[0m\u001b[1;33m(\u001b[0m\u001b[0mi\u001b[0m\u001b[1;33m[\u001b[0m\u001b[0mj\u001b[0m\u001b[1;33m]\u001b[0m\u001b[1;33m,\u001b[0m \u001b[1;33m[\u001b[0m\u001b[0mi\u001b[0m\u001b[1;33m+\u001b[0m\u001b[1;36m1\u001b[0m\u001b[1;33m]\u001b[0m\u001b[1;33m[\u001b[0m\u001b[0mj\u001b[0m\u001b[1;33m]\u001b[0m\u001b[1;33m)\u001b[0m \u001b[1;32mfor\u001b[0m \u001b[0msub\u001b[0m \u001b[1;32min\u001b[0m \u001b[0mlist1\u001b[0m\u001b[1;33m]\u001b[0m\u001b[1;33m\u001b[0m\u001b[1;33m\u001b[0m\u001b[0m\n\u001b[0m\u001b[0;32m      6\u001b[0m             \u001b[0mj\u001b[0m \u001b[1;33m=\u001b[0m \u001b[0mj\u001b[0m \u001b[1;33m+\u001b[0m\u001b[1;36m1\u001b[0m\u001b[1;33m\u001b[0m\u001b[1;33m\u001b[0m\u001b[0m\n\u001b[0;32m      7\u001b[0m \u001b[0mprint\u001b[0m\u001b[1;33m(\u001b[0m\u001b[0mres\u001b[0m\u001b[1;33m)\u001b[0m\u001b[1;33m\u001b[0m\u001b[1;33m\u001b[0m\u001b[0m\n",
      "\u001b[1;32m<ipython-input-11-198919fdeb0b>\u001b[0m in \u001b[0;36m<listcomp>\u001b[1;34m(.0)\u001b[0m\n\u001b[0;32m      3\u001b[0m     \u001b[1;32mfor\u001b[0m \u001b[0mj\u001b[0m \u001b[1;32min\u001b[0m \u001b[0mrange\u001b[0m\u001b[1;33m(\u001b[0m\u001b[1;36m1\u001b[0m\u001b[1;33m,\u001b[0m\u001b[0mv\u001b[0m\u001b[1;33m+\u001b[0m\u001b[1;36m1\u001b[0m\u001b[1;33m)\u001b[0m\u001b[1;33m:\u001b[0m\u001b[1;33m\u001b[0m\u001b[1;33m\u001b[0m\u001b[0m\n\u001b[0;32m      4\u001b[0m         \u001b[1;32mwhile\u001b[0m \u001b[0mj\u001b[0m \u001b[1;33m<=\u001b[0m \u001b[1;36m3\u001b[0m \u001b[1;33m:\u001b[0m\u001b[1;33m\u001b[0m\u001b[1;33m\u001b[0m\u001b[0m\n\u001b[1;32m----> 5\u001b[1;33m             \u001b[0mres\u001b[0m \u001b[1;33m=\u001b[0m \u001b[1;33m[\u001b[0m\u001b[0msub\u001b[0m\u001b[1;33m.\u001b[0m\u001b[0mreplace\u001b[0m\u001b[1;33m(\u001b[0m\u001b[0mi\u001b[0m\u001b[1;33m[\u001b[0m\u001b[0mj\u001b[0m\u001b[1;33m]\u001b[0m\u001b[1;33m,\u001b[0m \u001b[1;33m[\u001b[0m\u001b[0mi\u001b[0m\u001b[1;33m+\u001b[0m\u001b[1;36m1\u001b[0m\u001b[1;33m]\u001b[0m\u001b[1;33m[\u001b[0m\u001b[0mj\u001b[0m\u001b[1;33m]\u001b[0m\u001b[1;33m)\u001b[0m \u001b[1;32mfor\u001b[0m \u001b[0msub\u001b[0m \u001b[1;32min\u001b[0m \u001b[0mlist1\u001b[0m\u001b[1;33m]\u001b[0m\u001b[1;33m\u001b[0m\u001b[1;33m\u001b[0m\u001b[0m\n\u001b[0m\u001b[0;32m      6\u001b[0m             \u001b[0mj\u001b[0m \u001b[1;33m=\u001b[0m \u001b[0mj\u001b[0m \u001b[1;33m+\u001b[0m\u001b[1;36m1\u001b[0m\u001b[1;33m\u001b[0m\u001b[1;33m\u001b[0m\u001b[0m\n\u001b[0;32m      7\u001b[0m \u001b[0mprint\u001b[0m\u001b[1;33m(\u001b[0m\u001b[0mres\u001b[0m\u001b[1;33m)\u001b[0m\u001b[1;33m\u001b[0m\u001b[1;33m\u001b[0m\u001b[0m\n",
      "\u001b[1;31mTypeError\u001b[0m: can only concatenate str (not \"int\") to str"
     ]
    }
   ],
   "source": [
    "for i in list1 :\n",
    "    v = len(i)\n",
    "    for j in range(1,v+1):\n",
    "        while j <= 3 :\n",
    "            res = [sub.replace(i[j], [i+1][j]) for sub in list1]\n",
    "            j = j +1\n",
    "print(res)"
   ]
  },
  {
   "cell_type": "code",
   "execution_count": 16,
   "metadata": {},
   "outputs": [
    {
     "name": "stdout",
     "output_type": "stream",
     "text": [
      "efgh pqrs\n",
      "pqrh efgs\n"
     ]
    }
   ],
   "source": [
    "def chars_mix_up(a, b):\n",
    "    new_a = b[:3] + a[3:]\n",
    "    new_b = a[:3] + b[3:]\n",
    "\n",
    "    return new_a + ' ' + new_b\n",
    "\n",
    "list1 = list(map(str,input().split()))\n",
    "for i in list1:\n",
    "    a = list1[0]\n",
    "    b = list1[1]\n",
    "    \n",
    "print(chars_mix_up(a, b))"
   ]
  },
  {
   "cell_type": "code",
   "execution_count": 18,
   "metadata": {},
   "outputs": [
    {
     "name": "stdout",
     "output_type": "stream",
     "text": [
      "This is Mango Fruit\n",
      "Mango\n",
      "Yes\n"
     ]
    }
   ],
   "source": [
    "def WP(s, w): \n",
    "    s = s.split(\" \") \n",
    "    for i in s: \n",
    "        if (i == w): \n",
    "            return True\n",
    "    return False\n",
    "\n",
    "s = input()\n",
    "w = input()\n",
    "  \n",
    "if (WP(s, w)): \n",
    "    print(\"Yes\") \n",
    "else: \n",
    "    print(\"No\")  "
   ]
  },
  {
   "cell_type": "code",
   "execution_count": 3,
   "metadata": {},
   "outputs": [],
   "source": [
    "value = 'bcdjbcdscv'\n",
    "value = 'bcdvfdvdfvvdfvv'\n",
    "value = 'bcvfdvdfvcdjbcdscv'\n",
    "\n",
    "def count_letters(word, char):\n",
    "    count = 0\n",
    "    for c in word:\n",
    "        \n",
    "        if char == c:\n",
    "            count += 1\n",
    "    return count"
   ]
  },
  {
   "cell_type": "code",
   "execution_count": 7,
   "metadata": {},
   "outputs": [
    {
     "name": "stdout",
     "output_type": "stream",
     "text": [
      "e4\n"
     ]
    }
   ],
   "source": [
    "test_str = \"GeeksforGeeks\"\n",
    "  \n",
    "# using naive method to get count  \n",
    "# counting e  \n",
    "count = 0\n",
    "  \n",
    "for i in test_str: \n",
    "    if i == 'e': \n",
    "        count = count + 1\n",
    "  \n",
    "# printing result  \n",
    "print (\"e\"+  str(count)) \n"
   ]
  },
  {
   "cell_type": "code",
   "execution_count": 22,
   "metadata": {},
   "outputs": [
    {
     "name": "stdout",
     "output_type": "stream",
     "text": [
      "aabbccdde\n"
     ]
    },
    {
     "ename": "TypeError",
     "evalue": "string indices must be integers",
     "output_type": "error",
     "traceback": [
      "\u001b[1;31m---------------------------------------------------------------------------\u001b[0m",
      "\u001b[1;31mTypeError\u001b[0m                                 Traceback (most recent call last)",
      "\u001b[1;32m<ipython-input-22-6b1d83d69f41>\u001b[0m in \u001b[0;36m<module>\u001b[1;34m\u001b[0m\n\u001b[0;32m      6\u001b[0m \u001b[1;33m\u001b[0m\u001b[0m\n\u001b[0;32m      7\u001b[0m \u001b[0mstr1\u001b[0m \u001b[1;33m=\u001b[0m \u001b[0mstr\u001b[0m\u001b[1;33m(\u001b[0m\u001b[0minput\u001b[0m\u001b[1;33m(\u001b[0m\u001b[1;33m)\u001b[0m\u001b[1;33m)\u001b[0m\u001b[1;33m\u001b[0m\u001b[1;33m\u001b[0m\u001b[0m\n\u001b[1;32m----> 8\u001b[1;33m \u001b[0mcount\u001b[0m\u001b[1;33m(\u001b[0m\u001b[0mstr1\u001b[0m\u001b[1;33m)\u001b[0m\u001b[1;33m\u001b[0m\u001b[1;33m\u001b[0m\u001b[0m\n\u001b[0m\u001b[0;32m      9\u001b[0m \u001b[0mprint\u001b[0m\u001b[1;33m(\u001b[0m\u001b[0mi\u001b[0m\u001b[1;33m+\u001b[0m\u001b[0mstr\u001b[0m\u001b[1;33m(\u001b[0m\u001b[0mcount\u001b[0m\u001b[1;33m)\u001b[0m\u001b[1;33m)\u001b[0m\u001b[1;33m\u001b[0m\u001b[1;33m\u001b[0m\u001b[0m\n",
      "\u001b[1;32m<ipython-input-22-6b1d83d69f41>\u001b[0m in \u001b[0;36mcount\u001b[1;34m(str1)\u001b[0m\n\u001b[0;32m      2\u001b[0m     \u001b[0mcount\u001b[0m \u001b[1;33m=\u001b[0m \u001b[1;36m0\u001b[0m\u001b[1;33m\u001b[0m\u001b[1;33m\u001b[0m\u001b[0m\n\u001b[0;32m      3\u001b[0m     \u001b[1;32mfor\u001b[0m \u001b[0mi\u001b[0m \u001b[1;32min\u001b[0m \u001b[0mstr1\u001b[0m\u001b[1;33m:\u001b[0m\u001b[1;33m\u001b[0m\u001b[1;33m\u001b[0m\u001b[0m\n\u001b[1;32m----> 4\u001b[1;33m         \u001b[1;32mif\u001b[0m \u001b[0mstr1\u001b[0m\u001b[1;33m[\u001b[0m\u001b[0mi\u001b[0m\u001b[1;33m]\u001b[0m \u001b[1;33m==\u001b[0m \u001b[0mstr1\u001b[0m\u001b[1;33m[\u001b[0m\u001b[0mi\u001b[0m\u001b[1;33m+\u001b[0m\u001b[1;36m1\u001b[0m\u001b[1;33m]\u001b[0m\u001b[1;33m:\u001b[0m\u001b[1;33m\u001b[0m\u001b[1;33m\u001b[0m\u001b[0m\n\u001b[0m\u001b[0;32m      5\u001b[0m             \u001b[0mcount\u001b[0m \u001b[1;33m+=\u001b[0m \u001b[1;36m1\u001b[0m\u001b[1;33m\u001b[0m\u001b[1;33m\u001b[0m\u001b[0m\n\u001b[0;32m      6\u001b[0m \u001b[1;33m\u001b[0m\u001b[0m\n",
      "\u001b[1;31mTypeError\u001b[0m: string indices must be integers"
     ]
    }
   ],
   "source": [
    "def count(str1):\n",
    "    count = 0\n",
    "    for i in str1:\n",
    "        if str1[i] == str1[i+1]:\n",
    "            count += 1\n",
    "            \n",
    "str1 = str(input())\n",
    "count(str1)\n",
    "print(i+str(count))"
   ]
  },
  {
   "cell_type": "code",
   "execution_count": 10,
   "metadata": {},
   "outputs": [
    {
     "name": "stdout",
     "output_type": "stream",
     "text": [
      "50 80 30 44 20 90 70\n",
      "384\n"
     ]
    }
   ],
   "source": [
    "a = list(map(int,input().split()))\n",
    "sum_ele = 0\n",
    "for i in a:\n",
    "    sum_ele = sum_ele + i\n",
    "print(sum_ele)"
   ]
  },
  {
   "cell_type": "code",
   "execution_count": 19,
   "metadata": {},
   "outputs": [
    {
     "name": "stdout",
     "output_type": "stream",
     "text": [
      "5\n",
      "aman\n",
      "75 50 90 80 90 70\n",
      "aman 455\n",
      "harry\n",
      "71 70 78 66 59\n",
      "harry 344\n",
      "archana\n",
      "49 57 48 21 98 37\n",
      "archana 310\n",
      "aditya\n",
      "90 89 79 92 81 71\n",
      "aditya 502\n",
      "disha\n",
      "79 81 74 71 69 73\n",
      "disha 447\n"
     ]
    }
   ],
   "source": [
    "x = int(input())\n",
    "d = 1\n",
    "while d <= x:\n",
    "    n = (input())\n",
    "    a = list(map(int,input().split()))\n",
    "    sum_ele = 0\n",
    "    for i in a:\n",
    "        sum_ele = sum_ele + i\n",
    "    print(n,sum_ele)\n",
    "    d = d + 1"
   ]
  },
  {
   "cell_type": "code",
   "execution_count": 23,
   "metadata": {},
   "outputs": [
    {
     "name": "stdout",
     "output_type": "stream",
     "text": [
      "date :21 month:dec year:2020\n"
     ]
    }
   ],
   "source": [
    "date_str = '21-dec-2020'\n",
    "d,m,y = date_str.split('-')\n",
    "print(\"date :{0} month:{1} year:{2}\".format(d,m,y))"
   ]
  },
  {
   "cell_type": "code",
   "execution_count": 24,
   "metadata": {},
   "outputs": [
    {
     "name": "stdout",
     "output_type": "stream",
     "text": [
      "aman 455\n",
      "harry 426\n",
      "archana 310\n",
      "aditya 502\n",
      "disha 447\n"
     ]
    }
   ],
   "source": [
    "std_score =['aman|75 50 90 80 90 70',\n",
    "'harry|71 70 78 66 82 59',\n",
    "'archana|49 57 48 21 98 37',\n",
    "'aditya|90 89 79 92 81 71',\n",
    "'disha|79 81 74 71 69 73']\n",
    "\n",
    "def student_total_scores(std_score):\n",
    "    \n",
    "    for item in std_score:\n",
    "        f, s = item.split(\"|\")\n",
    "        print(f,sum(map(int,s.split())))\n",
    "   \n",
    "        #print(item)\n",
    "student_total_scores(std_score)"
   ]
  },
  {
   "cell_type": "code",
   "execution_count": 25,
   "metadata": {},
   "outputs": [
    {
     "name": "stdout",
     "output_type": "stream",
     "text": [
      "384\n"
     ]
    }
   ],
   "source": [
    "arr = \"50,80,30,44,20,90,70\" \n",
    "total = sum(map(int,arr.split(','))) \n",
    "print(total)"
   ]
  },
  {
   "cell_type": "code",
   "execution_count": 4,
   "metadata": {},
   "outputs": [
    {
     "name": "stdout",
     "output_type": "stream",
     "text": [
      "2\n",
      "1 2 3 4 5\n",
      "[1, 2, 3, 4, 5]\n",
      "3 4 5 5\n",
      "[3, 4, 5, 5]\n"
     ]
    }
   ],
   "source": [
    "n = int(input())\n",
    "for i in range(n):\n",
    "    li = list(map(int,input().split()))\n",
    "    print(li)"
   ]
  },
  {
   "cell_type": "code",
   "execution_count": null,
   "metadata": {},
   "outputs": [],
   "source": []
  }
 ],
 "metadata": {
  "kernelspec": {
   "display_name": "Python 3",
   "language": "python",
   "name": "python3"
  },
  "language_info": {
   "codemirror_mode": {
    "name": "ipython",
    "version": 3
   },
   "file_extension": ".py",
   "mimetype": "text/x-python",
   "name": "python",
   "nbconvert_exporter": "python",
   "pygments_lexer": "ipython3",
   "version": "3.8.8"
  }
 },
 "nbformat": 4,
 "nbformat_minor": 4
}
