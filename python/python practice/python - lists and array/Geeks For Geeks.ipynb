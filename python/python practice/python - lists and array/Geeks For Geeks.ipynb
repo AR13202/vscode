{
 "cells": [
  {
   "cell_type": "code",
   "execution_count": 6,
   "metadata": {},
   "outputs": [
    {
     "name": "stdout",
     "output_type": "stream",
     "text": [
      "2\n",
      "3\n",
      "3 2 1\n",
      "6\n",
      "4\n",
      "1 2 3 4\n",
      "10\n"
     ]
    }
   ],
   "source": [
    "n = int(input())\n",
    "for i  in range(1,n+1):\n",
    "    a = int(input())\n",
    "    li = list(map(int,input().split()))\n",
    "    z = 0\n",
    "    for j in li:\n",
    "        z += j\n",
    "    print(z)"
   ]
  },
  {
   "cell_type": "code",
   "execution_count": 12,
   "metadata": {},
   "outputs": [
    {
     "name": "stdout",
     "output_type": "stream",
     "text": [
      "4\n",
      "1 2 3 4\n",
      "5\n",
      "-1\n"
     ]
    }
   ],
   "source": [
    "def search(arr,N,X):\n",
    "    while X in arr:\n",
    "        a = arr.index(X)\n",
    "        return a\n",
    "    else:\n",
    "        return -1\n",
    "N = int(input())\n",
    "arr = list(map(int,input().split()))\n",
    "X = int(input())\n",
    "print(search(arr,N,X))"
   ]
  },
  {
   "cell_type": "code",
   "execution_count": 13,
   "metadata": {},
   "outputs": [
    {
     "name": "stdout",
     "output_type": "stream",
     "text": [
      "3\n",
      "ckjkUUYII\n",
      "5\n",
      "HKJT\n",
      "4\n",
      "njnnk\n",
      "0\n"
     ]
    }
   ],
   "source": [
    "T = int(input())\n",
    "for i in range(1,T+1):\n",
    "    S = input()\n",
    "    count = 0\n",
    "    for j in S[0:]:\n",
    "        if j == j.upper():\n",
    "            count += 1\n",
    "    print(count)"
   ]
  },
  {
   "cell_type": "code",
   "execution_count": 45,
   "metadata": {},
   "outputs": [
    {
     "name": "stdout",
     "output_type": "stream",
     "text": [
      "1\n",
      "lp!k5\n",
      "lp!k5\n",
      "lp!k\n",
      "lp!\n",
      "lp\n",
      "l\n"
     ]
    }
   ],
   "source": [
    "T = int(input())\n",
    "for h in range(1,T+1):\n",
    "    N = input()\n",
    "    a = len(N)\n",
    "    for k in range(1,a+1):\n",
    "        print(N[0:a-k+1], end = \"\")\n",
    "        print()"
   ]
  },
  {
   "cell_type": "code",
   "execution_count": null,
   "metadata": {},
   "outputs": [],
   "source": []
  }
 ],
 "metadata": {
  "kernelspec": {
   "display_name": "Python 3",
   "language": "python",
   "name": "python3"
  },
  "language_info": {
   "codemirror_mode": {
    "name": "ipython",
    "version": 3
   },
   "file_extension": ".py",
   "mimetype": "text/x-python",
   "name": "python",
   "nbconvert_exporter": "python",
   "pygments_lexer": "ipython3",
   "version": "3.8.3"
  }
 },
 "nbformat": 4,
 "nbformat_minor": 4
}
