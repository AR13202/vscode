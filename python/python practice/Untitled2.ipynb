{
 "cells": [
  {
   "cell_type": "code",
   "execution_count": 8,
   "metadata": {},
   "outputs": [],
   "source": [
    "import tkinter as Tk"
   ]
  },
  {
   "cell_type": "code",
   "execution_count": null,
   "metadata": {},
   "outputs": [],
   "source": [
    "win = Tk.Tk()\n",
    "### you can add widgets here\n",
    "win.mainloop()"
   ]
  },
  {
   "cell_type": "code",
   "execution_count": null,
   "metadata": {},
   "outputs": [],
   "source": [
    "from tkinter import *\n",
    "\n",
    "root = Tk() \n",
    "root.geometry(\"300x300\") \n",
    "\n",
    "w = Label(root, text ='StudyTonight', fg=\"Blue\",font = \"100\") \n",
    "w.pack() \n",
    "\n",
    "Checkbutton1 = IntVar() \n",
    "Checkbutton2 = IntVar() \n",
    "Checkbutton3 = IntVar() \n",
    "\n",
    "Button1 = Checkbutton(root, text = \"Homepage\", \n",
    "\t\t\t\t\tvariable = Checkbutton1, \n",
    "\t\t\t\t\tonvalue = 1, \n",
    "\t\t\t\t\toffvalue = 0, \n",
    "\t\t\t\t\theight = 2, \n",
    "\t\t\t\t\twidth = 10) \n",
    "\n",
    "Button2 = Checkbutton(root, text = \"Tutorials\", \n",
    "\t\t\t\t\tvariable = Checkbutton2, \n",
    "\t\t\t\t\tonvalue = 1, \n",
    "\t\t\t\t\toffvalue = 0, \n",
    "\t\t\t\t\theight = 2, \n",
    "\t\t\t\t\twidth = 10) \n",
    "\n",
    "Button3 = Checkbutton(root, text = \"Contactus\", \n",
    "\t\t\t\t\tvariable = Checkbutton3, \n",
    "\t\t\t\t\tonvalue = 1, \n",
    "\t\t\t\t\toffvalue = 0, \n",
    "\t\t\t\t\theight = 2, \n",
    "\t\t\t\t\twidth = 10) \n",
    "\t\n",
    "Button1.pack() \n",
    "Button2.pack() \n",
    "Button3.pack() \n",
    "\n",
    "mainloop()"
   ]
  },
  {
   "cell_type": "code",
   "execution_count": null,
   "metadata": {},
   "outputs": [],
   "source": []
  }
 ],
 "metadata": {
  "kernelspec": {
   "display_name": "Python 3",
   "language": "python",
   "name": "python3"
  },
  "language_info": {
   "codemirror_mode": {
    "name": "ipython",
    "version": 3
   },
   "file_extension": ".py",
   "mimetype": "text/x-python",
   "name": "python",
   "nbconvert_exporter": "python",
   "pygments_lexer": "ipython3",
   "version": "3.8.3"
  }
 },
 "nbformat": 4,
 "nbformat_minor": 4
}
