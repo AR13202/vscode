{
 "cells": [
  {
   "cell_type": "code",
   "execution_count": 7,
   "metadata": {},
   "outputs": [
    {
     "name": "stdout",
     "output_type": "stream",
     "text": [
      "3\n",
      "1 2 3\n",
      "1\n",
      "2\n",
      "1\n"
     ]
    }
   ],
   "source": [
    "def binarySearch(arr,element):\n",
    "    start = 0\n",
    "    end = len(arr)-1\n",
    "    while(start<=end):\n",
    "        mid = (start+end)//2\n",
    "        if(arr[mid] == element):\n",
    "            return mid\n",
    "        elif(arr[mid] < element):\n",
    "            start = mid + 1\n",
    "        else:\n",
    "            end = mid - 1\n",
    "    return -1\n",
    "\n",
    "n = int(input())\n",
    "arr = list(map(int,input().split()))\n",
    "a = int(input())\n",
    "i = 1\n",
    "while i <= a:\n",
    "    b = int(input())\n",
    "    index = binarySearch(arr,b)\n",
    "    print(index)\n",
    "    i = i + 1"
   ]
  },
  {
   "cell_type": "code",
   "execution_count": 8,
   "metadata": {},
   "outputs": [
    {
     "name": "stdout",
     "output_type": "stream",
     "text": [
      "2\n",
      "5\n",
      "4 5 3 2 1\n",
      "[1, 2, 3, 4, 5]\n",
      "5\n",
      "4 7 3 5 6\n",
      "[3, 4, 5, 6, 7]\n"
     ]
    }
   ],
   "source": [
    "def bubbleSort(arr):\n",
    "    \n",
    "    length = len(arr)\n",
    "    # i is for n-1 rounds\n",
    "    # j is for in each round I need to go till length-1-i\n",
    "    for i in range(length-1):\n",
    "        for j in range(length-1-i):\n",
    "            if(arr[j] > arr[j+1]):\n",
    "                temp = arr[j]\n",
    "                arr[j] = arr[j+1]\n",
    "                arr[j+1] = temp\n",
    "                \n",
    "n = int(input())\n",
    "i = 1\n",
    "while i <= n:\n",
    "    a = int(input())\n",
    "    arr = list(map(int,input().split()))\n",
    "    bubbleSort(arr)\n",
    "    print(arr)\n",
    "    i = i + 1"
   ]
  },
  {
   "cell_type": "code",
   "execution_count": 10,
   "metadata": {},
   "outputs": [
    {
     "name": "stdout",
     "output_type": "stream",
     "text": [
      "1\n",
      "5\n",
      "4 5 3 7 8\n",
      "3 4 5 7 8\n"
     ]
    }
   ],
   "source": [
    "def bubbleSort(arr):\n",
    "    \n",
    "    length = len(arr)\n",
    "    # i is for n-1 rounds\n",
    "    # j is for in each round I need to go till length-1-i\n",
    "    for i in range(length-1):\n",
    "        for j in range(length-1-i):\n",
    "            if(arr[j] > arr[j+1]):\n",
    "                temp = arr[j]\n",
    "                arr[j] = arr[j+1]\n",
    "                arr[j+1] = temp\n",
    "                \n",
    "n = int(input())\n",
    "i = 1\n",
    "while i <= n:\n",
    "    a = int(input())\n",
    "    arr = list(map(int,input().split()))\n",
    "    bubbleSort(arr)\n",
    "    res = str(arr)[1:-1]\n",
    "    s = res.replace(',','')\n",
    "    print(s)\n",
    "    i = i + 1"
   ]
  },
  {
   "cell_type": "code",
   "execution_count": 12,
   "metadata": {},
   "outputs": [
    {
     "name": "stdout",
     "output_type": "stream",
     "text": [
      "2\n",
      "5\n",
      "4 7 6 4 3\n",
      "3 4 4 6 7\n",
      "7\n",
      "3 6 8 5 3 7 9\n",
      "3 3 5 6 7 8 9\n"
     ]
    }
   ],
   "source": [
    "def insertionSort(arr):\n",
    "    \n",
    "    length = len(arr)\n",
    "    for i in range(1,length):\n",
    "        j=i-1\n",
    "        temp = arr[i]\n",
    "        while(j>=0 and arr[j] > temp):\n",
    "            arr[j+1] = arr[j]\n",
    "            j = j - 1\n",
    "        arr[j+1] = temp\n",
    "        \n",
    "n = int(input())\n",
    "i = 1\n",
    "while i <= n:\n",
    "    a = int(input())\n",
    "    arr = list(map(int,input().split()))\n",
    "    insertionSort(arr)\n",
    "    res = str(arr)[1:-1]\n",
    "    s = res.replace(',','')\n",
    "    print(s)\n",
    "    i = i + 1"
   ]
  },
  {
   "cell_type": "code",
   "execution_count": 15,
   "metadata": {},
   "outputs": [
    {
     "name": "stdout",
     "output_type": "stream",
     "text": [
      "2\n",
      "4\n",
      "1 3 5 7\n",
      "4\n",
      "2 4 6 8\n",
      "1 2 3 4 5 6 7 8\n",
      "4\n",
      "6 7 8 9\n",
      "0\n",
      "\n",
      "6 7 8 9\n"
     ]
    }
   ],
   "source": [
    "def mergeSortedArrays(arr1,arr2):\n",
    "    i=0\n",
    "    j=0\n",
    "    len1 = len(arr1)\n",
    "    len2 = len(arr2)\n",
    "    \n",
    "    arr = []\n",
    "    \n",
    "    while((i<len1) and (j < len2)):\n",
    "        if(arr1[i] < arr2[j]):\n",
    "            arr.append(arr1[i])\n",
    "            i = i + 1\n",
    "        else:\n",
    "            arr.append(arr2[j])\n",
    "            j = j + 1\n",
    "    while(i < len1):\n",
    "        arr.append(arr1[i])\n",
    "        i = i + 1\n",
    "        \n",
    "    while(j < len2):\n",
    "        arr.append(arr2[j])\n",
    "        j = j + 1\n",
    "    return arr\n",
    "\n",
    "n = int(input())\n",
    "i = 1\n",
    "while i <= n:\n",
    "    a = int(input())\n",
    "    arr1 = list(map(int,input().split()))\n",
    "    b = int(input())\n",
    "    arr2 = list(map(int,input().split()))\n",
    "    arr = mergeSortedArrays(arr1, arr2)\n",
    "    res = str(arr)[1:-1]\n",
    "    s = res.replace(',','')\n",
    "    print(s)\n",
    "    i = i + 1"
   ]
  },
  {
   "cell_type": "markdown",
   "metadata": {},
   "source": [
    "#### Triplet Sum"
   ]
  },
  {
   "cell_type": "code",
   "execution_count": 16,
   "metadata": {},
   "outputs": [
    {
     "name": "stdout",
     "output_type": "stream",
     "text": [
      "Triplet is 4 ,  10 ,  8\n"
     ]
    },
    {
     "data": {
      "text/plain": [
       "True"
      ]
     },
     "execution_count": 16,
     "metadata": {},
     "output_type": "execute_result"
    }
   ],
   "source": [
    "# Python3 program to find a triplet  \n",
    "# that sum to a given value \n",
    "  \n",
    "# returns true if there is triplet with \n",
    "# sum equal to 'sum' present in A[].  \n",
    "# Also, prints the triplet \n",
    "def find3Numbers(A, arr_size, sum): \n",
    "  \n",
    "    # Fix the first element as A[i] \n",
    "    for i in range( 0, arr_size-2): \n",
    "  \n",
    "        # Fix the second element as A[j] \n",
    "        for j in range(i + 1, arr_size-1):  \n",
    "              \n",
    "            # Now look for the third number \n",
    "            for k in range(j + 1, arr_size): \n",
    "                if A[i] + A[j] + A[k] == sum: \n",
    "                    print(\"Triplet is\", A[i], \n",
    "                          \", \", A[j], \", \", A[k]) \n",
    "                    return True\n",
    "      \n",
    "    # If we reach here, then no  \n",
    "    # triplet was found \n",
    "    return False\n",
    "  \n",
    "# Driver program to test above function  \n",
    "A = [1, 4, 45, 6, 10, 8] \n",
    "sum = 22\n",
    "arr_size = len(A) \n",
    "find3Numbers(A, arr_size, sum)"
   ]
  },
  {
   "cell_type": "code",
   "execution_count": null,
   "metadata": {},
   "outputs": [],
   "source": []
  }
 ],
 "metadata": {
  "kernelspec": {
   "display_name": "Python 3",
   "language": "python",
   "name": "python3"
  },
  "language_info": {
   "codemirror_mode": {
    "name": "ipython",
    "version": 3
   },
   "file_extension": ".py",
   "mimetype": "text/x-python",
   "name": "python",
   "nbconvert_exporter": "python",
   "pygments_lexer": "ipython3",
   "version": "3.8.3"
  }
 },
 "nbformat": 4,
 "nbformat_minor": 4
}
