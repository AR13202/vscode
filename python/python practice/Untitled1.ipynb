{
 "cells": [
  {
   "cell_type": "code",
   "execution_count": 2,
   "metadata": {},
   "outputs": [
    {
     "name": "stdout",
     "output_type": "stream",
     "text": [
      "abcdef\n",
      "wedbfg\n",
      "4\n"
     ]
    }
   ],
   "source": [
    "def match(a, b) :  \n",
    "  \n",
    "    c = 0; x = 0;  \n",
    "    for i in range(len(a)) : \n",
    "   \n",
    "        if a[i] in b :  \n",
    "            c += 1;   \n",
    "        x += 1;  \n",
    "      \n",
    "    print(c);   \n",
    "a = input(); \n",
    "b = input(); \n",
    "      \n",
    "match(a, b);  "
   ]
  },
  {
   "cell_type": "code",
   "execution_count": null,
   "metadata": {},
   "outputs": [],
   "source": []
  }
 ],
 "metadata": {
  "kernelspec": {
   "display_name": "Python 3",
   "language": "python",
   "name": "python3"
  },
  "language_info": {
   "codemirror_mode": {
    "name": "ipython",
    "version": 3
   },
   "file_extension": ".py",
   "mimetype": "text/x-python",
   "name": "python",
   "nbconvert_exporter": "python",
   "pygments_lexer": "ipython3",
   "version": "3.8.3"
  }
 },
 "nbformat": 4,
 "nbformat_minor": 4
}
